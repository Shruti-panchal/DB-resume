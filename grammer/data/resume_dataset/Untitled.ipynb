{
 "cells": [
  {
   "cell_type": "code",
   "execution_count": 1,
   "id": "9133305b",
   "metadata": {},
   "outputs": [
    {
     "name": "stdout",
     "output_type": "stream",
     "text": [
      "Requirement already satisfied: unidecode in c:\\users\\dell\\anaconda3\\lib\\site-packages (1.2.0)\n",
      "Note: you may need to restart the kernel to use updated packages.\n"
     ]
    }
   ],
   "source": [
    "pip install unidecode"
   ]
  },
  {
   "cell_type": "code",
   "execution_count": 2,
   "id": "6851e5c0",
   "metadata": {},
   "outputs": [],
   "source": [
    "import pandas as pd \n",
    "import numpy as np\n",
    "import re\n",
    "from unidecode import unidecode"
   ]
  },
  {
   "cell_type": "code",
   "execution_count": 3,
   "id": "c0e0c83f",
   "metadata": {},
   "outputs": [
    {
     "data": {
      "text/html": [
       "<div>\n",
       "<style scoped>\n",
       "    .dataframe tbody tr th:only-of-type {\n",
       "        vertical-align: middle;\n",
       "    }\n",
       "\n",
       "    .dataframe tbody tr th {\n",
       "        vertical-align: top;\n",
       "    }\n",
       "\n",
       "    .dataframe thead th {\n",
       "        text-align: right;\n",
       "    }\n",
       "</style>\n",
       "<table border=\"1\" class=\"dataframe\">\n",
       "  <thead>\n",
       "    <tr style=\"text-align: right;\">\n",
       "      <th></th>\n",
       "      <th>Category</th>\n",
       "      <th>Resume</th>\n",
       "    </tr>\n",
       "  </thead>\n",
       "  <tbody>\n",
       "    <tr>\n",
       "      <th>0</th>\n",
       "      <td>Data Science</td>\n",
       "      <td>Skills * Programming Languages: Python (pandas...</td>\n",
       "    </tr>\n",
       "    <tr>\n",
       "      <th>1</th>\n",
       "      <td>Data Science</td>\n",
       "      <td>Education Details \\r\\nMay 2013 to May 2017 B.E...</td>\n",
       "    </tr>\n",
       "    <tr>\n",
       "      <th>2</th>\n",
       "      <td>Data Science</td>\n",
       "      <td>Areas of Interest Deep Learning, Control Syste...</td>\n",
       "    </tr>\n",
       "    <tr>\n",
       "      <th>3</th>\n",
       "      <td>Data Science</td>\n",
       "      <td>Skills â¢ R â¢ Python â¢ SAP HANA â¢ Table...</td>\n",
       "    </tr>\n",
       "    <tr>\n",
       "      <th>4</th>\n",
       "      <td>Data Science</td>\n",
       "      <td>Education Details \\r\\n MCA   YMCAUST,  Faridab...</td>\n",
       "    </tr>\n",
       "    <tr>\n",
       "      <th>...</th>\n",
       "      <td>...</td>\n",
       "      <td>...</td>\n",
       "    </tr>\n",
       "    <tr>\n",
       "      <th>957</th>\n",
       "      <td>Testing</td>\n",
       "      <td>Computer Skills: â¢ Proficient in MS office (...</td>\n",
       "    </tr>\n",
       "    <tr>\n",
       "      <th>958</th>\n",
       "      <td>Testing</td>\n",
       "      <td>â Willingness to accept the challenges. â ...</td>\n",
       "    </tr>\n",
       "    <tr>\n",
       "      <th>959</th>\n",
       "      <td>Testing</td>\n",
       "      <td>PERSONAL SKILLS â¢ Quick learner, â¢ Eagerne...</td>\n",
       "    </tr>\n",
       "    <tr>\n",
       "      <th>960</th>\n",
       "      <td>Testing</td>\n",
       "      <td>COMPUTER SKILLS &amp; SOFTWARE KNOWLEDGE MS-Power ...</td>\n",
       "    </tr>\n",
       "    <tr>\n",
       "      <th>961</th>\n",
       "      <td>Testing</td>\n",
       "      <td>Skill Set OS Windows XP/7/8/8.1/10 Database MY...</td>\n",
       "    </tr>\n",
       "  </tbody>\n",
       "</table>\n",
       "<p>962 rows × 2 columns</p>\n",
       "</div>"
      ],
      "text/plain": [
       "         Category                                             Resume\n",
       "0    Data Science  Skills * Programming Languages: Python (pandas...\n",
       "1    Data Science  Education Details \\r\\nMay 2013 to May 2017 B.E...\n",
       "2    Data Science  Areas of Interest Deep Learning, Control Syste...\n",
       "3    Data Science  Skills â¢ R â¢ Python â¢ SAP HANA â¢ Table...\n",
       "4    Data Science  Education Details \\r\\n MCA   YMCAUST,  Faridab...\n",
       "..            ...                                                ...\n",
       "957       Testing  Computer Skills: â¢ Proficient in MS office (...\n",
       "958       Testing  â Willingness to accept the challenges. â ...\n",
       "959       Testing  PERSONAL SKILLS â¢ Quick learner, â¢ Eagerne...\n",
       "960       Testing  COMPUTER SKILLS & SOFTWARE KNOWLEDGE MS-Power ...\n",
       "961       Testing  Skill Set OS Windows XP/7/8/8.1/10 Database MY...\n",
       "\n",
       "[962 rows x 2 columns]"
      ]
     },
     "execution_count": 3,
     "metadata": {},
     "output_type": "execute_result"
    }
   ],
   "source": [
    "old = pd.read_csv(\"UpdatedResumeDataSet.csv\")\n",
    "old"
   ]
  },
  {
   "cell_type": "code",
   "execution_count": 4,
   "id": "5ce965f7",
   "metadata": {},
   "outputs": [],
   "source": [
    "def remove(resume):\n",
    "    resume = re.sub('[^A-Za-z0-9 ]+',' ', resume)\n",
    "    resume = resume.lower()\n",
    "    return unidecode(resume)"
   ]
  },
  {
   "cell_type": "code",
   "execution_count": 5,
   "id": "2e79d7e5",
   "metadata": {},
   "outputs": [
    {
     "data": {
      "text/plain": [
       "0      skills   programming languages  python  pandas...\n",
       "1      education details  may 2013 to may 2017 b e   ...\n",
       "2      areas of interest deep learning  control syste...\n",
       "3      skills   r   python   sap hana   tableau   sap...\n",
       "4      education details   mca   ymcaust   faridabad ...\n",
       "                             ...                        \n",
       "957    computer skills    proficient in ms office  wo...\n",
       "958      willingness to accept the challenges    posi...\n",
       "959    personal skills   quick learner    eagerness t...\n",
       "960    computer skills   software knowledge ms power ...\n",
       "961    skill set os windows xp 7 8 8 1 10 database my...\n",
       "Name: Resume, Length: 962, dtype: object"
      ]
     },
     "execution_count": 5,
     "metadata": {},
     "output_type": "execute_result"
    }
   ],
   "source": [
    "old['Resume'] = old['Resume'].apply(remove)\n",
    "old['Resume']"
   ]
  },
  {
   "cell_type": "code",
   "execution_count": 14,
   "id": "7399810d",
   "metadata": {},
   "outputs": [],
   "source": [
    "old['Resume']="
   ]
  },
  {
   "cell_type": "code",
   "execution_count": 16,
   "id": "90aa981f",
   "metadata": {},
   "outputs": [
    {
     "data": {
      "text/plain": [
       "['personal skills   ability to quickly grasp technical aspects and willingness to learn   high energy levels   result oriented  education details  january 2018 master of engineering computer technology   application bhopal  madhya pradesh truba institute of engineering   information technology january 2010 b e  computer science bhopal  madhya pradesh rkdf institute of science and technology college of engineering january 2006 polytechnic information technology vidisha  madhya pradesh sati engineering college in vidisha january 2003 m tech thesis detail  bmch school in ganj basoda data science  i have six month experience in data science  key skills    experience in machine learning  deep leaning  nlp  python  sql  web scraping good knowledge in computer subjects and ability to update skill details  experience in machine learning  deep learning  nlp  python  sql  web crawling  html css  exprience   less than 1 year monthscompany details  company   rnt ai technology solution description   text classification using machine learning algorithms with python practical knowledge of deep learning algorithms such as  recurrent neural networks rnn develop custom data models and algorithms to apply to dataset experience with python packages like pandas  scikit learn  tensor flow  numpy  matplotliv  nltk comfort with sql   mysql sentiment analysis apply leave dataset using classification technique like tf idf   lsa with cosine similarity using machine learning algorithms web crawling using selenium web driver and beautiful soup with python company   life insurance corporation of india bhopal description    explaining policy features and the benefits  updated knowledge of life insurance products and shared with customers']"
      ]
     },
     "execution_count": 16,
     "metadata": {},
     "output_type": "execute_result"
    }
   ],
   "source": [
    "old['Resume'][8] "
   ]
  },
  {
   "cell_type": "code",
   "execution_count": 17,
   "id": "fc652527",
   "metadata": {},
   "outputs": [],
   "source": [
    "old['Skills'] = old['Resume'].str.extract(r'(skills?.+)education', flags= re.IGNORECASE | re.DOTALL)"
   ]
  },
  {
   "cell_type": "code",
   "execution_count": 18,
   "id": "5189422c",
   "metadata": {},
   "outputs": [
    {
     "name": "stderr",
     "output_type": "stream",
     "text": [
      "C:\\Users\\DeLL\\AppData\\Local\\Temp\\ipykernel_4636\\2688159184.py:1: FutureWarning: The default value of regex will change from True to False in a future version.\n",
      "  old['Others'] = old['Resume'].str.replace(r'(skills?.+)education', '')\n"
     ]
    }
   ],
   "source": [
    "old['Others'] = old['Resume'].str.replace(r'(skills?.+)education', '')"
   ]
  },
  {
   "cell_type": "code",
   "execution_count": 19,
   "id": "e790d2ca",
   "metadata": {},
   "outputs": [
    {
     "data": {
      "text/html": [
       "<div>\n",
       "<style scoped>\n",
       "    .dataframe tbody tr th:only-of-type {\n",
       "        vertical-align: middle;\n",
       "    }\n",
       "\n",
       "    .dataframe tbody tr th {\n",
       "        vertical-align: top;\n",
       "    }\n",
       "\n",
       "    .dataframe thead th {\n",
       "        text-align: right;\n",
       "    }\n",
       "</style>\n",
       "<table border=\"1\" class=\"dataframe\">\n",
       "  <thead>\n",
       "    <tr style=\"text-align: right;\">\n",
       "      <th></th>\n",
       "      <th>Category</th>\n",
       "      <th>Resume</th>\n",
       "      <th>Skills</th>\n",
       "      <th>Others</th>\n",
       "    </tr>\n",
       "  </thead>\n",
       "  <tbody>\n",
       "    <tr>\n",
       "      <th>0</th>\n",
       "      <td>Data Science</td>\n",
       "      <td>[skills   programming languages  python  panda...</td>\n",
       "      <td>NaN</td>\n",
       "      <td>NaN</td>\n",
       "    </tr>\n",
       "    <tr>\n",
       "      <th>1</th>\n",
       "      <td>Data Science</td>\n",
       "      <td>[education details  may 2013 to may 2017 b e  ...</td>\n",
       "      <td>NaN</td>\n",
       "      <td>NaN</td>\n",
       "    </tr>\n",
       "    <tr>\n",
       "      <th>2</th>\n",
       "      <td>Data Science</td>\n",
       "      <td>[areas of interest deep learning  control syst...</td>\n",
       "      <td>NaN</td>\n",
       "      <td>NaN</td>\n",
       "    </tr>\n",
       "    <tr>\n",
       "      <th>3</th>\n",
       "      <td>Data Science</td>\n",
       "      <td>[skills   r   python   sap hana   tableau   sa...</td>\n",
       "      <td>NaN</td>\n",
       "      <td>NaN</td>\n",
       "    </tr>\n",
       "    <tr>\n",
       "      <th>4</th>\n",
       "      <td>Data Science</td>\n",
       "      <td>[education details   mca   ymcaust   faridabad...</td>\n",
       "      <td>NaN</td>\n",
       "      <td>NaN</td>\n",
       "    </tr>\n",
       "    <tr>\n",
       "      <th>...</th>\n",
       "      <td>...</td>\n",
       "      <td>...</td>\n",
       "      <td>...</td>\n",
       "      <td>...</td>\n",
       "    </tr>\n",
       "    <tr>\n",
       "      <th>957</th>\n",
       "      <td>Testing</td>\n",
       "      <td>[computer skills    proficient in ms office  w...</td>\n",
       "      <td>NaN</td>\n",
       "      <td>NaN</td>\n",
       "    </tr>\n",
       "    <tr>\n",
       "      <th>958</th>\n",
       "      <td>Testing</td>\n",
       "      <td>[  willingness to accept the challenges    pos...</td>\n",
       "      <td>NaN</td>\n",
       "      <td>NaN</td>\n",
       "    </tr>\n",
       "    <tr>\n",
       "      <th>959</th>\n",
       "      <td>Testing</td>\n",
       "      <td>[personal skills   quick learner    eagerness ...</td>\n",
       "      <td>NaN</td>\n",
       "      <td>NaN</td>\n",
       "    </tr>\n",
       "    <tr>\n",
       "      <th>960</th>\n",
       "      <td>Testing</td>\n",
       "      <td>[computer skills   software knowledge ms power...</td>\n",
       "      <td>NaN</td>\n",
       "      <td>NaN</td>\n",
       "    </tr>\n",
       "    <tr>\n",
       "      <th>961</th>\n",
       "      <td>Testing</td>\n",
       "      <td>[skill set os windows xp 7 8 8 1 10 database m...</td>\n",
       "      <td>NaN</td>\n",
       "      <td>NaN</td>\n",
       "    </tr>\n",
       "  </tbody>\n",
       "</table>\n",
       "<p>962 rows × 4 columns</p>\n",
       "</div>"
      ],
      "text/plain": [
       "         Category                                             Resume Skills  \\\n",
       "0    Data Science  [skills   programming languages  python  panda...    NaN   \n",
       "1    Data Science  [education details  may 2013 to may 2017 b e  ...    NaN   \n",
       "2    Data Science  [areas of interest deep learning  control syst...    NaN   \n",
       "3    Data Science  [skills   r   python   sap hana   tableau   sa...    NaN   \n",
       "4    Data Science  [education details   mca   ymcaust   faridabad...    NaN   \n",
       "..            ...                                                ...    ...   \n",
       "957       Testing  [computer skills    proficient in ms office  w...    NaN   \n",
       "958       Testing  [  willingness to accept the challenges    pos...    NaN   \n",
       "959       Testing  [personal skills   quick learner    eagerness ...    NaN   \n",
       "960       Testing  [computer skills   software knowledge ms power...    NaN   \n",
       "961       Testing  [skill set os windows xp 7 8 8 1 10 database m...    NaN   \n",
       "\n",
       "     Others  \n",
       "0       NaN  \n",
       "1       NaN  \n",
       "2       NaN  \n",
       "3       NaN  \n",
       "4       NaN  \n",
       "..      ...  \n",
       "957     NaN  \n",
       "958     NaN  \n",
       "959     NaN  \n",
       "960     NaN  \n",
       "961     NaN  \n",
       "\n",
       "[962 rows x 4 columns]"
      ]
     },
     "execution_count": 19,
     "metadata": {},
     "output_type": "execute_result"
    }
   ],
   "source": [
    "nan = old[old.isnull().any(axis=1)]\n",
    "nan"
   ]
  },
  {
   "cell_type": "code",
   "execution_count": 20,
   "id": "ea2aec9d",
   "metadata": {},
   "outputs": [
    {
     "data": {
      "text/plain": [
       "array(['Data Science', 'HR', 'Advocate', 'Arts', 'Web Designing',\n",
       "       'Mechanical Engineer', 'Sales', 'Health and fitness',\n",
       "       'Civil Engineer', 'Java Developer', 'Business Analyst',\n",
       "       'SAP Developer', 'Automation Testing', 'Electrical Engineering',\n",
       "       'Operations Manager', 'Python Developer', 'DevOps Engineer',\n",
       "       'Network Security Engineer', 'PMO', 'Database', 'Hadoop',\n",
       "       'ETL Developer', 'DotNet Developer', 'Blockchain', 'Testing'],\n",
       "      dtype=object)"
      ]
     },
     "execution_count": 20,
     "metadata": {},
     "output_type": "execute_result"
    }
   ],
   "source": [
    "group = old['Category'].unique()\n",
    "group"
   ]
  },
  {
   "cell_type": "code",
   "execution_count": 21,
   "id": "8f9d2373",
   "metadata": {},
   "outputs": [
    {
     "data": {
      "text/plain": [
       "Series([], Name: Skills, dtype: object)"
      ]
     },
     "execution_count": 21,
     "metadata": {},
     "output_type": "execute_result"
    }
   ],
   "source": [
    "# category = \"Data Science\"\n",
    "# filtered = old[(old['Category']==category)& old['Skills']]\n",
    "# filtered\n",
    "\n",
    "notnull = old['Skills'].dropna()\n",
    "notnull"
   ]
  },
  {
   "cell_type": "code",
   "execution_count": 22,
   "id": "b267741d",
   "metadata": {},
   "outputs": [
    {
     "data": {
      "text/html": [
       "<div>\n",
       "<style scoped>\n",
       "    .dataframe tbody tr th:only-of-type {\n",
       "        vertical-align: middle;\n",
       "    }\n",
       "\n",
       "    .dataframe tbody tr th {\n",
       "        vertical-align: top;\n",
       "    }\n",
       "\n",
       "    .dataframe thead th {\n",
       "        text-align: right;\n",
       "    }\n",
       "</style>\n",
       "<table border=\"1\" class=\"dataframe\">\n",
       "  <thead>\n",
       "    <tr style=\"text-align: right;\">\n",
       "      <th></th>\n",
       "      <th>Category</th>\n",
       "      <th>Resume</th>\n",
       "      <th>Skills</th>\n",
       "      <th>Others</th>\n",
       "    </tr>\n",
       "  </thead>\n",
       "  <tbody>\n",
       "  </tbody>\n",
       "</table>\n",
       "</div>"
      ],
      "text/plain": [
       "Empty DataFrame\n",
       "Columns: [Category, Resume, Skills, Others]\n",
       "Index: []"
      ]
     },
     "execution_count": 22,
     "metadata": {},
     "output_type": "execute_result"
    }
   ],
   "source": [
    "category = \"HR\"\n",
    "filtered = old[(old['Category']==category)& old['Skills'].notnull()]\n",
    "filtered"
   ]
  },
  {
   "cell_type": "code",
   "execution_count": 23,
   "id": "470719fe",
   "metadata": {},
   "outputs": [
    {
     "data": {
      "text/plain": [
       "nan"
      ]
     },
     "execution_count": 23,
     "metadata": {},
     "output_type": "execute_result"
    }
   ],
   "source": [
    "old['Skills'][50]"
   ]
  },
  {
   "cell_type": "code",
   "execution_count": null,
   "id": "b4291cd4",
   "metadata": {},
   "outputs": [],
   "source": []
  }
 ],
 "metadata": {
  "kernelspec": {
   "display_name": "Python 3 (ipykernel)",
   "language": "python",
   "name": "python3"
  },
  "language_info": {
   "codemirror_mode": {
    "name": "ipython",
    "version": 3
   },
   "file_extension": ".py",
   "mimetype": "text/x-python",
   "name": "python",
   "nbconvert_exporter": "python",
   "pygments_lexer": "ipython3",
   "version": "3.10.9"
  }
 },
 "nbformat": 4,
 "nbformat_minor": 5
}
