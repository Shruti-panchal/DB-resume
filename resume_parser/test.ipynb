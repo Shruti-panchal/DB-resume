{
 "cells": [
  {
   "cell_type": "code",
   "execution_count": 1,
   "id": "01084f0a",
   "metadata": {},
   "outputs": [],
   "source": [
    "import pandas as pd \n",
    "import numpy as np"
   ]
  },
  {
   "cell_type": "code",
   "execution_count": 2,
   "id": "abc800da",
   "metadata": {
    "scrolled": true
   },
   "outputs": [
    {
     "ename": "ParserError",
     "evalue": "Error tokenizing data. C error: Expected 4 fields in line 6, saw 11\n",
     "output_type": "error",
     "traceback": [
      "\u001b[1;31m---------------------------------------------------------------------------\u001b[0m",
      "\u001b[1;31mParserError\u001b[0m                               Traceback (most recent call last)",
      "Cell \u001b[1;32mIn[2], line 1\u001b[0m\n\u001b[1;32m----> 1\u001b[0m joke \u001b[38;5;241m=\u001b[39m pd\u001b[38;5;241m.\u001b[39mread_csv(\u001b[38;5;124m'\u001b[39m\u001b[38;5;124mfinal.csv\u001b[39m\u001b[38;5;124m'\u001b[39m)\n",
      "File \u001b[1;32m~\\anaconda3\\Lib\\site-packages\\pandas\\io\\parsers\\readers.py:912\u001b[0m, in \u001b[0;36mread_csv\u001b[1;34m(filepath_or_buffer, sep, delimiter, header, names, index_col, usecols, dtype, engine, converters, true_values, false_values, skipinitialspace, skiprows, skipfooter, nrows, na_values, keep_default_na, na_filter, verbose, skip_blank_lines, parse_dates, infer_datetime_format, keep_date_col, date_parser, date_format, dayfirst, cache_dates, iterator, chunksize, compression, thousands, decimal, lineterminator, quotechar, quoting, doublequote, escapechar, comment, encoding, encoding_errors, dialect, on_bad_lines, delim_whitespace, low_memory, memory_map, float_precision, storage_options, dtype_backend)\u001b[0m\n\u001b[0;32m    899\u001b[0m kwds_defaults \u001b[38;5;241m=\u001b[39m _refine_defaults_read(\n\u001b[0;32m    900\u001b[0m     dialect,\n\u001b[0;32m    901\u001b[0m     delimiter,\n\u001b[1;32m   (...)\u001b[0m\n\u001b[0;32m    908\u001b[0m     dtype_backend\u001b[38;5;241m=\u001b[39mdtype_backend,\n\u001b[0;32m    909\u001b[0m )\n\u001b[0;32m    910\u001b[0m kwds\u001b[38;5;241m.\u001b[39mupdate(kwds_defaults)\n\u001b[1;32m--> 912\u001b[0m \u001b[38;5;28;01mreturn\u001b[39;00m _read(filepath_or_buffer, kwds)\n",
      "File \u001b[1;32m~\\anaconda3\\Lib\\site-packages\\pandas\\io\\parsers\\readers.py:583\u001b[0m, in \u001b[0;36m_read\u001b[1;34m(filepath_or_buffer, kwds)\u001b[0m\n\u001b[0;32m    580\u001b[0m     \u001b[38;5;28;01mreturn\u001b[39;00m parser\n\u001b[0;32m    582\u001b[0m \u001b[38;5;28;01mwith\u001b[39;00m parser:\n\u001b[1;32m--> 583\u001b[0m     \u001b[38;5;28;01mreturn\u001b[39;00m parser\u001b[38;5;241m.\u001b[39mread(nrows)\n",
      "File \u001b[1;32m~\\anaconda3\\Lib\\site-packages\\pandas\\io\\parsers\\readers.py:1704\u001b[0m, in \u001b[0;36mTextFileReader.read\u001b[1;34m(self, nrows)\u001b[0m\n\u001b[0;32m   1697\u001b[0m nrows \u001b[38;5;241m=\u001b[39m validate_integer(\u001b[38;5;124m\"\u001b[39m\u001b[38;5;124mnrows\u001b[39m\u001b[38;5;124m\"\u001b[39m, nrows)\n\u001b[0;32m   1698\u001b[0m \u001b[38;5;28;01mtry\u001b[39;00m:\n\u001b[0;32m   1699\u001b[0m     \u001b[38;5;66;03m# error: \"ParserBase\" has no attribute \"read\"\u001b[39;00m\n\u001b[0;32m   1700\u001b[0m     (\n\u001b[0;32m   1701\u001b[0m         index,\n\u001b[0;32m   1702\u001b[0m         columns,\n\u001b[0;32m   1703\u001b[0m         col_dict,\n\u001b[1;32m-> 1704\u001b[0m     ) \u001b[38;5;241m=\u001b[39m \u001b[38;5;28mself\u001b[39m\u001b[38;5;241m.\u001b[39m_engine\u001b[38;5;241m.\u001b[39mread(  \u001b[38;5;66;03m# type: ignore[attr-defined]\u001b[39;00m\n\u001b[0;32m   1705\u001b[0m         nrows\n\u001b[0;32m   1706\u001b[0m     )\n\u001b[0;32m   1707\u001b[0m \u001b[38;5;28;01mexcept\u001b[39;00m \u001b[38;5;167;01mException\u001b[39;00m:\n\u001b[0;32m   1708\u001b[0m     \u001b[38;5;28mself\u001b[39m\u001b[38;5;241m.\u001b[39mclose()\n",
      "File \u001b[1;32m~\\anaconda3\\Lib\\site-packages\\pandas\\io\\parsers\\c_parser_wrapper.py:234\u001b[0m, in \u001b[0;36mCParserWrapper.read\u001b[1;34m(self, nrows)\u001b[0m\n\u001b[0;32m    232\u001b[0m \u001b[38;5;28;01mtry\u001b[39;00m:\n\u001b[0;32m    233\u001b[0m     \u001b[38;5;28;01mif\u001b[39;00m \u001b[38;5;28mself\u001b[39m\u001b[38;5;241m.\u001b[39mlow_memory:\n\u001b[1;32m--> 234\u001b[0m         chunks \u001b[38;5;241m=\u001b[39m \u001b[38;5;28mself\u001b[39m\u001b[38;5;241m.\u001b[39m_reader\u001b[38;5;241m.\u001b[39mread_low_memory(nrows)\n\u001b[0;32m    235\u001b[0m         \u001b[38;5;66;03m# destructive to chunks\u001b[39;00m\n\u001b[0;32m    236\u001b[0m         data \u001b[38;5;241m=\u001b[39m _concatenate_chunks(chunks)\n",
      "File \u001b[1;32m~\\anaconda3\\Lib\\site-packages\\pandas\\_libs\\parsers.pyx:814\u001b[0m, in \u001b[0;36mpandas._libs.parsers.TextReader.read_low_memory\u001b[1;34m()\u001b[0m\n",
      "File \u001b[1;32m~\\anaconda3\\Lib\\site-packages\\pandas\\_libs\\parsers.pyx:875\u001b[0m, in \u001b[0;36mpandas._libs.parsers.TextReader._read_rows\u001b[1;34m()\u001b[0m\n",
      "File \u001b[1;32m~\\anaconda3\\Lib\\site-packages\\pandas\\_libs\\parsers.pyx:850\u001b[0m, in \u001b[0;36mpandas._libs.parsers.TextReader._tokenize_rows\u001b[1;34m()\u001b[0m\n",
      "File \u001b[1;32m~\\anaconda3\\Lib\\site-packages\\pandas\\_libs\\parsers.pyx:861\u001b[0m, in \u001b[0;36mpandas._libs.parsers.TextReader._check_tokenize_status\u001b[1;34m()\u001b[0m\n",
      "File \u001b[1;32m~\\anaconda3\\Lib\\site-packages\\pandas\\_libs\\parsers.pyx:2029\u001b[0m, in \u001b[0;36mpandas._libs.parsers.raise_parser_error\u001b[1;34m()\u001b[0m\n",
      "\u001b[1;31mParserError\u001b[0m: Error tokenizing data. C error: Expected 4 fields in line 6, saw 11\n"
     ]
    }
   ],
   "source": [
    "joke = pd.read_csv('final.csv')"
   ]
  },
  {
   "cell_type": "code",
   "execution_count": null,
   "id": "ffef7173",
   "metadata": {},
   "outputs": [],
   "source": [
    "df['Category'].unique()"
   ]
  },
  {
   "cell_type": "code",
   "execution_count": null,
   "id": "ab59845c",
   "metadata": {},
   "outputs": [],
   "source": [
    "df[df['Category'] == 'Health and fitness']"
   ]
  },
  {
   "cell_type": "code",
   "execution_count": null,
   "id": "17d6d15b",
   "metadata": {},
   "outputs": [],
   "source": [
    "data = df['Resume'][0]\n",
    "token = nltk.word_tokenize(data)\n",
    "token"
   ]
  },
  {
   "cell_type": "code",
   "execution_count": null,
   "id": "af069db6",
   "metadata": {},
   "outputs": [],
   "source": [
    "for index, row in df.iterrows():\n",
    "    data = df['Resume'][index]\n",
    "    tokens = nltk.word_tokenize(data)"
   ]
  },
  {
   "cell_type": "code",
   "execution_count": null,
   "id": "1c0d7a83",
   "metadata": {},
   "outputs": [],
   "source": [
    "from sklearn.feature_extraction.text import TfidfVectorizer\n",
    "from sklearn.metrics.pairwise import linear_kernel\n",
    "\n",
    "# Sample dataset\n",
    "for index, row in df.iterrows():\n",
    "    data = df['Resume'][index]\n",
    "    # # {\n",
    "    #     'python_developer': 'python django machine_learning',\n",
    "    #     'hr': 'communication recruitment employee_relations',\n",
    "    #     'sales': 'negotiation communication customer_service',\n",
    "    #     'data_science': 'python machine_learning data_analysis',\n",
    "    #     # Add more categories and skills as needed\n",
    "    # # }\n",
    "\n",
    "    # Function to generate recommendations\n",
    "    def get_recommendations(user_category, user_skills):\n",
    "        # Combine the user's skills with the skills of others in the same category\n",
    "        all_skills = [skills for category, skills in data.items() if category != user_category]\n",
    "        all_skills.append(user_skills)\n",
    "\n",
    "        # TF-IDF vectorization\n",
    "        vectorizer = TfidfVectorizer()\n",
    "        tfidf_matrix = vectorizer.fit_transform(all_skills)\n",
    "\n",
    "        # Calculate cosine similarity\n",
    "        cosine_sim = linear_kernel(tfidf_matrix[-1], tfidf_matrix[:-1]).flatten()\n",
    "\n",
    "        # Get indices of skills with high similarity\n",
    "        sim_indices = cosine_sim.argsort()[:-4:-1]  # Get top 3 recommendations\n",
    "\n",
    "        # Get recommended skills\n",
    "        recommended_skills = [(list(data.keys())[i], cosine_sim[i]) for i in sim_indices]\n",
    "\n",
    "        return recommended_skills\n",
    "\n",
    "    # Example of usage\n",
    "    user_category = 'python_developer'\n",
    "    user_skills = 'python django machine_learning'\n",
    "\n",
    "    recommendations = get_recommendations(user_category, user_skills)\n",
    "\n",
    "    print(f\"Recommended skills for {user_category} with skills {user_skills}:\")\n",
    "    for category, similarity in recommendations:\n",
    "        print(f\"{category} (Similarity: {similarity:.2f})\")\n"
   ]
  },
  {
   "cell_type": "code",
   "execution_count": null,
   "id": "792fa488",
   "metadata": {},
   "outputs": [],
   "source": [
    "import pandas as pd\n",
    "from sklearn.feature_extraction.text import TfidfVectorizer\n",
    "from sklearn.metrics.pairwise import linear_kernel\n",
    "\n",
    "# Load the dataset\n",
    "dataset = pd.read_csv('your_dataset.csv')  # Replace 'your_dataset.csv' with the actual file path\n",
    "\n",
    "# Load the skills levels dataset\n",
    "skills_levels = pd.read_csv('skills_levels.csv')  # Replace 'skills_levels.csv' with the actual file path\n",
    "\n",
    "# Function to generate recommendations\n",
    "def get_recommendations(user_category, user_skills, user_experience):\n",
    "    # Filter dataset based on the user's category\n",
    "    category_data = dataset[dataset['Category'] == user_category]\n",
    "\n",
    "    # Combine the user's skills with the skills of others in the same category\n",
    "    all_skills = category_data['skill'].tolist()\n",
    "    all_skills.append(user_skills)\n",
    "\n",
    "    # TF-IDF vectorization\n",
    "    vectorizer = TfidfVectorizer()\n",
    "    tfidf_matrix = vectorizer.fit_transform(all_skills)\n",
    "\n",
    "    # Calculate cosine similarity\n",
    "    cosine_sim = linear_kernel(tfidf_matrix[-1], tfidf_matrix[:-1]).flatten()\n",
    "\n",
    "    # Get indices of skills with high similarity\n",
    "    sim_indices = cosine_sim.argsort()[:-4:-1]  # Get top 3 recommendations\n",
    "\n",
    "    # Get recommended skills based on the user's experience level\n",
    "    recommended_skills = []\n",
    "\n",
    "    for index in sim_indices:\n",
    "        skill = category_data.iloc[index]['skill']\n",
    "        level = skills_levels[skills_levels['skill'] == skill]['level'].values[0]\n",
    "\n",
    "        if user_experience < 1 and level == 'Basic':\n",
    "            recommended_skills.append((skill, cosine_sim[index]))\n",
    "        elif 1 <= user_experience < 2 and level == 'Intermediate':\n",
    "            recommended_skills.append((skill, cosine_sim[index]))\n",
    "        elif user_experience >= 2 and level == 'Advanced':\n",
    "            recommended_skills.append((skill, cosine_sim[index]))\n",
    "\n",
    "    return recommended_skills\n",
    "\n",
    "# Example of usage\n",
    "user_category = 'data_science'\n",
    "user_skills = 'python machine_learning data_analysis'\n",
    "user_experience = 1.5  # Assuming the user has 1.5 years of experience\n",
    "\n",
    "recommendations = get_recommendations(user_category, user_skills, user_experience)\n",
    "\n",
    "print(f\"Recommended skills for {user_category} with skills {user_skills} and experience {user_experience} years:\")\n",
    "for skill, similarity in recommendations:\n",
    "    print(f\"{skill} (Similarity: {similarity:.2f})\")\n"
   ]
  },
  {
   "cell_type": "code",
   "execution_count": null,
   "id": "38f439a3",
   "metadata": {},
   "outputs": [],
   "source": [
    "# import nltk\n",
    "# nltk.download('all')"
   ]
  }
 ],
 "metadata": {
  "kernelspec": {
   "display_name": "Python 3 (ipykernel)",
   "language": "python",
   "name": "python3"
  },
  "language_info": {
   "codemirror_mode": {
    "name": "ipython",
    "version": 3
   },
   "file_extension": ".py",
   "mimetype": "text/x-python",
   "name": "python",
   "nbconvert_exporter": "python",
   "pygments_lexer": "ipython3",
   "version": "3.11.5"
  }
 },
 "nbformat": 4,
 "nbformat_minor": 5
}
