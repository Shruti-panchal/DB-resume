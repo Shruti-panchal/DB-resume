{
 "cells": [
  {
   "cell_type": "code",
   "execution_count": 1,
   "id": "ff2ef899",
   "metadata": {},
   "outputs": [],
   "source": [
    "import pandas as pd \n",
    "import numpy as np"
   ]
  },
  {
   "cell_type": "code",
   "execution_count": 2,
   "id": "ed9d779f",
   "metadata": {},
   "outputs": [],
   "source": [
    "final = pd.read_csv('final.csv')"
   ]
  },
  {
   "cell_type": "code",
   "execution_count": 4,
   "id": "ca0233c4",
   "metadata": {},
   "outputs": [],
   "source": [
    "skill = pd.read_csv('skill.csv')"
   ]
  },
  {
   "cell_type": "code",
   "execution_count": 5,
   "id": "e39811a9",
   "metadata": {},
   "outputs": [],
   "source": [
    "exp = skill[['Category', 'Experience']]\n",
    "exp.to_csv('exp.csv', index=False)"
   ]
  },
  {
   "cell_type": "code",
   "execution_count": 6,
   "id": "6bbd0795",
   "metadata": {},
   "outputs": [
    {
     "data": {
      "text/html": [
       "<div>\n",
       "<style scoped>\n",
       "    .dataframe tbody tr th:only-of-type {\n",
       "        vertical-align: middle;\n",
       "    }\n",
       "\n",
       "    .dataframe tbody tr th {\n",
       "        vertical-align: top;\n",
       "    }\n",
       "\n",
       "    .dataframe thead th {\n",
       "        text-align: right;\n",
       "    }\n",
       "</style>\n",
       "<table border=\"1\" class=\"dataframe\">\n",
       "  <thead>\n",
       "    <tr style=\"text-align: right;\">\n",
       "      <th></th>\n",
       "      <th>Category</th>\n",
       "      <th>Experience</th>\n",
       "    </tr>\n",
       "  </thead>\n",
       "  <tbody>\n",
       "    <tr>\n",
       "      <th>0</th>\n",
       "      <td>Data Science</td>\n",
       "      <td>2Y</td>\n",
       "    </tr>\n",
       "    <tr>\n",
       "      <th>1</th>\n",
       "      <td>Data Science</td>\n",
       "      <td>1Y</td>\n",
       "    </tr>\n",
       "    <tr>\n",
       "      <th>2</th>\n",
       "      <td>Data Science</td>\n",
       "      <td>1Y</td>\n",
       "    </tr>\n",
       "    <tr>\n",
       "      <th>3</th>\n",
       "      <td>Data Science</td>\n",
       "      <td>2Y</td>\n",
       "    </tr>\n",
       "    <tr>\n",
       "      <th>4</th>\n",
       "      <td>Data Science</td>\n",
       "      <td>2Y</td>\n",
       "    </tr>\n",
       "    <tr>\n",
       "      <th>...</th>\n",
       "      <td>...</td>\n",
       "      <td>...</td>\n",
       "    </tr>\n",
       "    <tr>\n",
       "      <th>157</th>\n",
       "      <td>Testing</td>\n",
       "      <td>1Y</td>\n",
       "    </tr>\n",
       "    <tr>\n",
       "      <th>158</th>\n",
       "      <td>Testing</td>\n",
       "      <td>6M</td>\n",
       "    </tr>\n",
       "    <tr>\n",
       "      <th>159</th>\n",
       "      <td>Testing</td>\n",
       "      <td>9M</td>\n",
       "    </tr>\n",
       "    <tr>\n",
       "      <th>160</th>\n",
       "      <td>Testing</td>\n",
       "      <td>6M</td>\n",
       "    </tr>\n",
       "    <tr>\n",
       "      <th>161</th>\n",
       "      <td>Testing</td>\n",
       "      <td>2Y</td>\n",
       "    </tr>\n",
       "  </tbody>\n",
       "</table>\n",
       "<p>162 rows × 2 columns</p>\n",
       "</div>"
      ],
      "text/plain": [
       "         Category Experience\n",
       "0    Data Science         2Y\n",
       "1    Data Science         1Y\n",
       "2    Data Science         1Y\n",
       "3    Data Science         2Y\n",
       "4    Data Science         2Y\n",
       "..            ...        ...\n",
       "157       Testing         1Y\n",
       "158       Testing         6M\n",
       "159       Testing         9M\n",
       "160       Testing         6M\n",
       "161       Testing         2Y\n",
       "\n",
       "[162 rows x 2 columns]"
      ]
     },
     "execution_count": 6,
     "metadata": {},
     "output_type": "execute_result"
    }
   ],
   "source": [
    "exp"
   ]
  },
  {
   "cell_type": "code",
   "execution_count": 7,
   "id": "2d004650",
   "metadata": {},
   "outputs": [],
   "source": [
    "for i in exp['Experience']:\n",
    "#     def convert_to_years(exp):\n",
    "#         years, months = map(int, exp[:-1].split('Y')) if 'Y' in exp else (0, int(exp[:-1]))\n",
    "# #         years, months = map(int, exp.split('Y'))\n",
    "#         months = months if 'M' in exp else 0\n",
    "#         total_years = years + months / 12\n",
    "#         return total_years        \n",
    "    \n",
    "    def convert_to_years(exp):\n",
    "        years, months = map(int, exp[:-1].split('Y')) if 'Y' in exp else (0, int(exp[:-1]))\n",
    "        total_years = years + months / 12\n",
    "        return total_years    "
   ]
  },
  {
   "cell_type": "code",
   "execution_count": null,
   "id": "47071ff5",
   "metadata": {
    "scrolled": true
   },
   "outputs": [],
   "source": [
    "exp['Experience'] = exp['Experience'].apply(convert_to_years)"
   ]
  },
  {
   "cell_type": "code",
   "execution_count": null,
   "id": "9ec8143a",
   "metadata": {},
   "outputs": [],
   "source": []
  }
 ],
 "metadata": {
  "kernelspec": {
   "display_name": "Python 3 (ipykernel)",
   "language": "python",
   "name": "python3"
  },
  "language_info": {
   "codemirror_mode": {
    "name": "ipython",
    "version": 3
   },
   "file_extension": ".py",
   "mimetype": "text/x-python",
   "name": "python",
   "nbconvert_exporter": "python",
   "pygments_lexer": "ipython3",
   "version": "3.11.5"
  }
 },
 "nbformat": 4,
 "nbformat_minor": 5
}
