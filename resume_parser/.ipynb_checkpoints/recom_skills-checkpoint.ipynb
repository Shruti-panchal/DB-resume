{
 "cells": [
  {
   "cell_type": "markdown",
   "id": "b0e9188f",
   "metadata": {},
   "source": [
    "import pandas as pd\n",
    "from sklearn.feature_extraction.text import CountVectorizer\n",
    "from sklearn.metrics.pairwise import cosine_similarity\n",
    "\n",
    "# Load your CSV file\n",
    "df = pd.read_csv('final.csv')\n",
    "\n",
    "# Filter rows where Category is 'Data Science'\n",
    "data_science_rows = df[df['Category'] == 'Data Science']\n",
    "\n",
    "# Combine all skills related to Data Science into one string per resume\n",
    "data_science_skills = data_science_rows['skills'].str.cat(sep=' ')\n",
    "\n",
    "# Create a bag-of-words model\n",
    "vectorizer = CountVectorizer()\n",
    "X = vectorizer.fit_transform([data_science_skills] + list(df['skills']))\n",
    "\n",
    "# Calculate cosine similarity\n",
    "cosine_sim = cosine_similarity(X, X)\n",
    "\n",
    "# Get index of 'Data Science' category\n",
    "data_science_index = df[df['Category'] == 'Data Science'].index[0]\n",
    "\n",
    "# Get similarity scores for 'Data Science' category\n",
    "similarity_scores = cosine_sim[data_science_index]\n",
    "\n",
    "# Get indices of top N recommendations (excluding 'Data Science' itself)\n",
    "top_recommendations = similarity_scores.argsort()[:-1][::-1]\n",
    "\n",
    "# Extract skills for the top recommendations\n",
    "recommended_skills = df.loc[top_recommendations, 'skills'].tolist()\n",
    "\n",
    "# Display recommended skills\n",
    "print(\"Recommended Skills for Data Science:\")\n",
    "for skills in recommended_skills:\n",
    "    print(skills)"
   ]
  },
  {
   "cell_type": "code",
   "execution_count": 1,
   "id": "7ab9da87",
   "metadata": {},
   "outputs": [],
   "source": [
    "# import pandas as pd \n",
    "# from sklearn.feature_extraction.text import CountVectorizer \n",
    "# from sklearn.metrics.pairwise import cosine_similarity"
   ]
  },
  {
   "cell_type": "code",
   "execution_count": 2,
   "id": "e657aaaa",
   "metadata": {},
   "outputs": [],
   "source": [
    "# df = pd.read_csv('finalll.csv')\n",
    "# df['Category']"
   ]
  },
  {
   "cell_type": "code",
   "execution_count": 3,
   "id": "64b3777c",
   "metadata": {},
   "outputs": [],
   "source": [
    "# # data_science_rows = df[df['Category'] == 'Data Science']\n",
    "# profile = input(\"Enter profile name you're aiming for : \")"
   ]
  },
  {
   "cell_type": "code",
   "execution_count": 4,
   "id": "d5fcb28f",
   "metadata": {},
   "outputs": [],
   "source": [
    "# profile_rows= df[df['Category'] == profile]\n",
    "# # profile_rows = df[df['Category'] == data science]\n",
    "# profile_rows"
   ]
  },
  {
   "cell_type": "code",
   "execution_count": 5,
   "id": "9d5566d1",
   "metadata": {
    "scrolled": true
   },
   "outputs": [],
   "source": [
    "# profile_skills = profile_rows['Skill'].str.cat(sep=' ')\n",
    "# profile_skills"
   ]
  },
  {
   "cell_type": "code",
   "execution_count": 6,
   "id": "d0be6f62",
   "metadata": {},
   "outputs": [],
   "source": [
    "# vectorizer = CountVectorizer()\n",
    "# X = vectorizer.fit_transform([profile_skills] + list(df['Skill']))\n",
    "# X"
   ]
  },
  {
   "cell_type": "code",
   "execution_count": 7,
   "id": "bf502baa",
   "metadata": {},
   "outputs": [],
   "source": [
    "# cosine_sim = cosine_similarity(X)"
   ]
  },
  {
   "cell_type": "code",
   "execution_count": 8,
   "id": "0abdc7ec",
   "metadata": {},
   "outputs": [],
   "source": [
    "# # Get index of 'Data Science' category\n",
    "# profile_index = df[df['Category'] == profile].index[0]\n",
    "# profile_index"
   ]
  },
  {
   "cell_type": "code",
   "execution_count": 9,
   "id": "f10af8d0",
   "metadata": {},
   "outputs": [],
   "source": [
    "# # Get similarity scores for 'Data Science' category\n",
    "# similarity_scores = cosine_sim[profile_index]\n",
    "# similarity_scores"
   ]
  },
  {
   "cell_type": "code",
   "execution_count": 10,
   "id": "c1358fe4",
   "metadata": {
    "scrolled": true
   },
   "outputs": [],
   "source": [
    "# top_recommendations = similarity_scores.argsort()[:-1][::-1]\n",
    "# top_recommendations"
   ]
  },
  {
   "cell_type": "code",
   "execution_count": 11,
   "id": "e2dbbb71",
   "metadata": {},
   "outputs": [],
   "source": [
    "# # Extract skills for the top recommendations\n",
    "# recommended_skills = profile_rows.loc[profile_rows.index.isin(top_recommendations), 'Skill'].tolist()\n",
    "# recommended_skills"
   ]
  },
  {
   "cell_type": "code",
   "execution_count": 12,
   "id": "1175069a",
   "metadata": {},
   "outputs": [],
   "source": [
    "# df[df['Category'] == 'Testing']"
   ]
  },
  {
   "cell_type": "code",
   "execution_count": 13,
   "id": "1a3e45a2",
   "metadata": {},
   "outputs": [],
   "source": [
    "# df['Category'].unique()"
   ]
  },
  {
   "cell_type": "code",
   "execution_count": 14,
   "id": "a8f9102d",
   "metadata": {},
   "outputs": [],
   "source": [
    "# Example code for data preprocessing\n",
    "import pandas as pd\n",
    "import numpy as np\n",
    "from sklearn.feature_extraction.text import TfidfVectorizer\n",
    "from sklearn.naive_bayes import MultinomialNB"
   ]
  },
  {
   "cell_type": "code",
   "execution_count": 18,
   "id": "f81b5598",
   "metadata": {},
   "outputs": [
    {
     "data": {
      "text/html": [
       "<div>\n",
       "<style scoped>\n",
       "    .dataframe tbody tr th:only-of-type {\n",
       "        vertical-align: middle;\n",
       "    }\n",
       "\n",
       "    .dataframe tbody tr th {\n",
       "        vertical-align: top;\n",
       "    }\n",
       "\n",
       "    .dataframe thead th {\n",
       "        text-align: right;\n",
       "    }\n",
       "</style>\n",
       "<table border=\"1\" class=\"dataframe\">\n",
       "  <thead>\n",
       "    <tr style=\"text-align: right;\">\n",
       "      <th></th>\n",
       "      <th>Category</th>\n",
       "      <th>Resume</th>\n",
       "      <th>Skill</th>\n",
       "      <th>Experience(months)</th>\n",
       "    </tr>\n",
       "  </thead>\n",
       "  <tbody>\n",
       "    <tr>\n",
       "      <th>0</th>\n",
       "      <td>Data Science</td>\n",
       "      <td>Skills * Programming Languages: Python (pandas...</td>\n",
       "      <td>['Pandas', 'Numpy', 'Scipy', 'SCikit-learn', '...</td>\n",
       "      <td>24</td>\n",
       "    </tr>\n",
       "    <tr>\n",
       "      <th>1</th>\n",
       "      <td>Data Science</td>\n",
       "      <td>Skills  R  Python  SAP HANA  Tableau  SAP HANA...</td>\n",
       "      <td>['R', 'Python', 'SAP HANA', 'Tableau', 'SAP HA...</td>\n",
       "      <td>12</td>\n",
       "    </tr>\n",
       "    <tr>\n",
       "      <th>2</th>\n",
       "      <td>Data Science</td>\n",
       "      <td>Education Details \\r\\nMay 2013 to May 2017 B.E...</td>\n",
       "      <td>['Python', 'Machine learning', 'Sklearn', 'Sci...</td>\n",
       "      <td>12</td>\n",
       "    </tr>\n",
       "    <tr>\n",
       "      <th>3</th>\n",
       "      <td>Data Science</td>\n",
       "      <td>Education Details \\r\\n B.Tech   Rayat and Bahr...</td>\n",
       "      <td>['Software Development: inception, requirement...</td>\n",
       "      <td>24</td>\n",
       "    </tr>\n",
       "    <tr>\n",
       "      <th>4</th>\n",
       "      <td>Data Science</td>\n",
       "      <td>Skills * Programming Languages: Python (pandas...</td>\n",
       "      <td>['Programming Languages: Python, Java', 'Datab...</td>\n",
       "      <td>24</td>\n",
       "    </tr>\n",
       "    <tr>\n",
       "      <th>...</th>\n",
       "      <td>...</td>\n",
       "      <td>...</td>\n",
       "      <td>...</td>\n",
       "      <td>...</td>\n",
       "    </tr>\n",
       "    <tr>\n",
       "      <th>157</th>\n",
       "      <td>Testing</td>\n",
       "      <td>COMPUTER PROFICIENCY   Basic: MS-Office (Power...</td>\n",
       "      <td>['MS Office', 'CPP', 'Android Developer', 'Man...</td>\n",
       "      <td>12</td>\n",
       "    </tr>\n",
       "    <tr>\n",
       "      <th>158</th>\n",
       "      <td>Testing</td>\n",
       "      <td>Computer Skills:   Proficient in MS office (Wo...</td>\n",
       "      <td>['Windows', 'MS Office', 'Insulation Resistanc...</td>\n",
       "      <td>6</td>\n",
       "    </tr>\n",
       "    <tr>\n",
       "      <th>159</th>\n",
       "      <td>Testing</td>\n",
       "      <td>Willingness to accept the challenges.  Positi...</td>\n",
       "      <td>['C', 'Windows 7-8/NT/XP', 'C++', 'Documentati...</td>\n",
       "      <td>9</td>\n",
       "    </tr>\n",
       "    <tr>\n",
       "      <th>160</th>\n",
       "      <td>Testing</td>\n",
       "      <td>COMPUTER SKILLS &amp; SOFTWARE KNOWLEDGE MS-Power ...</td>\n",
       "      <td>['MS Office', 'C', 'Portius (PCB Design)', 'Mu...</td>\n",
       "      <td>6</td>\n",
       "    </tr>\n",
       "    <tr>\n",
       "      <th>161</th>\n",
       "      <td>Testing</td>\n",
       "      <td>Skill Set OS Windows XP/7/8/8.1/10 Database MY...</td>\n",
       "      <td>['Windows XP/7/8/8.1/10', 'MySQL', 'Html', 'SQ...</td>\n",
       "      <td>24</td>\n",
       "    </tr>\n",
       "  </tbody>\n",
       "</table>\n",
       "<p>162 rows × 4 columns</p>\n",
       "</div>"
      ],
      "text/plain": [
       "         Category                                             Resume  \\\n",
       "0    Data Science  Skills * Programming Languages: Python (pandas...   \n",
       "1    Data Science  Skills  R  Python  SAP HANA  Tableau  SAP HANA...   \n",
       "2    Data Science  Education Details \\r\\nMay 2013 to May 2017 B.E...   \n",
       "3    Data Science  Education Details \\r\\n B.Tech   Rayat and Bahr...   \n",
       "4    Data Science  Skills * Programming Languages: Python (pandas...   \n",
       "..            ...                                                ...   \n",
       "157       Testing  COMPUTER PROFICIENCY   Basic: MS-Office (Power...   \n",
       "158       Testing  Computer Skills:   Proficient in MS office (Wo...   \n",
       "159       Testing   Willingness to accept the challenges.  Positi...   \n",
       "160       Testing  COMPUTER SKILLS & SOFTWARE KNOWLEDGE MS-Power ...   \n",
       "161       Testing  Skill Set OS Windows XP/7/8/8.1/10 Database MY...   \n",
       "\n",
       "                                                 Skill  Experience(months)  \n",
       "0    ['Pandas', 'Numpy', 'Scipy', 'SCikit-learn', '...                  24  \n",
       "1    ['R', 'Python', 'SAP HANA', 'Tableau', 'SAP HA...                  12  \n",
       "2    ['Python', 'Machine learning', 'Sklearn', 'Sci...                  12  \n",
       "3    ['Software Development: inception, requirement...                  24  \n",
       "4    ['Programming Languages: Python, Java', 'Datab...                  24  \n",
       "..                                                 ...                 ...  \n",
       "157  ['MS Office', 'CPP', 'Android Developer', 'Man...                  12  \n",
       "158  ['Windows', 'MS Office', 'Insulation Resistanc...                   6  \n",
       "159  ['C', 'Windows 7-8/NT/XP', 'C++', 'Documentati...                   9  \n",
       "160  ['MS Office', 'C', 'Portius (PCB Design)', 'Mu...                   6  \n",
       "161  ['Windows XP/7/8/8.1/10', 'MySQL', 'Html', 'SQ...                  24  \n",
       "\n",
       "[162 rows x 4 columns]"
      ]
     },
     "execution_count": 18,
     "metadata": {},
     "output_type": "execute_result"
    }
   ],
   "source": [
    "# # Assuming you have a list of resumes and skills\n",
    "\n",
    "# final = pd.read_csv('final.csv')\n",
    "\n",
    "# resumes = final['Resume'].tolist()\n",
    "# skills = final['Skill'].tolist()\n",
    "\n",
    "# # Combine user details with existing skills for training\n",
    "# user_details = input(\"Enter your details (profile/job title, skills, total experience): \")\n",
    "# all_data = resumes + [user_details]\n",
    "\n",
    "# # Convert text data to TF-IDF features\n",
    "# vectorizer = TfidfVectorizer()\n",
    "# X = vectorizer.fit_transform(all_data)\n",
    "\n",
    "# # Assuming you have labels for each resume\n",
    "# labels = list(range(len(resumes)))\n",
    "\n",
    "# # Train the model\n",
    "# model = MultinomialNB()\n",
    "# model.fit(X[:-1], labels)  # Exclude the user details for training\n",
    "\n",
    "# # User details to predict skills\n",
    "# user_data = vectorizer.transform([user_details])\n",
    "\n",
    "# # Predict skills for user details\n",
    "# predicted_labels = model.predict(user_data)\n",
    "# print(predicted_labels)\n",
    "\n",
    "# # Get the corresponding skills based on predicted labels\n",
    "# predicted_skills = [skills[i] for i in predicted_labels]\n",
    "# # print([skills[18] for i in predicted_labels])\n",
    "\n",
    "# # Provide recommendations\n",
    "# print(\"Recommended Skills: \", predicted_skills)\n",
    "final"
   ]
  },
  {
   "cell_type": "code",
   "execution_count": null,
   "id": "4e7f35ad",
   "metadata": {},
   "outputs": [],
   "source": [
    "import pandas as pd\n",
    "from sklearn.feature_extraction.text import TfidfVectorizer\n",
    "from sklearn.naive_bayes import MultinomialNB\n",
    "\n",
    "# Assuming you have a list of resumes and skills\n",
    "final = pd.read_csv('final.csv')\n",
    "\n",
    "resumes = final['Resume'].tolist()\n",
    "skills = final['Skill'].tolist()\n",
    "categories = final['Category'].tolist()\n",
    "experience = final['Experience(months)'].tolist()\n",
    "\n",
    "# User inputs\n",
    "user_category = input(\"Enter your category/job title: \")\n",
    "user_experience = int(input(\"Enter your total experience in months: \"))\n",
    "user_skills = input(\"Enter your skills (comma-separated within square brackets []): \").strip('[]').split(',')\n",
    "\n",
    "# Filter resumes based on user category\n",
    "user_category_resumes = [resumes[i] for i in range(len(resumes)) if categories[i] == user_category]\n",
    "\n",
    "# Filter resumes based on user experience\n",
    "user_experience_resumes = [user_category_resumes[i] for i in range(len(user_category_resumes)) if experience[i] <= user_experience]\n",
    "\n",
    "if not user_experience_resumes:\n",
    "    print(\"No matching resumes found. Please try again with different details.\")\n",
    "    exit()\n",
    "\n",
    "all_data = user_experience_resumes + [f\"{user_category}, {', '.join(user_skills)}, {user_experience}\"]\n",
    "\n",
    "# Convert text data to TF-IDF features\n",
    "vectorizer = TfidfVectorizer()\n",
    "X = vectorizer.fit_transform(all_data)\n",
    "\n",
    "# Assuming you have labels for each resume\n",
    "labels = list(range(len(user_experience_resumes)))\n",
    "\n",
    "# Train the model\n",
    "model = MultinomialNB()\n",
    "model.fit(X[:-1], labels)  # Exclude the user details for training\n",
    "\n",
    "# User details to predict skills\n",
    "user_data = vectorizer.transform([all_data[-1]])\n",
    "\n",
    "# Predict skills for user details\n",
    "predicted_labels = model.predict(user_data)\n",
    "\n",
    "# Get the corresponding skills based on predicted labels\n",
    "predicted_skills = [skills[i] for i in predicted_labels]\n",
    "\n",
    "# Provide recommendations\n",
    "if predicted_skills:\n",
    "    print(\"Recommended Skills: \", predicted_skills)\n",
    "else:\n",
    "    print(\"Pass your skills. No matching skills found for the given category and experience.\")\n"
   ]
  },
  {
   "cell_type": "code",
   "execution_count": null,
   "id": "36057fef",
   "metadata": {},
   "outputs": [],
   "source": [
    "# import pandas as pd\n",
    "# from sklearn.feature_extraction.text import TfidfVectorizer\n",
    "# from sklearn.naive_bayes import MultinomialNB\n",
    "\n",
    "# # Assuming you have a list of resumes and skills\n",
    "# final = pd.read_csv('final.csv')\n",
    "\n",
    "# resumes = final['Resume'].tolist()\n",
    "# skills = final['Skill'].tolist()\n",
    "\n",
    "# # Get user details\n",
    "# user_job_category = input(\"Enter your job category: \")\n",
    "# user_skills = input(\"Enter your skills (comma-separated): \")\n",
    "# user_experience = int(input(\"Enter your total experience (in months): \"))\n",
    "\n",
    "# # Filter data based on user input\n",
    "# filtered_data = final[(final['Category'] == user_job_category) & (final['Experience(months)'] <= user_experience)]\n",
    "\n",
    "# # Combine user details with existing skills for training\n",
    "# user_details = f\"{user_job_category} {user_skills} {user_experience} months\"\n",
    "# all_data = filtered_data['Resume'].tolist() + [user_details]\n",
    "\n",
    "# # Convert text data to TF-IDF features\n",
    "# vectorizer = TfidfVectorizer()\n",
    "# X = vectorizer.fit_transform(all_data)\n",
    "\n",
    "# # Assuming you have labels for each resume\n",
    "# labels = list(range(len(filtered_data)))\n",
    "\n",
    "# # Train the model\n",
    "# model = MultinomialNB()\n",
    "# model.fit(X[:-1], labels)  # Exclude the user details for training\n",
    "\n",
    "# # User details to predict skills\n",
    "# user_data = vectorizer.transform([user_details])\n",
    "\n",
    "# # Predict skills for user details\n",
    "# predicted_labels = model.predict(user_data)\n",
    "\n",
    "# # Get the corresponding skills based on predicted labels\n",
    "# predicted_skills = [skills[i] for i in predicted_labels]\n",
    "\n",
    "# # Identify skills absent in user's resume\n",
    "# user_skills_list = user_skills.split(', ')\n",
    "# missing_skills = [skill for skill in predicted_skills if skill not in user_skills_list]\n",
    "\n",
    "# # Provide recommendations\n",
    "# print(\"Recommended Skills: \", missing_skills)\n"
   ]
  },
  {
   "cell_type": "code",
   "execution_count": null,
   "id": "bab2d62e",
   "metadata": {},
   "outputs": [],
   "source": [
    "# hr = df[df['Category']=='HR']\n",
    "# hr"
   ]
  },
  {
   "cell_type": "code",
   "execution_count": null,
   "id": "d8c426cf",
   "metadata": {},
   "outputs": [],
   "source": [
    "# # Separate resumes and skills\n",
    "# resumes = df['Resume'].tolist()\n",
    "# skills = df['Skill'].tolist()\n",
    "\n",
    "# # Combine user details with existing skills for training\n",
    "# all_data = resumes\n",
    "# all_data"
   ]
  },
  {
   "cell_type": "code",
   "execution_count": null,
   "id": "f2418ae3",
   "metadata": {},
   "outputs": [],
   "source": [
    "# # Convert text data to TF-IDF features\n",
    "# vectorizer = TfidfVectorizer()\n",
    "# X = vectorizer.fit_transform(all_data)\n",
    "# X"
   ]
  },
  {
   "cell_type": "code",
   "execution_count": null,
   "id": "78c71ec7",
   "metadata": {},
   "outputs": [],
   "source": [
    "# # Assuming you have labels for each resume\n",
    "# labels = list(range(len(resumes)))\n",
    "# labels"
   ]
  },
  {
   "cell_type": "code",
   "execution_count": null,
   "id": "9eec1048",
   "metadata": {},
   "outputs": [],
   "source": [
    "# # Train the model\n",
    "# model = MultinomialNB()\n",
    "# model.fit(X, labels)"
   ]
  },
  {
   "cell_type": "code",
   "execution_count": null,
   "id": "6cb23903",
   "metadata": {},
   "outputs": [],
   "source": [
    "# # Get user details through input form\n",
    "# user_details = input(\"Enter your details (profile/job title, skills, total experience): \")\n",
    "# user_details"
   ]
  },
  {
   "cell_type": "code",
   "execution_count": null,
   "id": "71ae2ff7",
   "metadata": {},
   "outputs": [],
   "source": [
    "# # User details to predict skills\n",
    "# user_data = vectorizer.transform([user_details])\n",
    "# user_data"
   ]
  },
  {
   "cell_type": "code",
   "execution_count": null,
   "id": "50a9fef1",
   "metadata": {},
   "outputs": [],
   "source": [
    "# # Predict skills for user details\n",
    "# predicted_labels = model.predict(user_data)\n",
    "# predicted_labels"
   ]
  },
  {
   "cell_type": "code",
   "execution_count": null,
   "id": "8aee9c7f",
   "metadata": {},
   "outputs": [],
   "source": [
    "# # Get the corresponding skills based on predicted labels\n",
    "# predicted_skills = [skills[i] for i in predicted_labels]\n",
    "# print([skills[99] for i in predicted_labels])"
   ]
  },
  {
   "cell_type": "code",
   "execution_count": null,
   "id": "0b79a1a2",
   "metadata": {},
   "outputs": [],
   "source": [
    "# for i in predicted_labels:\n",
    "#     print(skill[i])\n",
    "#     print(\"\\n\")"
   ]
  },
  {
   "cell_type": "code",
   "execution_count": null,
   "id": "418a8b98",
   "metadata": {},
   "outputs": [],
   "source": [
    "# # Provide recommendations\n",
    "# print(\"Recommended Skills: \", predicted_skills)"
   ]
  },
  {
   "cell_type": "code",
   "execution_count": null,
   "id": "0fe46f3c",
   "metadata": {},
   "outputs": [],
   "source": [
    "# # Separate resumes and skills\n",
    "# resumes = df['Resume'].tolist()\n",
    "# skills = df['Skill'].tolist()\n",
    "\n",
    "# # Combine user details with existing skills for training\n",
    "# all_data = resumes\n",
    "\n",
    "# # Convert text data to TF-IDF features\n",
    "# vectorizer = TfidfVectorizer()\n",
    "# X = vectorizer.fit_transform(all_data)\n",
    "\n",
    "# # Assuming you have labels for each resume\n",
    "# labels = list(range(len(resumes)))\n",
    "\n",
    "# # Train the model\n",
    "# model = MultinomialNB()\n",
    "# model.fit(X, labels)\n",
    "\n",
    "# # Get user details through input form\n",
    "# user_details = input(\"Enter your details (profile/job title, skills, total experience): \")\n",
    "\n",
    "# # User details to predict skills\n",
    "# user_data = vectorizer.transform([user_details])\n",
    "\n",
    "# # Predict skills for user details\n",
    "# predicted_labels = model.predict(user_data)\n",
    "\n",
    "# # Get the corresponding skills based on predicted labels\n",
    "# predicted_skills = [skills[i] for i in predicted_labels]\n",
    "\n",
    "# # Provide recommendations\n",
    "# print(\"Recommended Skills: \", predicted_skills)\n"
   ]
  },
  {
   "cell_type": "markdown",
   "id": "d519c5f6",
   "metadata": {},
   "source": []
  }
 ],
 "metadata": {
  "kernelspec": {
   "display_name": "Python 3 (ipykernel)",
   "language": "python",
   "name": "python3"
  },
  "language_info": {
   "codemirror_mode": {
    "name": "ipython",
    "version": 3
   },
   "file_extension": ".py",
   "mimetype": "text/x-python",
   "name": "python",
   "nbconvert_exporter": "python",
   "pygments_lexer": "ipython3",
   "version": "3.11.5"
  }
 },
 "nbformat": 4,
 "nbformat_minor": 5
}
