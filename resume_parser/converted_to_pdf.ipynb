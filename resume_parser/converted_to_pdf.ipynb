{
 "cells": [
  {
   "cell_type": "code",
   "execution_count": 1,
   "id": "b30ed212",
   "metadata": {},
   "outputs": [
    {
     "name": "stdout",
     "output_type": "stream",
     "text": [
      "Requirement already satisfied: resume-parser in c:\\users\\spanc\\anaconda3\\lib\\site-packages (0.8.4)\n",
      "Requirement already satisfied: docx2txt>=0.8 in c:\\users\\spanc\\anaconda3\\lib\\site-packages (from resume-parser) (0.8)\n",
      "Requirement already satisfied: nltk>=3.5 in c:\\users\\spanc\\anaconda3\\lib\\site-packages (from resume-parser) (3.8.1)\n",
      "Requirement already satisfied: numpy>=1.19.1 in c:\\users\\spanc\\anaconda3\\lib\\site-packages (from resume-parser) (1.24.3)\n",
      "Requirement already satisfied: pandas>=1.1.0 in c:\\users\\spanc\\anaconda3\\lib\\site-packages (from resume-parser) (2.0.3)\n",
      "Requirement already satisfied: pdfminer.six>=20200517 in c:\\users\\spanc\\anaconda3\\lib\\site-packages (from resume-parser) (20221105)\n",
      "Requirement already satisfied: pdfplumber>=0.5.23 in c:\\users\\spanc\\anaconda3\\lib\\site-packages (from resume-parser) (0.10.2)\n",
      "Requirement already satisfied: phonenumbers>=8.12.7 in c:\\users\\spanc\\anaconda3\\lib\\site-packages (from resume-parser) (8.13.23)\n",
      "Requirement already satisfied: spacy>=2.3.2 in c:\\users\\spanc\\anaconda3\\lib\\site-packages (from resume-parser) (2.3.9)\n",
      "Requirement already satisfied: stemming>=1.0.1 in c:\\users\\spanc\\anaconda3\\lib\\site-packages (from resume-parser) (1.0.1)\n",
      "Requirement already satisfied: tika>=1.24 in c:\\users\\spanc\\anaconda3\\lib\\site-packages (from resume-parser) (2.6.0)\n",
      "Requirement already satisfied: click in c:\\users\\spanc\\anaconda3\\lib\\site-packages (from nltk>=3.5->resume-parser) (8.0.4)\n",
      "Requirement already satisfied: joblib in c:\\users\\spanc\\anaconda3\\lib\\site-packages (from nltk>=3.5->resume-parser) (1.2.0)\n",
      "Requirement already satisfied: regex>=2021.8.3 in c:\\users\\spanc\\anaconda3\\lib\\site-packages (from nltk>=3.5->resume-parser) (2022.7.9)\n",
      "Requirement already satisfied: tqdm in c:\\users\\spanc\\anaconda3\\lib\\site-packages (from nltk>=3.5->resume-parser) (4.65.0)\n",
      "Requirement already satisfied: python-dateutil>=2.8.2 in c:\\users\\spanc\\anaconda3\\lib\\site-packages (from pandas>=1.1.0->resume-parser) (2.8.2)\n",
      "Requirement already satisfied: pytz>=2020.1 in c:\\users\\spanc\\anaconda3\\lib\\site-packages (from pandas>=1.1.0->resume-parser) (2023.3.post1)\n",
      "Requirement already satisfied: tzdata>=2022.1 in c:\\users\\spanc\\anaconda3\\lib\\site-packages (from pandas>=1.1.0->resume-parser) (2023.3)\n",
      "Requirement already satisfied: charset-normalizer>=2.0.0 in c:\\users\\spanc\\anaconda3\\lib\\site-packages (from pdfminer.six>=20200517->resume-parser) (2.0.4)\n",
      "Requirement already satisfied: cryptography>=36.0.0 in c:\\users\\spanc\\anaconda3\\lib\\site-packages (from pdfminer.six>=20200517->resume-parser) (41.0.3)\n",
      "Requirement already satisfied: Pillow>=9.1 in c:\\users\\spanc\\anaconda3\\lib\\site-packages (from pdfplumber>=0.5.23->resume-parser) (9.4.0)\n",
      "Requirement already satisfied: pypdfium2>=4.18.0 in c:\\users\\spanc\\anaconda3\\lib\\site-packages (from pdfplumber>=0.5.23->resume-parser) (4.21.0)\n",
      "Requirement already satisfied: murmurhash<1.1.0,>=0.28.0 in c:\\users\\spanc\\anaconda3\\lib\\site-packages (from spacy>=2.3.2->resume-parser) (1.0.10)\n",
      "Requirement already satisfied: cymem<2.1.0,>=2.0.2 in c:\\users\\spanc\\anaconda3\\lib\\site-packages (from spacy>=2.3.2->resume-parser) (2.0.8)\n",
      "Requirement already satisfied: preshed<3.1.0,>=3.0.2 in c:\\users\\spanc\\anaconda3\\lib\\site-packages (from spacy>=2.3.2->resume-parser) (3.0.9)\n",
      "Requirement already satisfied: thinc<7.5.0,>=7.4.1 in c:\\users\\spanc\\anaconda3\\lib\\site-packages (from spacy>=2.3.2->resume-parser) (7.4.6)\n",
      "Requirement already satisfied: blis<0.8.0,>=0.4.0 in c:\\users\\spanc\\anaconda3\\lib\\site-packages (from spacy>=2.3.2->resume-parser) (0.7.11)\n",
      "Requirement already satisfied: wasabi<1.1.0,>=0.4.0 in c:\\users\\spanc\\anaconda3\\lib\\site-packages (from spacy>=2.3.2->resume-parser) (0.10.1)\n",
      "Requirement already satisfied: srsly<1.1.0,>=1.0.2 in c:\\users\\spanc\\anaconda3\\lib\\site-packages (from spacy>=2.3.2->resume-parser) (1.0.7)\n",
      "Requirement already satisfied: catalogue<1.1.0,>=0.0.7 in c:\\users\\spanc\\anaconda3\\lib\\site-packages (from spacy>=2.3.2->resume-parser) (1.0.2)\n",
      "Requirement already satisfied: setuptools in c:\\users\\spanc\\anaconda3\\lib\\site-packages (from spacy>=2.3.2->resume-parser) (69.0.2)\n",
      "Requirement already satisfied: plac<1.2.0,>=0.9.6 in c:\\users\\spanc\\anaconda3\\lib\\site-packages (from spacy>=2.3.2->resume-parser) (1.1.3)\n",
      "Requirement already satisfied: requests<3.0.0,>=2.13.0 in c:\\users\\spanc\\anaconda3\\lib\\site-packages (from spacy>=2.3.2->resume-parser) (2.31.0)\n",
      "Requirement already satisfied: cffi>=1.12 in c:\\users\\spanc\\anaconda3\\lib\\site-packages (from cryptography>=36.0.0->pdfminer.six>=20200517->resume-parser) (1.15.1)\n",
      "Requirement already satisfied: six>=1.5 in c:\\users\\spanc\\anaconda3\\lib\\site-packages (from python-dateutil>=2.8.2->pandas>=1.1.0->resume-parser) (1.16.0)\n",
      "Requirement already satisfied: idna<4,>=2.5 in c:\\users\\spanc\\anaconda3\\lib\\site-packages (from requests<3.0.0,>=2.13.0->spacy>=2.3.2->resume-parser) (3.4)\n",
      "Requirement already satisfied: urllib3<3,>=1.21.1 in c:\\users\\spanc\\anaconda3\\lib\\site-packages (from requests<3.0.0,>=2.13.0->spacy>=2.3.2->resume-parser) (1.26.16)\n",
      "Requirement already satisfied: certifi>=2017.4.17 in c:\\users\\spanc\\anaconda3\\lib\\site-packages (from requests<3.0.0,>=2.13.0->spacy>=2.3.2->resume-parser) (2023.7.22)\n",
      "Requirement already satisfied: colorama in c:\\users\\spanc\\anaconda3\\lib\\site-packages (from tqdm->nltk>=3.5->resume-parser) (0.4.6)\n",
      "Requirement already satisfied: pycparser in c:\\users\\spanc\\anaconda3\\lib\\site-packages (from cffi>=1.12->cryptography>=36.0.0->pdfminer.six>=20200517->resume-parser) (2.21)\n",
      "Note: you may need to restart the kernel to use updated packages.\n"
     ]
    }
   ],
   "source": [
    "pip install resume-parser"
   ]
  },
  {
   "cell_type": "code",
   "execution_count": 2,
   "id": "36b29459",
   "metadata": {},
   "outputs": [
    {
     "name": "stdout",
     "output_type": "stream",
     "text": [
      "Requirement already satisfied: nltk in c:\\users\\spanc\\anaconda3\\lib\\site-packages (3.8.1)\n",
      "Requirement already satisfied: click in c:\\users\\spanc\\anaconda3\\lib\\site-packages (from nltk) (8.0.4)\n",
      "Requirement already satisfied: joblib in c:\\users\\spanc\\anaconda3\\lib\\site-packages (from nltk) (1.2.0)\n",
      "Requirement already satisfied: regex>=2021.8.3 in c:\\users\\spanc\\anaconda3\\lib\\site-packages (from nltk) (2022.7.9)\n",
      "Requirement already satisfied: tqdm in c:\\users\\spanc\\anaconda3\\lib\\site-packages (from nltk) (4.65.0)\n",
      "Requirement already satisfied: colorama in c:\\users\\spanc\\anaconda3\\lib\\site-packages (from click->nltk) (0.4.6)\n",
      "Note: you may need to restart the kernel to use updated packages.\n"
     ]
    }
   ],
   "source": [
    "pip install nltk"
   ]
  },
  {
   "cell_type": "code",
   "execution_count": 3,
   "id": "5a4c5288",
   "metadata": {},
   "outputs": [
    {
     "name": "stdout",
     "output_type": "stream",
     "text": [
      "Note: you may need to restart the kernel to use updated packages.\n"
     ]
    },
    {
     "name": "stderr",
     "output_type": "stream",
     "text": [
      "WARNING: Retrying (Retry(total=4, connect=None, read=None, redirect=None, status=None)) after connection broken by 'ConnectTimeoutError(<pip._vendor.urllib3.connection.HTTPSConnection object at 0x000001C71ABD48D0>, 'Connection to pypi.org timed out. (connect timeout=15)')': /simple/spacy/\n",
      "WARNING: Retrying (Retry(total=3, connect=None, read=None, redirect=None, status=None)) after connection broken by 'ConnectTimeoutError(<pip._vendor.urllib3.connection.HTTPSConnection object at 0x000001C71AD8FF90>, 'Connection to pypi.org timed out. (connect timeout=15)')': /simple/spacy/\n",
      "WARNING: Retrying (Retry(total=2, connect=None, read=None, redirect=None, status=None)) after connection broken by 'ConnectTimeoutError(<pip._vendor.urllib3.connection.HTTPSConnection object at 0x000001C71ADAA790>, 'Connection to pypi.org timed out. (connect timeout=15)')': /simple/spacy/\n",
      "WARNING: Retrying (Retry(total=1, connect=None, read=None, redirect=None, status=None)) after connection broken by 'ConnectTimeoutError(<pip._vendor.urllib3.connection.HTTPSConnection object at 0x000001C71ADABC10>, 'Connection to pypi.org timed out. (connect timeout=15)')': /simple/spacy/\n",
      "WARNING: Retrying (Retry(total=0, connect=None, read=None, redirect=None, status=None)) after connection broken by 'ConnectTimeoutError(<pip._vendor.urllib3.connection.HTTPSConnection object at 0x000001C71ADABF10>, 'Connection to pypi.org timed out. (connect timeout=15)')': /simple/spacy/\n",
      "ERROR: Could not find a version that satisfies the requirement spacy==2.3.5 (from versions: none)\n",
      "ERROR: No matching distribution found for spacy==2.3.5\n"
     ]
    }
   ],
   "source": [
    "pip install spacy==2.3.5"
   ]
  },
  {
   "cell_type": "code",
   "execution_count": 4,
   "id": "4eb46529",
   "metadata": {},
   "outputs": [
    {
     "name": "stdout",
     "output_type": "stream",
     "text": [
      "Requirement already satisfied: pyresparser in c:\\users\\spanc\\anaconda3\\lib\\site-packages (1.0.6)\n",
      "Requirement already satisfied: attrs>=19.1.0 in c:\\users\\spanc\\anaconda3\\lib\\site-packages (from pyresparser) (22.1.0)\n",
      "Requirement already satisfied: blis>=0.2.4 in c:\\users\\spanc\\anaconda3\\lib\\site-packages (from pyresparser) (0.7.11)\n",
      "Requirement already satisfied: certifi>=2019.6.16 in c:\\users\\spanc\\anaconda3\\lib\\site-packages (from pyresparser) (2023.7.22)\n",
      "Requirement already satisfied: chardet>=3.0.4 in c:\\users\\spanc\\anaconda3\\lib\\site-packages (from pyresparser) (4.0.0)\n",
      "Requirement already satisfied: cymem>=2.0.2 in c:\\users\\spanc\\anaconda3\\lib\\site-packages (from pyresparser) (2.0.8)\n",
      "Requirement already satisfied: docx2txt>=0.7 in c:\\users\\spanc\\anaconda3\\lib\\site-packages (from pyresparser) (0.8)\n",
      "Requirement already satisfied: idna>=2.8 in c:\\users\\spanc\\anaconda3\\lib\\site-packages (from pyresparser) (3.4)\n",
      "Requirement already satisfied: jsonschema>=3.0.1 in c:\\users\\spanc\\anaconda3\\lib\\site-packages (from pyresparser) (4.17.3)\n",
      "Requirement already satisfied: nltk>=3.4.3 in c:\\users\\spanc\\anaconda3\\lib\\site-packages (from pyresparser) (3.8.1)\n",
      "Requirement already satisfied: numpy>=1.16.4 in c:\\users\\spanc\\anaconda3\\lib\\site-packages (from pyresparser) (1.24.3)\n",
      "Requirement already satisfied: pandas>=0.24.2 in c:\\users\\spanc\\anaconda3\\lib\\site-packages (from pyresparser) (2.0.3)\n",
      "Requirement already satisfied: pdfminer.six>=20181108 in c:\\users\\spanc\\anaconda3\\lib\\site-packages (from pyresparser) (20221105)\n",
      "Requirement already satisfied: preshed>=2.0.1 in c:\\users\\spanc\\anaconda3\\lib\\site-packages (from pyresparser) (3.0.9)\n",
      "Requirement already satisfied: pycryptodome>=3.8.2 in c:\\users\\spanc\\anaconda3\\lib\\site-packages (from pyresparser) (3.19.0)\n",
      "Requirement already satisfied: pyrsistent>=0.15.2 in c:\\users\\spanc\\anaconda3\\lib\\site-packages (from pyresparser) (0.18.0)\n",
      "Requirement already satisfied: python-dateutil>=2.8.0 in c:\\users\\spanc\\anaconda3\\lib\\site-packages (from pyresparser) (2.8.2)\n",
      "Requirement already satisfied: pytz>=2019.1 in c:\\users\\spanc\\anaconda3\\lib\\site-packages (from pyresparser) (2023.3.post1)\n",
      "Requirement already satisfied: requests>=2.22.0 in c:\\users\\spanc\\anaconda3\\lib\\site-packages (from pyresparser) (2.31.0)\n",
      "Requirement already satisfied: six>=1.12.0 in c:\\users\\spanc\\anaconda3\\lib\\site-packages (from pyresparser) (1.16.0)\n",
      "Requirement already satisfied: sortedcontainers>=2.1.0 in c:\\users\\spanc\\anaconda3\\lib\\site-packages (from pyresparser) (2.4.0)\n",
      "Requirement already satisfied: spacy>=2.1.4 in c:\\users\\spanc\\anaconda3\\lib\\site-packages (from pyresparser) (2.3.9)\n",
      "Requirement already satisfied: srsly>=0.0.7 in c:\\users\\spanc\\anaconda3\\lib\\site-packages (from pyresparser) (1.0.7)\n",
      "Requirement already satisfied: thinc>=7.0.4 in c:\\users\\spanc\\anaconda3\\lib\\site-packages (from pyresparser) (7.4.6)\n",
      "Requirement already satisfied: tqdm>=4.32.2 in c:\\users\\spanc\\anaconda3\\lib\\site-packages (from pyresparser) (4.65.0)\n",
      "Requirement already satisfied: urllib3>=1.25.3 in c:\\users\\spanc\\anaconda3\\lib\\site-packages (from pyresparser) (1.26.16)\n",
      "Requirement already satisfied: wasabi>=0.2.2 in c:\\users\\spanc\\anaconda3\\lib\\site-packages (from pyresparser) (0.10.1)\n",
      "Requirement already satisfied: click in c:\\users\\spanc\\anaconda3\\lib\\site-packages (from nltk>=3.4.3->pyresparser) (8.0.4)\n",
      "Requirement already satisfied: joblib in c:\\users\\spanc\\anaconda3\\lib\\site-packages (from nltk>=3.4.3->pyresparser) (1.2.0)\n",
      "Requirement already satisfied: regex>=2021.8.3 in c:\\users\\spanc\\anaconda3\\lib\\site-packages (from nltk>=3.4.3->pyresparser) (2022.7.9)\n",
      "Requirement already satisfied: tzdata>=2022.1 in c:\\users\\spanc\\anaconda3\\lib\\site-packages (from pandas>=0.24.2->pyresparser) (2023.3)\n",
      "Requirement already satisfied: charset-normalizer>=2.0.0 in c:\\users\\spanc\\anaconda3\\lib\\site-packages (from pdfminer.six>=20181108->pyresparser) (2.0.4)\n",
      "Requirement already satisfied: cryptography>=36.0.0 in c:\\users\\spanc\\anaconda3\\lib\\site-packages (from pdfminer.six>=20181108->pyresparser) (41.0.3)\n",
      "Requirement already satisfied: murmurhash<1.1.0,>=0.28.0 in c:\\users\\spanc\\anaconda3\\lib\\site-packages (from preshed>=2.0.1->pyresparser) (1.0.10)\n",
      "Requirement already satisfied: catalogue<1.1.0,>=0.0.7 in c:\\users\\spanc\\anaconda3\\lib\\site-packages (from spacy>=2.1.4->pyresparser) (1.0.2)\n",
      "Requirement already satisfied: setuptools in c:\\users\\spanc\\anaconda3\\lib\\site-packages (from spacy>=2.1.4->pyresparser) (69.0.2)\n",
      "Requirement already satisfied: plac<1.2.0,>=0.9.6 in c:\\users\\spanc\\anaconda3\\lib\\site-packages (from spacy>=2.1.4->pyresparser) (1.1.3)\n",
      "Requirement already satisfied: colorama in c:\\users\\spanc\\anaconda3\\lib\\site-packages (from tqdm>=4.32.2->pyresparser) (0.4.6)\n",
      "Requirement already satisfied: cffi>=1.12 in c:\\users\\spanc\\anaconda3\\lib\\site-packages (from cryptography>=36.0.0->pdfminer.six>=20181108->pyresparser) (1.15.1)\n",
      "Requirement already satisfied: pycparser in c:\\users\\spanc\\anaconda3\\lib\\site-packages (from cffi>=1.12->cryptography>=36.0.0->pdfminer.six>=20181108->pyresparser) (2.21)\n",
      "Note: you may need to restart the kernel to use updated packages.\n"
     ]
    }
   ],
   "source": [
    "pip install pyresparser"
   ]
  },
  {
   "cell_type": "code",
   "execution_count": 5,
   "id": "8720eb62",
   "metadata": {},
   "outputs": [
    {
     "name": "stdout",
     "output_type": "stream",
     "text": [
      "Requirement already satisfied: pip in c:\\users\\spanc\\anaconda3\\lib\\site-packages (23.3.1)\n",
      "Requirement already satisfied: setuptools in c:\\users\\spanc\\anaconda3\\lib\\site-packages (69.0.2)\n",
      "Requirement already satisfied: wheel in c:\\users\\spanc\\anaconda3\\lib\\site-packages (0.42.0)\n",
      "Note: you may need to restart the kernel to use updated packages.\n"
     ]
    },
    {
     "name": "stderr",
     "output_type": "stream",
     "text": [
      "WARNING: Retrying (Retry(total=4, connect=None, read=None, redirect=None, status=None)) after connection broken by 'NewConnectionError('<pip._vendor.urllib3.connection.HTTPSConnection object at 0x000002100DB26DD0>: Failed to establish a new connection: [Errno 11001] getaddrinfo failed')': /simple/pip/\n",
      "WARNING: Retrying (Retry(total=3, connect=None, read=None, redirect=None, status=None)) after connection broken by 'NewConnectionError('<pip._vendor.urllib3.connection.HTTPSConnection object at 0x000002100DAF50D0>: Failed to establish a new connection: [Errno 11001] getaddrinfo failed')': /simple/pip/\n",
      "WARNING: Retrying (Retry(total=2, connect=None, read=None, redirect=None, status=None)) after connection broken by 'NewConnectionError('<pip._vendor.urllib3.connection.HTTPSConnection object at 0x000002100DB2C050>: Failed to establish a new connection: [Errno 11001] getaddrinfo failed')': /simple/pip/\n",
      "WARNING: Retrying (Retry(total=1, connect=None, read=None, redirect=None, status=None)) after connection broken by 'NewConnectionError('<pip._vendor.urllib3.connection.HTTPSConnection object at 0x000002100DB2C2D0>: Failed to establish a new connection: [Errno 11001] getaddrinfo failed')': /simple/pip/\n",
      "WARNING: Retrying (Retry(total=0, connect=None, read=None, redirect=None, status=None)) after connection broken by 'NewConnectionError('<pip._vendor.urllib3.connection.HTTPSConnection object at 0x000002100DB20210>: Failed to establish a new connection: [Errno 11001] getaddrinfo failed')': /simple/pip/\n",
      "WARNING: Retrying (Retry(total=4, connect=None, read=None, redirect=None, status=None)) after connection broken by 'NewConnectionError('<pip._vendor.urllib3.connection.HTTPSConnection object at 0x000002100DB2B650>: Failed to establish a new connection: [Errno 11001] getaddrinfo failed')': /simple/setuptools/\n",
      "WARNING: Retrying (Retry(total=3, connect=None, read=None, redirect=None, status=None)) after connection broken by 'NewConnectionError('<pip._vendor.urllib3.connection.HTTPSConnection object at 0x000002100DB2BE10>: Failed to establish a new connection: [Errno 11001] getaddrinfo failed')': /simple/setuptools/\n",
      "WARNING: Retrying (Retry(total=2, connect=None, read=None, redirect=None, status=None)) after connection broken by 'NewConnectionError('<pip._vendor.urllib3.connection.HTTPSConnection object at 0x000002100DB14850>: Failed to establish a new connection: [Errno 11001] getaddrinfo failed')': /simple/setuptools/\n",
      "WARNING: Retrying (Retry(total=1, connect=None, read=None, redirect=None, status=None)) after connection broken by 'NewConnectionError('<pip._vendor.urllib3.connection.HTTPSConnection object at 0x000002100DADA090>: Failed to establish a new connection: [Errno 11001] getaddrinfo failed')': /simple/setuptools/\n",
      "WARNING: Retrying (Retry(total=0, connect=None, read=None, redirect=None, status=None)) after connection broken by 'NewConnectionError('<pip._vendor.urllib3.connection.HTTPSConnection object at 0x000002100DB20290>: Failed to establish a new connection: [Errno 11001] getaddrinfo failed')': /simple/setuptools/\n",
      "WARNING: Retrying (Retry(total=4, connect=None, read=None, redirect=None, status=None)) after connection broken by 'ConnectTimeoutError(<pip._vendor.urllib3.connection.HTTPSConnection object at 0x000002100DB0EA90>, 'Connection to pypi.org timed out. (connect timeout=15)')': /simple/wheel/\n",
      "WARNING: Retrying (Retry(total=3, connect=None, read=None, redirect=None, status=None)) after connection broken by 'NewConnectionError('<pip._vendor.urllib3.connection.HTTPSConnection object at 0x000002100DB14D10>: Failed to establish a new connection: [Errno 11001] getaddrinfo failed')': /simple/wheel/\n",
      "WARNING: Retrying (Retry(total=2, connect=None, read=None, redirect=None, status=None)) after connection broken by 'NewConnectionError('<pip._vendor.urllib3.connection.HTTPSConnection object at 0x000002100DB15710>: Failed to establish a new connection: [Errno 11001] getaddrinfo failed')': /simple/wheel/\n",
      "WARNING: Retrying (Retry(total=1, connect=None, read=None, redirect=None, status=None)) after connection broken by 'NewConnectionError('<pip._vendor.urllib3.connection.HTTPSConnection object at 0x000002100DB161D0>: Failed to establish a new connection: [Errno 11001] getaddrinfo failed')': /simple/wheel/\n",
      "WARNING: Retrying (Retry(total=0, connect=None, read=None, redirect=None, status=None)) after connection broken by 'NewConnectionError('<pip._vendor.urllib3.connection.HTTPSConnection object at 0x000002100DB16A90>: Failed to establish a new connection: [Errno 11001] getaddrinfo failed')': /simple/wheel/\n"
     ]
    }
   ],
   "source": [
    "pip install -U pip setuptools wheel"
   ]
  },
  {
   "cell_type": "code",
   "execution_count": 6,
   "id": "5a9d6cb7",
   "metadata": {},
   "outputs": [
    {
     "name": "stderr",
     "output_type": "stream",
     "text": [
      "[nltk_data] Error loading stopwords: <urlopen error [Errno 11001]\n",
      "[nltk_data]     getaddrinfo failed>\n"
     ]
    },
    {
     "data": {
      "text/plain": [
       "False"
      ]
     },
     "execution_count": 6,
     "metadata": {},
     "output_type": "execute_result"
    }
   ],
   "source": [
    "import nltk\n",
    "nltk.download('stopwords')"
   ]
  },
  {
   "cell_type": "code",
   "execution_count": 7,
   "id": "c9d2e7d9",
   "metadata": {},
   "outputs": [],
   "source": [
    "import pandas as pd\n",
    "import numpy as np\n",
    "import matplotlib.pyplot as plt\n",
    "from matplotlib.backends.backend_pdf import PdfPages"
   ]
  },
  {
   "cell_type": "code",
   "execution_count": 8,
   "id": "67066296",
   "metadata": {},
   "outputs": [
    {
     "name": "stdout",
     "output_type": "stream",
     "text": [
      "Requirement already satisfied: html5lib in c:\\users\\spanc\\anaconda3\\lib\\site-packages (1.1)\n",
      "Requirement already satisfied: six>=1.9 in c:\\users\\spanc\\anaconda3\\lib\\site-packages (from html5lib) (1.16.0)\n",
      "Requirement already satisfied: webencodings in c:\\users\\spanc\\anaconda3\\lib\\site-packages (from html5lib) (0.5.1)\n",
      "Note: you may need to restart the kernel to use updated packages.\n"
     ]
    }
   ],
   "source": [
    "pip install html5lib"
   ]
  },
  {
   "cell_type": "code",
   "execution_count": 9,
   "id": "695bb11f",
   "metadata": {},
   "outputs": [
    {
     "data": {
      "text/html": [
       "<div>\n",
       "<style scoped>\n",
       "    .dataframe tbody tr th:only-of-type {\n",
       "        vertical-align: middle;\n",
       "    }\n",
       "\n",
       "    .dataframe tbody tr th {\n",
       "        vertical-align: top;\n",
       "    }\n",
       "\n",
       "    .dataframe thead th {\n",
       "        text-align: right;\n",
       "    }\n",
       "</style>\n",
       "<table border=\"1\" class=\"dataframe\">\n",
       "  <thead>\n",
       "    <tr style=\"text-align: right;\">\n",
       "      <th></th>\n",
       "      <th>Category</th>\n",
       "      <th>Resume</th>\n",
       "      <th>Skill</th>\n",
       "    </tr>\n",
       "  </thead>\n",
       "  <tbody>\n",
       "    <tr>\n",
       "      <th>0</th>\n",
       "      <td>Data Science</td>\n",
       "      <td>Skills * Programming Languages: Python (pandas...</td>\n",
       "      <td></td>\n",
       "    </tr>\n",
       "    <tr>\n",
       "      <th>1</th>\n",
       "      <td>Data Science</td>\n",
       "      <td>Skills  R  Python  SAP HANA  Tableau  SAP HANA...</td>\n",
       "      <td></td>\n",
       "    </tr>\n",
       "    <tr>\n",
       "      <th>2</th>\n",
       "      <td>Data Science</td>\n",
       "      <td>Education Details \\r\\nMay 2013 to May 2017 B.E...</td>\n",
       "      <td></td>\n",
       "    </tr>\n",
       "    <tr>\n",
       "      <th>3</th>\n",
       "      <td>Data Science</td>\n",
       "      <td>Education Details \\r\\n B.Tech   Rayat and Bahr...</td>\n",
       "      <td></td>\n",
       "    </tr>\n",
       "    <tr>\n",
       "      <th>4</th>\n",
       "      <td>Data Science</td>\n",
       "      <td>Skills * Programming Languages: Python (pandas...</td>\n",
       "      <td></td>\n",
       "    </tr>\n",
       "    <tr>\n",
       "      <th>...</th>\n",
       "      <td>...</td>\n",
       "      <td>...</td>\n",
       "      <td>...</td>\n",
       "    </tr>\n",
       "    <tr>\n",
       "      <th>323</th>\n",
       "      <td>Testing</td>\n",
       "      <td>Computer Skills:   Proficient in MS office (Wo...</td>\n",
       "      <td></td>\n",
       "    </tr>\n",
       "    <tr>\n",
       "      <th>324</th>\n",
       "      <td>Testing</td>\n",
       "      <td>Willingness to accept the challenges.  Positi...</td>\n",
       "      <td></td>\n",
       "    </tr>\n",
       "    <tr>\n",
       "      <th>325</th>\n",
       "      <td>Testing</td>\n",
       "      <td>PERSONAL SKILLS   Quick learner,   Eagerness t...</td>\n",
       "      <td></td>\n",
       "    </tr>\n",
       "    <tr>\n",
       "      <th>326</th>\n",
       "      <td>Testing</td>\n",
       "      <td>COMPUTER SKILLS &amp; SOFTWARE KNOWLEDGE MS-Power ...</td>\n",
       "      <td></td>\n",
       "    </tr>\n",
       "    <tr>\n",
       "      <th>327</th>\n",
       "      <td>Testing</td>\n",
       "      <td>Skill Set OS Windows XP/7/8/8.1/10 Database MY...</td>\n",
       "      <td></td>\n",
       "    </tr>\n",
       "  </tbody>\n",
       "</table>\n",
       "<p>328 rows × 3 columns</p>\n",
       "</div>"
      ],
      "text/plain": [
       "         Category                                             Resume Skill\n",
       "0    Data Science  Skills * Programming Languages: Python (pandas...      \n",
       "1    Data Science  Skills  R  Python  SAP HANA  Tableau  SAP HANA...      \n",
       "2    Data Science  Education Details \\r\\nMay 2013 to May 2017 B.E...      \n",
       "3    Data Science  Education Details \\r\\n B.Tech   Rayat and Bahr...      \n",
       "4    Data Science  Skills * Programming Languages: Python (pandas...      \n",
       "..            ...                                                ...   ...\n",
       "323       Testing  Computer Skills:   Proficient in MS office (Wo...      \n",
       "324       Testing   Willingness to accept the challenges.  Positi...      \n",
       "325       Testing  PERSONAL SKILLS   Quick learner,   Eagerness t...      \n",
       "326       Testing  COMPUTER SKILLS & SOFTWARE KNOWLEDGE MS-Power ...      \n",
       "327       Testing  Skill Set OS Windows XP/7/8/8.1/10 Database MY...      \n",
       "\n",
       "[328 rows x 3 columns]"
      ]
     },
     "execution_count": 9,
     "metadata": {},
     "output_type": "execute_result"
    }
   ],
   "source": [
    "original_res = pd.read_csv('mined.csv')\n",
    "original_res['Skill']= ''\n",
    "original_res"
   ]
  },
  {
   "cell_type": "code",
   "execution_count": 10,
   "id": "8fa76501",
   "metadata": {},
   "outputs": [
    {
     "name": "stdout",
     "output_type": "stream",
     "text": [
      "Requirement already satisfied: pdfkit in c:\\users\\spanc\\anaconda3\\lib\\site-packages (1.0.0)\n",
      "Note: you may need to restart the kernel to use updated packages.\n"
     ]
    }
   ],
   "source": [
    "pip install pdfkit"
   ]
  },
  {
   "cell_type": "code",
   "execution_count": 11,
   "id": "40b8c1b8",
   "metadata": {},
   "outputs": [
    {
     "name": "stdout",
     "output_type": "stream",
     "text": [
      "Requirement already satisfied: fpdf in c:\\users\\spanc\\anaconda3\\lib\\site-packages (1.7.2)\n",
      "Note: you may need to restart the kernel to use updated packages.\n"
     ]
    }
   ],
   "source": [
    "pip install fpdf"
   ]
  },
  {
   "cell_type": "code",
   "execution_count": 12,
   "id": "49d6738a",
   "metadata": {},
   "outputs": [],
   "source": [
    "import pdfkit as pdf\n",
    "import sqlite3 \n",
    "from fpdf import FPDF"
   ]
  },
  {
   "cell_type": "code",
   "execution_count": 13,
   "id": "5d86e2df",
   "metadata": {},
   "outputs": [],
   "source": [
    "import spacy\n",
    "nlp=spacy.load('en_core_web_sm')"
   ]
  },
  {
   "cell_type": "code",
   "execution_count": 14,
   "id": "f73304d6",
   "metadata": {},
   "outputs": [],
   "source": [
    "for index, row in original_res.iterrows():\n",
    "    filename= f\"{index}.pdf\"\n",
    "    pdf = FPDF()\n",
    "    pdf.add_page()\n",
    "    \n",
    "    pdf.set_font(\"Arial\", size=10)\n",
    "    pdf.multi_cell(0, 10, txt=row['Category'])\n",
    "    pdf.multi_cell(0, 10, txt=row['Resume'])\n",
    "    \n",
    "    pdf.output(filename)"
   ]
  },
  {
   "cell_type": "code",
   "execution_count": null,
   "id": "f7a892d2",
   "metadata": {},
   "outputs": [],
   "source": []
  }
 ],
 "metadata": {
  "kernelspec": {
   "display_name": "Python 3 (ipykernel)",
   "language": "python",
   "name": "python3"
  },
  "language_info": {
   "codemirror_mode": {
    "name": "ipython",
    "version": 3
   },
   "file_extension": ".py",
   "mimetype": "text/x-python",
   "name": "python",
   "nbconvert_exporter": "python",
   "pygments_lexer": "ipython3",
   "version": "3.11.5"
  }
 },
 "nbformat": 4,
 "nbformat_minor": 5
}
