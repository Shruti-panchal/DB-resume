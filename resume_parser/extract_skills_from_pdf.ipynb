{
 "cells": [
  {
   "cell_type": "code",
   "execution_count": 1,
   "id": "968b2cc2",
   "metadata": {
    "collapsed": true
   },
   "outputs": [
    {
     "name": "stdout",
     "output_type": "stream",
     "text": [
      "Requirement already satisfied: resume-parser in c:\\users\\spanc\\anaconda3\\lib\\site-packages (0.8.4)Note: you may need to restart the kernel to use updated packages.\n",
      "\n",
      "Requirement already satisfied: docx2txt>=0.8 in c:\\users\\spanc\\anaconda3\\lib\\site-packages (from resume-parser) (0.8)\n",
      "Requirement already satisfied: nltk>=3.5 in c:\\users\\spanc\\anaconda3\\lib\\site-packages (from resume-parser) (3.8.1)\n",
      "Requirement already satisfied: numpy>=1.19.1 in c:\\users\\spanc\\anaconda3\\lib\\site-packages (from resume-parser) (1.24.3)\n",
      "Requirement already satisfied: pandas>=1.1.0 in c:\\users\\spanc\\anaconda3\\lib\\site-packages (from resume-parser) (2.0.3)\n",
      "Requirement already satisfied: pdfminer.six>=20200517 in c:\\users\\spanc\\anaconda3\\lib\\site-packages (from resume-parser) (20221105)\n",
      "Requirement already satisfied: pdfplumber>=0.5.23 in c:\\users\\spanc\\anaconda3\\lib\\site-packages (from resume-parser) (0.10.3)\n",
      "Requirement already satisfied: phonenumbers>=8.12.7 in c:\\users\\spanc\\anaconda3\\lib\\site-packages (from resume-parser) (8.13.27)\n",
      "Requirement already satisfied: spacy>=2.3.2 in c:\\users\\spanc\\anaconda3\\lib\\site-packages (from resume-parser) (2.3.9)\n",
      "Requirement already satisfied: stemming>=1.0.1 in c:\\users\\spanc\\anaconda3\\lib\\site-packages (from resume-parser) (1.0.1)\n",
      "Requirement already satisfied: tika>=1.24 in c:\\users\\spanc\\anaconda3\\lib\\site-packages (from resume-parser) (2.6.0)\n",
      "Requirement already satisfied: click in c:\\users\\spanc\\anaconda3\\lib\\site-packages (from nltk>=3.5->resume-parser) (8.0.4)\n",
      "Requirement already satisfied: joblib in c:\\users\\spanc\\anaconda3\\lib\\site-packages (from nltk>=3.5->resume-parser) (1.2.0)\n",
      "Requirement already satisfied: regex>=2021.8.3 in c:\\users\\spanc\\anaconda3\\lib\\site-packages (from nltk>=3.5->resume-parser) (2022.7.9)\n",
      "Requirement already satisfied: tqdm in c:\\users\\spanc\\anaconda3\\lib\\site-packages (from nltk>=3.5->resume-parser) (4.65.0)\n",
      "Requirement already satisfied: python-dateutil>=2.8.2 in c:\\users\\spanc\\anaconda3\\lib\\site-packages (from pandas>=1.1.0->resume-parser) (2.8.2)\n",
      "Requirement already satisfied: pytz>=2020.1 in c:\\users\\spanc\\anaconda3\\lib\\site-packages (from pandas>=1.1.0->resume-parser) (2023.3.post1)\n",
      "Requirement already satisfied: tzdata>=2022.1 in c:\\users\\spanc\\anaconda3\\lib\\site-packages (from pandas>=1.1.0->resume-parser) (2023.3)\n",
      "Requirement already satisfied: charset-normalizer>=2.0.0 in c:\\users\\spanc\\anaconda3\\lib\\site-packages (from pdfminer.six>=20200517->resume-parser) (2.0.4)\n",
      "Requirement already satisfied: cryptography>=36.0.0 in c:\\users\\spanc\\anaconda3\\lib\\site-packages (from pdfminer.six>=20200517->resume-parser) (41.0.3)\n",
      "Requirement already satisfied: Pillow>=9.1 in c:\\users\\spanc\\anaconda3\\lib\\site-packages (from pdfplumber>=0.5.23->resume-parser) (9.4.0)\n",
      "Requirement already satisfied: pypdfium2>=4.18.0 in c:\\users\\spanc\\anaconda3\\lib\\site-packages (from pdfplumber>=0.5.23->resume-parser) (4.25.0)\n",
      "Requirement already satisfied: murmurhash<1.1.0,>=0.28.0 in c:\\users\\spanc\\anaconda3\\lib\\site-packages (from spacy>=2.3.2->resume-parser) (1.0.10)\n",
      "Requirement already satisfied: cymem<2.1.0,>=2.0.2 in c:\\users\\spanc\\anaconda3\\lib\\site-packages (from spacy>=2.3.2->resume-parser) (2.0.8)\n",
      "Requirement already satisfied: preshed<3.1.0,>=3.0.2 in c:\\users\\spanc\\anaconda3\\lib\\site-packages (from spacy>=2.3.2->resume-parser) (3.0.9)\n",
      "Requirement already satisfied: thinc<7.5.0,>=7.4.1 in c:\\users\\spanc\\anaconda3\\lib\\site-packages (from spacy>=2.3.2->resume-parser) (7.4.6)\n",
      "Requirement already satisfied: blis<0.8.0,>=0.4.0 in c:\\users\\spanc\\anaconda3\\lib\\site-packages (from spacy>=2.3.2->resume-parser) (0.7.11)\n",
      "Requirement already satisfied: wasabi<1.1.0,>=0.4.0 in c:\\users\\spanc\\anaconda3\\lib\\site-packages (from spacy>=2.3.2->resume-parser) (0.10.1)\n",
      "Requirement already satisfied: srsly<1.1.0,>=1.0.2 in c:\\users\\spanc\\anaconda3\\lib\\site-packages (from spacy>=2.3.2->resume-parser) (1.0.7)\n",
      "Requirement already satisfied: catalogue<1.1.0,>=0.0.7 in c:\\users\\spanc\\anaconda3\\lib\\site-packages (from spacy>=2.3.2->resume-parser) (1.0.2)\n",
      "Requirement already satisfied: setuptools in c:\\users\\spanc\\anaconda3\\lib\\site-packages (from spacy>=2.3.2->resume-parser) (69.0.3)\n",
      "Requirement already satisfied: plac<1.2.0,>=0.9.6 in c:\\users\\spanc\\anaconda3\\lib\\site-packages (from spacy>=2.3.2->resume-parser) (1.1.3)\n",
      "Requirement already satisfied: requests<3.0.0,>=2.13.0 in c:\\users\\spanc\\anaconda3\\lib\\site-packages (from spacy>=2.3.2->resume-parser) (2.31.0)\n",
      "Requirement already satisfied: cffi>=1.12 in c:\\users\\spanc\\anaconda3\\lib\\site-packages (from cryptography>=36.0.0->pdfminer.six>=20200517->resume-parser) (1.15.1)\n",
      "Requirement already satisfied: six>=1.5 in c:\\users\\spanc\\anaconda3\\lib\\site-packages (from python-dateutil>=2.8.2->pandas>=1.1.0->resume-parser) (1.16.0)\n",
      "Requirement already satisfied: idna<4,>=2.5 in c:\\users\\spanc\\anaconda3\\lib\\site-packages (from requests<3.0.0,>=2.13.0->spacy>=2.3.2->resume-parser) (3.4)\n",
      "Requirement already satisfied: urllib3<3,>=1.21.1 in c:\\users\\spanc\\anaconda3\\lib\\site-packages (from requests<3.0.0,>=2.13.0->spacy>=2.3.2->resume-parser) (1.26.16)\n",
      "Requirement already satisfied: certifi>=2017.4.17 in c:\\users\\spanc\\anaconda3\\lib\\site-packages (from requests<3.0.0,>=2.13.0->spacy>=2.3.2->resume-parser) (2023.7.22)\n",
      "Requirement already satisfied: colorama in c:\\users\\spanc\\anaconda3\\lib\\site-packages (from tqdm->nltk>=3.5->resume-parser) (0.4.6)\n",
      "Requirement already satisfied: pycparser in c:\\users\\spanc\\anaconda3\\lib\\site-packages (from cffi>=1.12->cryptography>=36.0.0->pdfminer.six>=20200517->resume-parser) (2.21)\n"
     ]
    }
   ],
   "source": [
    "pip install resume-parser"
   ]
  },
  {
   "cell_type": "code",
   "execution_count": 2,
   "id": "6ab2616a",
   "metadata": {
    "collapsed": true
   },
   "outputs": [
    {
     "name": "stdout",
     "output_type": "stream",
     "text": [
      "Requirement already satisfied: nltk in c:\\users\\spanc\\anaconda3\\lib\\site-packages (3.8.1)\n",
      "Requirement already satisfied: click in c:\\users\\spanc\\anaconda3\\lib\\site-packages (from nltk) (8.0.4)\n",
      "Requirement already satisfied: joblib in c:\\users\\spanc\\anaconda3\\lib\\site-packages (from nltk) (1.2.0)\n",
      "Requirement already satisfied: regex>=2021.8.3 in c:\\users\\spanc\\anaconda3\\lib\\site-packages (from nltk) (2022.7.9)\n",
      "Requirement already satisfied: tqdm in c:\\users\\spanc\\anaconda3\\lib\\site-packages (from nltk) (4.65.0)\n",
      "Requirement already satisfied: colorama in c:\\users\\spanc\\anaconda3\\lib\\site-packages (from click->nltk) (0.4.6)\n",
      "Note: you may need to restart the kernel to use updated packages.\n"
     ]
    }
   ],
   "source": [
    "pip install nltk"
   ]
  },
  {
   "cell_type": "code",
   "execution_count": 11,
   "id": "212ed2ad",
   "metadata": {
    "collapsed": true
   },
   "outputs": [
    {
     "name": "stdout",
     "output_type": "stream",
     "text": [
      "Requirement already satisfied: spacy in c:\\users\\spanc\\anaconda3\\lib\\site-packages (2.3.9)\n",
      "Requirement already satisfied: murmurhash<1.1.0,>=0.28.0 in c:\\users\\spanc\\anaconda3\\lib\\site-packages (from spacy) (1.0.10)\n",
      "Requirement already satisfied: cymem<2.1.0,>=2.0.2 in c:\\users\\spanc\\anaconda3\\lib\\site-packages (from spacy) (2.0.8)\n",
      "Requirement already satisfied: preshed<3.1.0,>=3.0.2 in c:\\users\\spanc\\anaconda3\\lib\\site-packages (from spacy) (3.0.9)\n",
      "Requirement already satisfied: thinc<7.5.0,>=7.4.1 in c:\\users\\spanc\\anaconda3\\lib\\site-packages (from spacy) (7.4.6)\n",
      "Requirement already satisfied: blis<0.8.0,>=0.4.0 in c:\\users\\spanc\\anaconda3\\lib\\site-packages (from spacy) (0.7.11)\n",
      "Requirement already satisfied: wasabi<1.1.0,>=0.4.0 in c:\\users\\spanc\\anaconda3\\lib\\site-packages (from spacy) (0.10.1)\n",
      "Requirement already satisfied: srsly<1.1.0,>=1.0.2 in c:\\users\\spanc\\anaconda3\\lib\\site-packages (from spacy) (1.0.7)\n",
      "Requirement already satisfied: catalogue<1.1.0,>=0.0.7 in c:\\users\\spanc\\anaconda3\\lib\\site-packages (from spacy) (1.0.2)\n",
      "Requirement already satisfied: tqdm<5.0.0,>=4.38.0 in c:\\users\\spanc\\anaconda3\\lib\\site-packages (from spacy) (4.65.0)\n",
      "Requirement already satisfied: setuptools in c:\\users\\spanc\\anaconda3\\lib\\site-packages (from spacy) (69.0.3)\n",
      "Requirement already satisfied: numpy>=1.15.0 in c:\\users\\spanc\\anaconda3\\lib\\site-packages (from spacy) (1.24.3)\n",
      "Requirement already satisfied: plac<1.2.0,>=0.9.6 in c:\\users\\spanc\\anaconda3\\lib\\site-packages (from spacy) (1.1.3)\n",
      "Requirement already satisfied: requests<3.0.0,>=2.13.0 in c:\\users\\spanc\\anaconda3\\lib\\site-packages (from spacy) (2.31.0)\n",
      "Requirement already satisfied: charset-normalizer<4,>=2 in c:\\users\\spanc\\anaconda3\\lib\\site-packages (from requests<3.0.0,>=2.13.0->spacy) (2.0.4)\n",
      "Requirement already satisfied: idna<4,>=2.5 in c:\\users\\spanc\\anaconda3\\lib\\site-packages (from requests<3.0.0,>=2.13.0->spacy) (3.4)\n",
      "Requirement already satisfied: urllib3<3,>=1.21.1 in c:\\users\\spanc\\anaconda3\\lib\\site-packages (from requests<3.0.0,>=2.13.0->spacy) (1.26.16)\n",
      "Requirement already satisfied: certifi>=2017.4.17 in c:\\users\\spanc\\anaconda3\\lib\\site-packages (from requests<3.0.0,>=2.13.0->spacy) (2023.7.22)\n",
      "Requirement already satisfied: colorama in c:\\users\\spanc\\anaconda3\\lib\\site-packages (from tqdm<5.0.0,>=4.38.0->spacy) (0.4.6)\n",
      "Note: you may need to restart the kernel to use updated packages.\n"
     ]
    }
   ],
   "source": [
    "pip install spacy"
   ]
  },
  {
   "cell_type": "code",
   "execution_count": 12,
   "id": "5a78fcf1",
   "metadata": {
    "collapsed": true
   },
   "outputs": [
    {
     "name": "stdout",
     "output_type": "stream",
     "text": [
      "Collecting https://github.com/explosion/spacy-models/releases/download/en_core_web_sm-2.3.1/en_core_web_sm.tar.gz\n",
      "Note: you may need to restart the kernel to use updated packages.\n"
     ]
    },
    {
     "name": "stderr",
     "output_type": "stream",
     "text": [
      "  ERROR: HTTP error 404 while getting https://github.com/explosion/spacy-models/releases/download/en_core_web_sm-2.3.1/en_core_web_sm.tar.gz\n",
      "ERROR: Could not install requirement https://github.com/explosion/spacy-models/releases/download/en_core_web_sm-2.3.1/en_core_web_sm.tar.gz because of HTTP error 404 Client Error: Not Found for url: https://github.com/explosion/spacy-models/releases/download/en_core_web_sm-2.3.1/en_core_web_sm.tar.gz for URL https://github.com/explosion/spacy-models/releases/download/en_core_web_sm-2.3.1/en_core_web_sm.tar.gz\n"
     ]
    }
   ],
   "source": [
    "pip install https://github.com/explosion/spacy-models/releases/download/en_core_web_sm-2.3.1/en_core_web_sm.tar.gz"
   ]
  },
  {
   "cell_type": "code",
   "execution_count": 13,
   "id": "123860eb",
   "metadata": {
    "collapsed": true
   },
   "outputs": [
    {
     "name": "stdout",
     "output_type": "stream",
     "text": [
      "Requirement already satisfied: pyresparser in c:\\users\\spanc\\anaconda3\\lib\\site-packages (1.0.6)\n",
      "Requirement already satisfied: attrs>=19.1.0 in c:\\users\\spanc\\anaconda3\\lib\\site-packages (from pyresparser) (22.1.0)\n",
      "Requirement already satisfied: blis>=0.2.4 in c:\\users\\spanc\\anaconda3\\lib\\site-packages (from pyresparser) (0.7.11)\n",
      "Requirement already satisfied: certifi>=2019.6.16 in c:\\users\\spanc\\anaconda3\\lib\\site-packages (from pyresparser) (2023.7.22)\n",
      "Requirement already satisfied: chardet>=3.0.4 in c:\\users\\spanc\\anaconda3\\lib\\site-packages (from pyresparser) (4.0.0)\n",
      "Requirement already satisfied: cymem>=2.0.2 in c:\\users\\spanc\\anaconda3\\lib\\site-packages (from pyresparser) (2.0.8)\n",
      "Requirement already satisfied: docx2txt>=0.7 in c:\\users\\spanc\\anaconda3\\lib\\site-packages (from pyresparser) (0.8)\n",
      "Requirement already satisfied: idna>=2.8 in c:\\users\\spanc\\anaconda3\\lib\\site-packages (from pyresparser) (3.4)\n",
      "Requirement already satisfied: jsonschema>=3.0.1 in c:\\users\\spanc\\anaconda3\\lib\\site-packages (from pyresparser) (4.17.3)\n",
      "Requirement already satisfied: nltk>=3.4.3 in c:\\users\\spanc\\anaconda3\\lib\\site-packages (from pyresparser) (3.8.1)\n",
      "Requirement already satisfied: numpy>=1.16.4 in c:\\users\\spanc\\anaconda3\\lib\\site-packages (from pyresparser) (1.24.3)\n",
      "Requirement already satisfied: pandas>=0.24.2 in c:\\users\\spanc\\anaconda3\\lib\\site-packages (from pyresparser) (2.0.3)\n",
      "Requirement already satisfied: pdfminer.six>=20181108 in c:\\users\\spanc\\anaconda3\\lib\\site-packages (from pyresparser) (20221105)\n",
      "Requirement already satisfied: preshed>=2.0.1 in c:\\users\\spanc\\anaconda3\\lib\\site-packages (from pyresparser) (3.0.9)\n",
      "Requirement already satisfied: pycryptodome>=3.8.2 in c:\\users\\spanc\\anaconda3\\lib\\site-packages (from pyresparser) (3.19.1)\n",
      "Requirement already satisfied: pyrsistent>=0.15.2 in c:\\users\\spanc\\anaconda3\\lib\\site-packages (from pyresparser) (0.18.0)\n",
      "Requirement already satisfied: python-dateutil>=2.8.0 in c:\\users\\spanc\\anaconda3\\lib\\site-packages (from pyresparser) (2.8.2)\n",
      "Requirement already satisfied: pytz>=2019.1 in c:\\users\\spanc\\anaconda3\\lib\\site-packages (from pyresparser) (2023.3.post1)\n",
      "Requirement already satisfied: requests>=2.22.0 in c:\\users\\spanc\\anaconda3\\lib\\site-packages (from pyresparser) (2.31.0)\n",
      "Requirement already satisfied: six>=1.12.0 in c:\\users\\spanc\\anaconda3\\lib\\site-packages (from pyresparser) (1.16.0)\n",
      "Requirement already satisfied: sortedcontainers>=2.1.0 in c:\\users\\spanc\\anaconda3\\lib\\site-packages (from pyresparser) (2.4.0)\n",
      "Requirement already satisfied: spacy>=2.1.4 in c:\\users\\spanc\\anaconda3\\lib\\site-packages (from pyresparser) (2.3.9)\n",
      "Requirement already satisfied: srsly>=0.0.7 in c:\\users\\spanc\\anaconda3\\lib\\site-packages (from pyresparser) (1.0.7)\n",
      "Requirement already satisfied: thinc>=7.0.4 in c:\\users\\spanc\\anaconda3\\lib\\site-packages (from pyresparser) (7.4.6)\n",
      "Requirement already satisfied: tqdm>=4.32.2 in c:\\users\\spanc\\anaconda3\\lib\\site-packages (from pyresparser) (4.65.0)\n",
      "Requirement already satisfied: urllib3>=1.25.3 in c:\\users\\spanc\\anaconda3\\lib\\site-packages (from pyresparser) (1.26.16)\n",
      "Requirement already satisfied: wasabi>=0.2.2 in c:\\users\\spanc\\anaconda3\\lib\\site-packages (from pyresparser) (0.10.1)\n",
      "Requirement already satisfied: click in c:\\users\\spanc\\anaconda3\\lib\\site-packages (from nltk>=3.4.3->pyresparser) (8.0.4)\n",
      "Requirement already satisfied: joblib in c:\\users\\spanc\\anaconda3\\lib\\site-packages (from nltk>=3.4.3->pyresparser) (1.2.0)\n",
      "Requirement already satisfied: regex>=2021.8.3 in c:\\users\\spanc\\anaconda3\\lib\\site-packages (from nltk>=3.4.3->pyresparser) (2022.7.9)\n",
      "Requirement already satisfied: tzdata>=2022.1 in c:\\users\\spanc\\anaconda3\\lib\\site-packages (from pandas>=0.24.2->pyresparser) (2023.3)\n",
      "Requirement already satisfied: charset-normalizer>=2.0.0 in c:\\users\\spanc\\anaconda3\\lib\\site-packages (from pdfminer.six>=20181108->pyresparser) (2.0.4)\n",
      "Requirement already satisfied: cryptography>=36.0.0 in c:\\users\\spanc\\anaconda3\\lib\\site-packages (from pdfminer.six>=20181108->pyresparser) (41.0.3)\n",
      "Requirement already satisfied: murmurhash<1.1.0,>=0.28.0 in c:\\users\\spanc\\anaconda3\\lib\\site-packages (from preshed>=2.0.1->pyresparser) (1.0.10)\n",
      "Requirement already satisfied: catalogue<1.1.0,>=0.0.7 in c:\\users\\spanc\\anaconda3\\lib\\site-packages (from spacy>=2.1.4->pyresparser) (1.0.2)\n",
      "Requirement already satisfied: setuptools in c:\\users\\spanc\\anaconda3\\lib\\site-packages (from spacy>=2.1.4->pyresparser) (69.0.3)\n",
      "Requirement already satisfied: plac<1.2.0,>=0.9.6 in c:\\users\\spanc\\anaconda3\\lib\\site-packages (from spacy>=2.1.4->pyresparser) (1.1.3)\n",
      "Requirement already satisfied: colorama in c:\\users\\spanc\\anaconda3\\lib\\site-packages (from tqdm>=4.32.2->pyresparser) (0.4.6)\n",
      "Requirement already satisfied: cffi>=1.12 in c:\\users\\spanc\\anaconda3\\lib\\site-packages (from cryptography>=36.0.0->pdfminer.six>=20181108->pyresparser) (1.15.1)\n",
      "Requirement already satisfied: pycparser in c:\\users\\spanc\\anaconda3\\lib\\site-packages (from cffi>=1.12->cryptography>=36.0.0->pdfminer.six>=20181108->pyresparser) (2.21)\n",
      "Note: you may need to restart the kernel to use updated packages.\n"
     ]
    }
   ],
   "source": [
    "pip install pyresparser"
   ]
  },
  {
   "cell_type": "code",
   "execution_count": 14,
   "id": "215f9c4e",
   "metadata": {},
   "outputs": [
    {
     "name": "stdout",
     "output_type": "stream",
     "text": [
      "Requirement already satisfied: pip in c:\\users\\spanc\\anaconda3\\lib\\site-packages (23.3.2)\n",
      "Requirement already satisfied: setuptools in c:\\users\\spanc\\anaconda3\\lib\\site-packages (69.0.3)\n",
      "Requirement already satisfied: wheel in c:\\users\\spanc\\anaconda3\\lib\\site-packages (0.42.0)\n",
      "Note: you may need to restart the kernel to use updated packages.\n"
     ]
    }
   ],
   "source": [
    "pip install -U pip setuptools wheel"
   ]
  },
  {
   "cell_type": "code",
   "execution_count": 15,
   "id": "f0492e41",
   "metadata": {},
   "outputs": [
    {
     "name": "stdout",
     "output_type": "stream",
     "text": [
      "^C\n",
      "Note: you may need to restart the kernel to use updated packages.\n",
      "Found existing installation: spacy 2.3.9\n",
      "Uninstalling spacy-2.3.9:\n",
      "  Would remove:\n",
      "    c:\\users\\spanc\\anaconda3\\lib\\site-packages\\bin\\*\n",
      "    c:\\users\\spanc\\anaconda3\\lib\\site-packages\\spacy-2.3.9.dist-info\\*\n",
      "    c:\\users\\spanc\\anaconda3\\lib\\site-packages\\spacy\\*\n",
      "    c:\\users\\spanc\\anaconda3\\scripts\\spacy\n",
      "  Would not remove (might be manually added):\n",
      "    c:\\users\\spanc\\anaconda3\\lib\\site-packages\\spacy\\cli\\_util.py\n",
      "    c:\\users\\spanc\\anaconda3\\lib\\site-packages\\spacy\\cli\\apply.py\n",
      "    c:\\users\\spanc\\anaconda3\\lib\\site-packages\\spacy\\cli\\assemble.py\n",
      "    c:\\users\\spanc\\anaconda3\\lib\\site-packages\\spacy\\cli\\benchmark_speed.py\n",
      "    c:\\users\\spanc\\anaconda3\\lib\\site-packages\\spacy\\cli\\debug_config.py\n",
      "    c:\\users\\spanc\\anaconda3\\lib\\site-packages\\spacy\\cli\\debug_diff.py\n",
      "    c:\\users\\spanc\\anaconda3\\lib\\site-packages\\spacy\\cli\\debug_model.py\n",
      "    c:\\users\\spanc\\anaconda3\\lib\\site-packages\\spacy\\cli\\find_function.py\n",
      "    c:\\users\\spanc\\anaconda3\\lib\\site-packages\\spacy\\cli\\find_threshold.py\n",
      "    c:\\users\\spanc\\anaconda3\\lib\\site-packages\\spacy\\cli\\init_config.py\n",
      "    c:\\users\\spanc\\anaconda3\\lib\\site-packages\\spacy\\cli\\init_pipeline.py\n",
      "    c:\\users\\spanc\\anaconda3\\lib\\site-packages\\spacy\\cli\\project\\__init__.py\n",
      "    c:\\users\\spanc\\anaconda3\\lib\\site-packages\\spacy\\cli\\project\\assets.py\n",
      "    c:\\users\\spanc\\anaconda3\\lib\\site-packages\\spacy\\cli\\project\\clone.py\n",
      "    c:\\users\\spanc\\anaconda3\\lib\\site-packages\\spacy\\cli\\project\\document.py\n",
      "    c:\\users\\spanc\\anaconda3\\lib\\site-packages\\spacy\\cli\\project\\dvc.py\n",
      "    c:\\users\\spanc\\anaconda3\\lib\\site-packages\\spacy\\cli\\project\\pull.py\n",
      "    c:\\users\\spanc\\anaconda3\\lib\\site-packages\\spacy\\cli\\project\\push.py\n",
      "    c:\\users\\spanc\\anaconda3\\lib\\site-packages\\spacy\\cli\\project\\remote_storage.py\n",
      "    c:\\users\\spanc\\anaconda3\\lib\\site-packages\\spacy\\cli\\project\\run.py\n",
      "    c:\\users\\spanc\\anaconda3\\lib\\site-packages\\spacy\\cli\\templates\\quickstart_training.jinja\n",
      "    c:\\users\\spanc\\anaconda3\\lib\\site-packages\\spacy\\cli\\templates\\quickstart_training_recommendations.yml\n",
      "    c:\\users\\spanc\\anaconda3\\lib\\site-packages\\spacy\\default_config.cfg\n",
      "    c:\\users\\spanc\\anaconda3\\lib\\site-packages\\spacy\\default_config_pretraining.cfg\n",
      "    c:\\users\\spanc\\anaconda3\\lib\\site-packages\\spacy\\kb\\__init__.py\n",
      "    c:\\users\\spanc\\anaconda3\\lib\\site-packages\\spacy\\kb\\candidate.cp311-win_amd64.pyd\n",
      "    c:\\users\\spanc\\anaconda3\\lib\\site-packages\\spacy\\kb\\candidate.cpp\n",
      "    c:\\users\\spanc\\anaconda3\\lib\\site-packages\\spacy\\kb\\candidate.pxd\n",
      "    c:\\users\\spanc\\anaconda3\\lib\\site-packages\\spacy\\kb\\candidate.pyx\n",
      "    c:\\users\\spanc\\anaconda3\\lib\\site-packages\\spacy\\kb\\kb.cp311-win_amd64.pyd\n",
      "    c:\\users\\spanc\\anaconda3\\lib\\site-packages\\spacy\\kb\\kb.cpp\n",
      "    c:\\users\\spanc\\anaconda3\\lib\\site-packages\\spacy\\kb\\kb.pxd\n",
      "    c:\\users\\spanc\\anaconda3\\lib\\site-packages\\spacy\\kb\\kb.pyx\n",
      "    c:\\users\\spanc\\anaconda3\\lib\\site-packages\\spacy\\kb\\kb_in_memory.cp311-win_amd64.pyd\n",
      "    c:\\users\\spanc\\anaconda3\\lib\\site-packages\\spacy\\kb\\kb_in_memory.cpp\n",
      "    c:\\users\\spanc\\anaconda3\\lib\\site-packages\\spacy\\kb\\kb_in_memory.pxd\n",
      "    c:\\users\\spanc\\anaconda3\\lib\\site-packages\\spacy\\kb\\kb_in_memory.pyx\n",
      "    c:\\users\\spanc\\anaconda3\\lib\\site-packages\\spacy\\lang\\az\\__init__.py\n",
      "    c:\\users\\spanc\\anaconda3\\lib\\site-packages\\spacy\\lang\\az\\examples.py\n",
      "    c:\\users\\spanc\\anaconda3\\lib\\site-packages\\spacy\\lang\\az\\lex_attrs.py\n",
      "    c:\\users\\spanc\\anaconda3\\lib\\site-packages\\spacy\\lang\\az\\stop_words.py\n",
      "    c:\\users\\spanc\\anaconda3\\lib\\site-packages\\spacy\\lang\\bg\\lex_attrs.py\n",
      "    c:\\users\\spanc\\anaconda3\\lib\\site-packages\\spacy\\lang\\bg\\tokenizer_exceptions.py\n",
      "    c:\\users\\spanc\\anaconda3\\lib\\site-packages\\spacy\\lang\\ca\\lemmatizer.py\n",
      "    c:\\users\\spanc\\anaconda3\\lib\\site-packages\\spacy\\lang\\ca\\syntax_iterators.py\n",
      "    c:\\users\\spanc\\anaconda3\\lib\\site-packages\\spacy\\lang\\dsb\\__init__.py\n",
      "    c:\\users\\spanc\\anaconda3\\lib\\site-packages\\spacy\\lang\\dsb\\examples.py\n",
      "    c:\\users\\spanc\\anaconda3\\lib\\site-packages\\spacy\\lang\\dsb\\lex_attrs.py\n",
      "    c:\\users\\spanc\\anaconda3\\lib\\site-packages\\spacy\\lang\\dsb\\stop_words.py\n",
      "    c:\\users\\spanc\\anaconda3\\lib\\site-packages\\spacy\\lang\\en\\lemmatizer.py\n",
      "    c:\\users\\spanc\\anaconda3\\lib\\site-packages\\spacy\\lang\\en\\punctuation.py\n",
      "    c:\\users\\spanc\\anaconda3\\lib\\site-packages\\spacy\\lang\\es\\lemmatizer.py\n",
      "    c:\\users\\spanc\\anaconda3\\lib\\site-packages\\spacy\\lang\\fi\\syntax_iterators.py\n",
      "    c:\\users\\spanc\\anaconda3\\lib\\site-packages\\spacy\\lang\\ga\\lemmatizer.py\n",
      "    c:\\users\\spanc\\anaconda3\\lib\\site-packages\\spacy\\lang\\grc\\__init__.py\n",
      "    c:\\users\\spanc\\anaconda3\\lib\\site-packages\\spacy\\lang\\grc\\examples.py\n",
      "    c:\\users\\spanc\\anaconda3\\lib\\site-packages\\spacy\\lang\\grc\\lex_attrs.py\n",
      "    c:\\users\\spanc\\anaconda3\\lib\\site-packages\\spacy\\lang\\grc\\punctuation.py\n",
      "    c:\\users\\spanc\\anaconda3\\lib\\site-packages\\spacy\\lang\\grc\\stop_words.py\n",
      "    c:\\users\\spanc\\anaconda3\\lib\\site-packages\\spacy\\lang\\grc\\tokenizer_exceptions.py\n",
      "    c:\\users\\spanc\\anaconda3\\lib\\site-packages\\spacy\\lang\\hsb\\__init__.py\n",
      "    c:\\users\\spanc\\anaconda3\\lib\\site-packages\\spacy\\lang\\hsb\\examples.py\n",
      "    c:\\users\\spanc\\anaconda3\\lib\\site-packages\\spacy\\lang\\hsb\\lex_attrs.py\n",
      "    c:\\users\\spanc\\anaconda3\\lib\\site-packages\\spacy\\lang\\hsb\\stop_words.py\n",
      "    c:\\users\\spanc\\anaconda3\\lib\\site-packages\\spacy\\lang\\hsb\\tokenizer_exceptions.py\n",
      "    c:\\users\\spanc\\anaconda3\\lib\\site-packages\\spacy\\lang\\it\\lemmatizer.py\n",
      "    c:\\users\\spanc\\anaconda3\\lib\\site-packages\\spacy\\lang\\it\\syntax_iterators.py\n",
      "    c:\\users\\spanc\\anaconda3\\lib\\site-packages\\spacy\\lang\\ko\\punctuation.py\n",
      "    c:\\users\\spanc\\anaconda3\\lib\\site-packages\\spacy\\lang\\la\\__init__.py\n",
      "    c:\\users\\spanc\\anaconda3\\lib\\site-packages\\spacy\\lang\\la\\examples.py\n",
      "    c:\\users\\spanc\\anaconda3\\lib\\site-packages\\spacy\\lang\\la\\lex_attrs.py\n",
      "    c:\\users\\spanc\\anaconda3\\lib\\site-packages\\spacy\\lang\\la\\stop_words.py\n",
      "    c:\\users\\spanc\\anaconda3\\lib\\site-packages\\spacy\\lang\\la\\syntax_iterators.py\n",
      "    c:\\users\\spanc\\anaconda3\\lib\\site-packages\\spacy\\lang\\la\\tokenizer_exceptions.py\n",
      "    c:\\users\\spanc\\anaconda3\\lib\\site-packages\\spacy\\lang\\lg\\__init__.py\n",
      "    c:\\users\\spanc\\anaconda3\\lib\\site-packages\\spacy\\lang\\lg\\examples.py\n",
      "    c:\\users\\spanc\\anaconda3\\lib\\site-packages\\spacy\\lang\\lg\\lex_attrs.py\n",
      "    c:\\users\\spanc\\anaconda3\\lib\\site-packages\\spacy\\lang\\lg\\punctuation.py\n",
      "    c:\\users\\spanc\\anaconda3\\lib\\site-packages\\spacy\\lang\\lg\\stop_words.py\n",
      "    c:\\users\\spanc\\anaconda3\\lib\\site-packages\\spacy\\lang\\ms\\__init__.py\n",
      "    c:\\users\\spanc\\anaconda3\\lib\\site-packages\\spacy\\lang\\ms\\_tokenizer_exceptions_list.py\n",
      "    c:\\users\\spanc\\anaconda3\\lib\\site-packages\\spacy\\lang\\ms\\examples.py\n",
      "    c:\\users\\spanc\\anaconda3\\lib\\site-packages\\spacy\\lang\\ms\\lex_attrs.py\n",
      "    c:\\users\\spanc\\anaconda3\\lib\\site-packages\\spacy\\lang\\ms\\punctuation.py\n",
      "    c:\\users\\spanc\\anaconda3\\lib\\site-packages\\spacy\\lang\\ms\\stop_words.py\n",
      "    c:\\users\\spanc\\anaconda3\\lib\\site-packages\\spacy\\lang\\ms\\syntax_iterators.py\n",
      "    c:\\users\\spanc\\anaconda3\\lib\\site-packages\\spacy\\lang\\ms\\tokenizer_exceptions.py\n",
      "    c:\\users\\spanc\\anaconda3\\lib\\site-packages\\spacy\\lang\\nl\\syntax_iterators.py\n",
      "    c:\\users\\spanc\\anaconda3\\lib\\site-packages\\spacy\\lang\\pt\\syntax_iterators.py\n",
      "    c:\\users\\spanc\\anaconda3\\lib\\site-packages\\spacy\\lang\\sl\\examples.py\n",
      "    c:\\users\\spanc\\anaconda3\\lib\\site-packages\\spacy\\lang\\sl\\lex_attrs.py\n",
      "    c:\\users\\spanc\\anaconda3\\lib\\site-packages\\spacy\\lang\\sl\\punctuation.py\n",
      "    c:\\users\\spanc\\anaconda3\\lib\\site-packages\\spacy\\lang\\sl\\tokenizer_exceptions.py\n",
      "    c:\\users\\spanc\\anaconda3\\lib\\site-packages\\spacy\\lang\\sr\\punctuation.py\n",
      "    c:\\users\\spanc\\anaconda3\\lib\\site-packages\\spacy\\lang\\sv\\punctuation.py\n",
      "    c:\\users\\spanc\\anaconda3\\lib\\site-packages\\spacy\\lang\\tn\\__init__.py\n",
      "    c:\\users\\spanc\\anaconda3\\lib\\site-packages\\spacy\\lang\\tn\\examples.py\n",
      "    c:\\users\\spanc\\anaconda3\\lib\\site-packages\\spacy\\lang\\tn\\lex_attrs.py\n",
      "    c:\\users\\spanc\\anaconda3\\lib\\site-packages\\spacy\\lang\\tn\\punctuation.py\n",
      "    c:\\users\\spanc\\anaconda3\\lib\\site-packages\\spacy\\lang\\tn\\stop_words.py\n",
      "    c:\\users\\spanc\\anaconda3\\lib\\site-packages\\spacy\\lang\\vi\\examples.py\n",
      "    c:\\users\\spanc\\anaconda3\\lib\\site-packages\\spacy\\lexeme.pyi\n",
      "    c:\\users\\spanc\\anaconda3\\lib\\site-packages\\spacy\\matcher\\dependencymatcher.pyi\n",
      "    c:\\users\\spanc\\anaconda3\\lib\\site-packages\\spacy\\matcher\\levenshtein.c\n",
      "    c:\\users\\spanc\\anaconda3\\lib\\site-packages\\spacy\\matcher\\levenshtein.cp311-win_amd64.pyd\n",
      "    c:\\users\\spanc\\anaconda3\\lib\\site-packages\\spacy\\matcher\\levenshtein.pyx\n",
      "    c:\\users\\spanc\\anaconda3\\lib\\site-packages\\spacy\\matcher\\matcher.pyi\n",
      "    c:\\users\\spanc\\anaconda3\\lib\\site-packages\\spacy\\matcher\\phrasematcher.pyi\n",
      "    c:\\users\\spanc\\anaconda3\\lib\\site-packages\\spacy\\matcher\\polyleven.c\n",
      "    c:\\users\\spanc\\anaconda3\\lib\\site-packages\\spacy\\ml\\_character_embed.py\n",
      "    c:\\users\\spanc\\anaconda3\\lib\\site-packages\\spacy\\ml\\_precomputable_affine.py\n",
      "    c:\\users\\spanc\\anaconda3\\lib\\site-packages\\spacy\\ml\\callbacks.py\n",
      "    c:\\users\\spanc\\anaconda3\\lib\\site-packages\\spacy\\ml\\extract_ngrams.py\n",
      "    c:\\users\\spanc\\anaconda3\\lib\\site-packages\\spacy\\ml\\extract_spans.py\n",
      "    c:\\users\\spanc\\anaconda3\\lib\\site-packages\\spacy\\ml\\featureextractor.py\n",
      "    c:\\users\\spanc\\anaconda3\\lib\\site-packages\\spacy\\ml\\models\\__init__.py\n",
      "    c:\\users\\spanc\\anaconda3\\lib\\site-packages\\spacy\\ml\\models\\entity_linker.py\n",
      "    c:\\users\\spanc\\anaconda3\\lib\\site-packages\\spacy\\ml\\models\\multi_task.py\n",
      "    c:\\users\\spanc\\anaconda3\\lib\\site-packages\\spacy\\ml\\models\\parser.py\n",
      "    c:\\users\\spanc\\anaconda3\\lib\\site-packages\\spacy\\ml\\models\\span_finder.py\n",
      "    c:\\users\\spanc\\anaconda3\\lib\\site-packages\\spacy\\ml\\models\\spancat.py\n",
      "    c:\\users\\spanc\\anaconda3\\lib\\site-packages\\spacy\\ml\\models\\tagger.py\n",
      "    c:\\users\\spanc\\anaconda3\\lib\\site-packages\\spacy\\ml\\models\\textcat.py\n",
      "    c:\\users\\spanc\\anaconda3\\lib\\site-packages\\spacy\\ml\\models\\tok2vec.py\n",
      "    c:\\users\\spanc\\anaconda3\\lib\\site-packages\\spacy\\ml\\parser_model.cp311-win_amd64.pyd\n",
      "    c:\\users\\spanc\\anaconda3\\lib\\site-packages\\spacy\\ml\\parser_model.cpp\n",
      "    c:\\users\\spanc\\anaconda3\\lib\\site-packages\\spacy\\ml\\parser_model.pxd\n",
      "    c:\\users\\spanc\\anaconda3\\lib\\site-packages\\spacy\\ml\\parser_model.pyx\n",
      "    c:\\users\\spanc\\anaconda3\\lib\\site-packages\\spacy\\ml\\staticvectors.py\n",
      "    c:\\users\\spanc\\anaconda3\\lib\\site-packages\\spacy\\ml\\tb_framework.py\n",
      "    c:\\users\\spanc\\anaconda3\\lib\\site-packages\\spacy\\pipe_analysis.py\n",
      "    c:\\users\\spanc\\anaconda3\\lib\\site-packages\\spacy\\pipeline\\_edit_tree_internals\\__init__.py\n",
      "    c:\\users\\spanc\\anaconda3\\lib\\site-packages\\spacy\\pipeline\\_edit_tree_internals\\edit_trees.cp311-win_amd64.pyd\n",
      "    c:\\users\\spanc\\anaconda3\\lib\\site-packages\\spacy\\pipeline\\_edit_tree_internals\\edit_trees.cpp\n",
      "    c:\\users\\spanc\\anaconda3\\lib\\site-packages\\spacy\\pipeline\\_edit_tree_internals\\edit_trees.pxd\n",
      "    c:\\users\\spanc\\anaconda3\\lib\\site-packages\\spacy\\pipeline\\_edit_tree_internals\\edit_trees.pyx\n",
      "    c:\\users\\spanc\\anaconda3\\lib\\site-packages\\spacy\\pipeline\\_edit_tree_internals\\schemas.py\n",
      "    c:\\users\\spanc\\anaconda3\\lib\\site-packages\\spacy\\pipeline\\_parser_internals\\__init__.pxd\n",
      "    c:\\users\\spanc\\anaconda3\\lib\\site-packages\\spacy\\pipeline\\_parser_internals\\__init__.py\n",
      "    c:\\users\\spanc\\anaconda3\\lib\\site-packages\\spacy\\pipeline\\_parser_internals\\_beam_utils.cp311-win_amd64.pyd\n",
      "    c:\\users\\spanc\\anaconda3\\lib\\site-packages\\spacy\\pipeline\\_parser_internals\\_beam_utils.cpp\n",
      "    c:\\users\\spanc\\anaconda3\\lib\\site-packages\\spacy\\pipeline\\_parser_internals\\_beam_utils.pxd\n",
      "    c:\\users\\spanc\\anaconda3\\lib\\site-packages\\spacy\\pipeline\\_parser_internals\\_beam_utils.pyx\n",
      "    c:\\users\\spanc\\anaconda3\\lib\\site-packages\\spacy\\pipeline\\_parser_internals\\_state.cp311-win_amd64.pyd\n",
      "    c:\\users\\spanc\\anaconda3\\lib\\site-packages\\spacy\\pipeline\\_parser_internals\\_state.cpp\n",
      "    c:\\users\\spanc\\anaconda3\\lib\\site-packages\\spacy\\pipeline\\_parser_internals\\_state.pxd\n",
      "    c:\\users\\spanc\\anaconda3\\lib\\site-packages\\spacy\\pipeline\\_parser_internals\\_state.pyx\n",
      "    c:\\users\\spanc\\anaconda3\\lib\\site-packages\\spacy\\pipeline\\_parser_internals\\arc_eager.cp311-win_amd64.pyd\n",
      "    c:\\users\\spanc\\anaconda3\\lib\\site-packages\\spacy\\pipeline\\_parser_internals\\arc_eager.cpp\n",
      "    c:\\users\\spanc\\anaconda3\\lib\\site-packages\\spacy\\pipeline\\_parser_internals\\arc_eager.pxd\n",
      "    c:\\users\\spanc\\anaconda3\\lib\\site-packages\\spacy\\pipeline\\_parser_internals\\arc_eager.pyx\n",
      "    c:\\users\\spanc\\anaconda3\\lib\\site-packages\\spacy\\pipeline\\_parser_internals\\ner.cp311-win_amd64.pyd\n",
      "    c:\\users\\spanc\\anaconda3\\lib\\site-packages\\spacy\\pipeline\\_parser_internals\\ner.cpp\n",
      "    c:\\users\\spanc\\anaconda3\\lib\\site-packages\\spacy\\pipeline\\_parser_internals\\ner.pxd\n",
      "    c:\\users\\spanc\\anaconda3\\lib\\site-packages\\spacy\\pipeline\\_parser_internals\\ner.pyx\n",
      "    c:\\users\\spanc\\anaconda3\\lib\\site-packages\\spacy\\pipeline\\_parser_internals\\nonproj.cp311-win_amd64.pyd\n",
      "    c:\\users\\spanc\\anaconda3\\lib\\site-packages\\spacy\\pipeline\\_parser_internals\\nonproj.cpp\n",
      "    c:\\users\\spanc\\anaconda3\\lib\\site-packages\\spacy\\pipeline\\_parser_internals\\nonproj.hh\n",
      "    c:\\users\\spanc\\anaconda3\\lib\\site-packages\\spacy\\pipeline\\_parser_internals\\nonproj.pxd\n",
      "    c:\\users\\spanc\\anaconda3\\lib\\site-packages\\spacy\\pipeline\\_parser_internals\\nonproj.pyx\n",
      "    c:\\users\\spanc\\anaconda3\\lib\\site-packages\\spacy\\pipeline\\_parser_internals\\stateclass.cp311-win_amd64.pyd\n",
      "    c:\\users\\spanc\\anaconda3\\lib\\site-packages\\spacy\\pipeline\\_parser_internals\\stateclass.cpp\n",
      "    c:\\users\\spanc\\anaconda3\\lib\\site-packages\\spacy\\pipeline\\_parser_internals\\stateclass.pxd\n",
      "    c:\\users\\spanc\\anaconda3\\lib\\site-packages\\spacy\\pipeline\\_parser_internals\\stateclass.pyx\n",
      "    c:\\users\\spanc\\anaconda3\\lib\\site-packages\\spacy\\pipeline\\_parser_internals\\transition_system.cp311-win_amd64.pyd\n",
      "    c:\\users\\spanc\\anaconda3\\lib\\site-packages\\spacy\\pipeline\\_parser_internals\\transition_system.cpp\n",
      "    c:\\users\\spanc\\anaconda3\\lib\\site-packages\\spacy\\pipeline\\_parser_internals\\transition_system.pxd\n",
      "    c:\\users\\spanc\\anaconda3\\lib\\site-packages\\spacy\\pipeline\\_parser_internals\\transition_system.pyx\n",
      "    c:\\users\\spanc\\anaconda3\\lib\\site-packages\\spacy\\pipeline\\attributeruler.py\n",
      "    c:\\users\\spanc\\anaconda3\\lib\\site-packages\\spacy\\pipeline\\dep_parser.cp311-win_amd64.pyd\n",
      "    c:\\users\\spanc\\anaconda3\\lib\\site-packages\\spacy\\pipeline\\dep_parser.cpp\n",
      "    c:\\users\\spanc\\anaconda3\\lib\\site-packages\\spacy\\pipeline\\dep_parser.pyx\n",
      "    c:\\users\\spanc\\anaconda3\\lib\\site-packages\\spacy\\pipeline\\edit_tree_lemmatizer.py\n",
      "    c:\\users\\spanc\\anaconda3\\lib\\site-packages\\spacy\\pipeline\\entity_linker.py\n",
      "    c:\\users\\spanc\\anaconda3\\lib\\site-packages\\spacy\\pipeline\\legacy\\__init__.py\n",
      "    c:\\users\\spanc\\anaconda3\\lib\\site-packages\\spacy\\pipeline\\legacy\\entity_linker.py\n",
      "    c:\\users\\spanc\\anaconda3\\lib\\site-packages\\spacy\\pipeline\\lemmatizer.py\n",
      "    c:\\users\\spanc\\anaconda3\\lib\\site-packages\\spacy\\pipeline\\multitask.cp311-win_amd64.pyd\n",
      "    c:\\users\\spanc\\anaconda3\\lib\\site-packages\\spacy\\pipeline\\multitask.cpp\n",
      "    c:\\users\\spanc\\anaconda3\\lib\\site-packages\\spacy\\pipeline\\multitask.pyx\n",
      "    c:\\users\\spanc\\anaconda3\\lib\\site-packages\\spacy\\pipeline\\ner.cp311-win_amd64.pyd\n",
      "    c:\\users\\spanc\\anaconda3\\lib\\site-packages\\spacy\\pipeline\\ner.cpp\n",
      "    c:\\users\\spanc\\anaconda3\\lib\\site-packages\\spacy\\pipeline\\ner.pyx\n",
      "    c:\\users\\spanc\\anaconda3\\lib\\site-packages\\spacy\\pipeline\\pipe.cp311-win_amd64.pyd\n",
      "    c:\\users\\spanc\\anaconda3\\lib\\site-packages\\spacy\\pipeline\\pipe.cpp\n",
      "    c:\\users\\spanc\\anaconda3\\lib\\site-packages\\spacy\\pipeline\\pipe.pxd\n",
      "    c:\\users\\spanc\\anaconda3\\lib\\site-packages\\spacy\\pipeline\\pipe.pyi\n",
      "    c:\\users\\spanc\\anaconda3\\lib\\site-packages\\spacy\\pipeline\\pipe.pyx\n",
      "    c:\\users\\spanc\\anaconda3\\lib\\site-packages\\spacy\\pipeline\\sentencizer.cp311-win_amd64.pyd\n",
      "    c:\\users\\spanc\\anaconda3\\lib\\site-packages\\spacy\\pipeline\\sentencizer.cpp\n",
      "    c:\\users\\spanc\\anaconda3\\lib\\site-packages\\spacy\\pipeline\\sentencizer.pyx\n",
      "    c:\\users\\spanc\\anaconda3\\lib\\site-packages\\spacy\\pipeline\\senter.cp311-win_amd64.pyd\n",
      "    c:\\users\\spanc\\anaconda3\\lib\\site-packages\\spacy\\pipeline\\senter.cpp\n",
      "    c:\\users\\spanc\\anaconda3\\lib\\site-packages\\spacy\\pipeline\\senter.pyx\n",
      "    c:\\users\\spanc\\anaconda3\\lib\\site-packages\\spacy\\pipeline\\span_finder.py\n",
      "    c:\\users\\spanc\\anaconda3\\lib\\site-packages\\spacy\\pipeline\\span_ruler.py\n",
      "    c:\\users\\spanc\\anaconda3\\lib\\site-packages\\spacy\\pipeline\\spancat.py\n",
      "    c:\\users\\spanc\\anaconda3\\lib\\site-packages\\spacy\\pipeline\\tagger.cp311-win_amd64.pyd\n",
      "    c:\\users\\spanc\\anaconda3\\lib\\site-packages\\spacy\\pipeline\\tagger.cpp\n",
      "    c:\\users\\spanc\\anaconda3\\lib\\site-packages\\spacy\\pipeline\\tagger.pyx\n",
      "    c:\\users\\spanc\\anaconda3\\lib\\site-packages\\spacy\\pipeline\\textcat.py\n",
      "    c:\\users\\spanc\\anaconda3\\lib\\site-packages\\spacy\\pipeline\\textcat_multilabel.py\n",
      "    c:\\users\\spanc\\anaconda3\\lib\\site-packages\\spacy\\pipeline\\tok2vec.py\n",
      "    c:\\users\\spanc\\anaconda3\\lib\\site-packages\\spacy\\pipeline\\trainable_pipe.cp311-win_amd64.pyd\n",
      "    c:\\users\\spanc\\anaconda3\\lib\\site-packages\\spacy\\pipeline\\trainable_pipe.cpp\n",
      "    c:\\users\\spanc\\anaconda3\\lib\\site-packages\\spacy\\pipeline\\trainable_pipe.pxd\n",
      "    c:\\users\\spanc\\anaconda3\\lib\\site-packages\\spacy\\pipeline\\trainable_pipe.pyx\n",
      "    c:\\users\\spanc\\anaconda3\\lib\\site-packages\\spacy\\pipeline\\transition_parser.cp311-win_amd64.pyd\n",
      "    c:\\users\\spanc\\anaconda3\\lib\\site-packages\\spacy\\pipeline\\transition_parser.cpp\n",
      "    c:\\users\\spanc\\anaconda3\\lib\\site-packages\\spacy\\pipeline\\transition_parser.pxd\n",
      "    c:\\users\\spanc\\anaconda3\\lib\\site-packages\\spacy\\pipeline\\transition_parser.pyx\n",
      "    c:\\users\\spanc\\anaconda3\\lib\\site-packages\\spacy\\py.typed\n",
      "    c:\\users\\spanc\\anaconda3\\lib\\site-packages\\spacy\\schemas.py\n",
      "    c:\\users\\spanc\\anaconda3\\lib\\site-packages\\spacy\\strings.pyi\n",
      "    c:\\users\\spanc\\anaconda3\\lib\\site-packages\\spacy\\tests\\doc\\test_graph.py\n",
      "    c:\\users\\spanc\\anaconda3\\lib\\site-packages\\spacy\\tests\\doc\\test_json_doc_conversion.py\n",
      "    c:\\users\\spanc\\anaconda3\\lib\\site-packages\\spacy\\tests\\doc\\test_span_group.py\n",
      "    c:\\users\\spanc\\anaconda3\\lib\\site-packages\\spacy\\tests\\enable_gpu.py\n",
      "    c:\\users\\spanc\\anaconda3\\lib\\site-packages\\spacy\\tests\\lang\\af\\__init__.py\n",
      "    c:\\users\\spanc\\anaconda3\\lib\\site-packages\\spacy\\tests\\lang\\af\\test_text.py\n",
      "    c:\\users\\spanc\\anaconda3\\lib\\site-packages\\spacy\\tests\\lang\\af\\test_tokenizer.py\n",
      "    c:\\users\\spanc\\anaconda3\\lib\\site-packages\\spacy\\tests\\lang\\dsb\\__init__.py\n",
      "    c:\\users\\spanc\\anaconda3\\lib\\site-packages\\spacy\\tests\\lang\\dsb\\test_text.py\n",
      "    c:\\users\\spanc\\anaconda3\\lib\\site-packages\\spacy\\tests\\lang\\dsb\\test_tokenizer.py\n",
      "    c:\\users\\spanc\\anaconda3\\lib\\site-packages\\spacy\\tests\\lang\\en\\test_tokenizer.py\n",
      "    c:\\users\\spanc\\anaconda3\\lib\\site-packages\\spacy\\tests\\lang\\et\\__init__.py\n",
      "    c:\\users\\spanc\\anaconda3\\lib\\site-packages\\spacy\\tests\\lang\\et\\test_text.py\n",
      "    c:\\users\\spanc\\anaconda3\\lib\\site-packages\\spacy\\tests\\lang\\et\\test_tokenizer.py\n",
      "    c:\\users\\spanc\\anaconda3\\lib\\site-packages\\spacy\\tests\\lang\\fi\\test_noun_chunks.py\n",
      "    c:\\users\\spanc\\anaconda3\\lib\\site-packages\\spacy\\tests\\lang\\grc\\__init__.py\n",
      "    c:\\users\\spanc\\anaconda3\\lib\\site-packages\\spacy\\tests\\lang\\grc\\test_text.py\n",
      "    c:\\users\\spanc\\anaconda3\\lib\\site-packages\\spacy\\tests\\lang\\grc\\test_tokenizer.py\n",
      "    c:\\users\\spanc\\anaconda3\\lib\\site-packages\\spacy\\tests\\lang\\hi\\test_text.py\n",
      "    c:\\users\\spanc\\anaconda3\\lib\\site-packages\\spacy\\tests\\lang\\hr\\__init__.py\n",
      "    c:\\users\\spanc\\anaconda3\\lib\\site-packages\\spacy\\tests\\lang\\hr\\test_text.py\n",
      "    c:\\users\\spanc\\anaconda3\\lib\\site-packages\\spacy\\tests\\lang\\hr\\test_tokenizer.py\n",
      "    c:\\users\\spanc\\anaconda3\\lib\\site-packages\\spacy\\tests\\lang\\hsb\\__init__.py\n",
      "    c:\\users\\spanc\\anaconda3\\lib\\site-packages\\spacy\\tests\\lang\\hsb\\test_text.py\n",
      "    c:\\users\\spanc\\anaconda3\\lib\\site-packages\\spacy\\tests\\lang\\hsb\\test_tokenizer.py\n",
      "    c:\\users\\spanc\\anaconda3\\lib\\site-packages\\spacy\\tests\\lang\\is\\__init__.py\n",
      "    c:\\users\\spanc\\anaconda3\\lib\\site-packages\\spacy\\tests\\lang\\is\\test_text.py\n",
      "    c:\\users\\spanc\\anaconda3\\lib\\site-packages\\spacy\\tests\\lang\\is\\test_tokenizer.py\n",
      "    c:\\users\\spanc\\anaconda3\\lib\\site-packages\\spacy\\tests\\lang\\it\\test_noun_chunks.py\n",
      "    c:\\users\\spanc\\anaconda3\\lib\\site-packages\\spacy\\tests\\lang\\it\\test_stopwords.py\n",
      "    c:\\users\\spanc\\anaconda3\\lib\\site-packages\\spacy\\tests\\lang\\it\\test_text.py\n",
      "    c:\\users\\spanc\\anaconda3\\lib\\site-packages\\spacy\\tests\\lang\\ja\\test_morphologizer_factory.py\n",
      "    c:\\users\\spanc\\anaconda3\\lib\\site-packages\\spacy\\tests\\lang\\ko\\test_serialize.py\n",
      "    c:\\users\\spanc\\anaconda3\\lib\\site-packages\\spacy\\tests\\lang\\la\\__init__.py\n",
      "    c:\\users\\spanc\\anaconda3\\lib\\site-packages\\spacy\\tests\\lang\\la\\test_exception.py\n",
      "    c:\\users\\spanc\\anaconda3\\lib\\site-packages\\spacy\\tests\\lang\\la\\test_noun_chunks.py\n",
      "    c:\\users\\spanc\\anaconda3\\lib\\site-packages\\spacy\\tests\\lang\\la\\test_text.py\n",
      "    c:\\users\\spanc\\anaconda3\\lib\\site-packages\\spacy\\tests\\lang\\lg\\__init__.py\n",
      "    c:\\users\\spanc\\anaconda3\\lib\\site-packages\\spacy\\tests\\lang\\lg\\test_tokenizer.py\n",
      "    c:\\users\\spanc\\anaconda3\\lib\\site-packages\\spacy\\tests\\lang\\lv\\__init__.py\n",
      "    c:\\users\\spanc\\anaconda3\\lib\\site-packages\\spacy\\tests\\lang\\lv\\test_text.py\n",
      "    c:\\users\\spanc\\anaconda3\\lib\\site-packages\\spacy\\tests\\lang\\lv\\test_tokenizer.py\n",
      "    c:\\users\\spanc\\anaconda3\\lib\\site-packages\\spacy\\tests\\lang\\ms\\__init__.py\n",
      "    c:\\users\\spanc\\anaconda3\\lib\\site-packages\\spacy\\tests\\lang\\ms\\test_noun_chunks.py\n",
      "    c:\\users\\spanc\\anaconda3\\lib\\site-packages\\spacy\\tests\\lang\\ms\\test_prefix_suffix_infix.py\n",
      "    c:\\users\\spanc\\anaconda3\\lib\\site-packages\\spacy\\tests\\lang\\ms\\test_text.py\n",
      "    c:\\users\\spanc\\anaconda3\\lib\\site-packages\\spacy\\tests\\lang\\nl\\test_noun_chunks.py\n",
      "    c:\\users\\spanc\\anaconda3\\lib\\site-packages\\spacy\\tests\\lang\\pt\\test_noun_chunks.py\n",
      "    c:\\users\\spanc\\anaconda3\\lib\\site-packages\\spacy\\tests\\lang\\sk\\__init__.py\n",
      "    c:\\users\\spanc\\anaconda3\\lib\\site-packages\\spacy\\tests\\lang\\sk\\test_text.py\n",
      "    c:\\users\\spanc\\anaconda3\\lib\\site-packages\\spacy\\tests\\lang\\sk\\test_tokenizer.py\n",
      "    c:\\users\\spanc\\anaconda3\\lib\\site-packages\\spacy\\tests\\lang\\sl\\__init__.py\n",
      "    c:\\users\\spanc\\anaconda3\\lib\\site-packages\\spacy\\tests\\lang\\sl\\test_text.py\n",
      "    c:\\users\\spanc\\anaconda3\\lib\\site-packages\\spacy\\tests\\lang\\sl\\test_tokenizer.py\n",
      "    c:\\users\\spanc\\anaconda3\\lib\\site-packages\\spacy\\tests\\lang\\sq\\__init__.py\n",
      "    c:\\users\\spanc\\anaconda3\\lib\\site-packages\\spacy\\tests\\lang\\sq\\test_text.py\n",
      "    c:\\users\\spanc\\anaconda3\\lib\\site-packages\\spacy\\tests\\lang\\sq\\test_tokenizer.py\n",
      "    c:\\users\\spanc\\anaconda3\\lib\\site-packages\\spacy\\tests\\lang\\ta\\__init__.py\n",
      "    c:\\users\\spanc\\anaconda3\\lib\\site-packages\\spacy\\tests\\lang\\ta\\test_text.py\n",
      "    c:\\users\\spanc\\anaconda3\\lib\\site-packages\\spacy\\tests\\lang\\ta\\test_tokenizer.py\n",
      "    c:\\users\\spanc\\anaconda3\\lib\\site-packages\\spacy\\tests\\lang\\test_lemmatizers.py\n",
      "    c:\\users\\spanc\\anaconda3\\lib\\site-packages\\spacy\\tests\\lang\\th\\test_serialize.py\n",
      "    c:\\users\\spanc\\anaconda3\\lib\\site-packages\\spacy\\tests\\lang\\tl\\__init__.py\n",
      "    c:\\users\\spanc\\anaconda3\\lib\\site-packages\\spacy\\tests\\lang\\tl\\test_indices.py\n",
      "    c:\\users\\spanc\\anaconda3\\lib\\site-packages\\spacy\\tests\\lang\\tl\\test_punct.py\n",
      "    c:\\users\\spanc\\anaconda3\\lib\\site-packages\\spacy\\tests\\lang\\tl\\test_text.py\n",
      "    c:\\users\\spanc\\anaconda3\\lib\\site-packages\\spacy\\tests\\lang\\uk\\test_lemmatizer.py\n",
      "    c:\\users\\spanc\\anaconda3\\lib\\site-packages\\spacy\\tests\\lang\\vi\\__init__.py\n",
      "    c:\\users\\spanc\\anaconda3\\lib\\site-packages\\spacy\\tests\\lang\\vi\\test_serialize.py\n",
      "    c:\\users\\spanc\\anaconda3\\lib\\site-packages\\spacy\\tests\\lang\\vi\\test_tokenizer.py\n",
      "    c:\\users\\spanc\\anaconda3\\lib\\site-packages\\spacy\\tests\\lang\\xx\\__init__.py\n",
      "    c:\\users\\spanc\\anaconda3\\lib\\site-packages\\spacy\\tests\\lang\\xx\\test_text.py\n",
      "    c:\\users\\spanc\\anaconda3\\lib\\site-packages\\spacy\\tests\\lang\\xx\\test_tokenizer.py\n",
      "    c:\\users\\spanc\\anaconda3\\lib\\site-packages\\spacy\\tests\\matcher\\test_dependency_matcher.py\n",
      "    c:\\users\\spanc\\anaconda3\\lib\\site-packages\\spacy\\tests\\matcher\\test_levenshtein.py\n",
      "    c:\\users\\spanc\\anaconda3\\lib\\site-packages\\spacy\\tests\\morphology\\test_morph_converters.py\n",
      "    c:\\users\\spanc\\anaconda3\\lib\\site-packages\\spacy\\tests\\morphology\\test_morph_pickle.py\n",
      "    c:\\users\\spanc\\anaconda3\\lib\\site-packages\\spacy\\tests\\package\\__init__.py\n",
      "    c:\\users\\spanc\\anaconda3\\lib\\site-packages\\spacy\\tests\\package\\pyproject.toml\n",
      "    c:\\users\\spanc\\anaconda3\\lib\\site-packages\\spacy\\tests\\package\\requirements.txt\n",
      "    c:\\users\\spanc\\anaconda3\\lib\\site-packages\\spacy\\tests\\package\\setup.cfg\n",
      "    c:\\users\\spanc\\anaconda3\\lib\\site-packages\\spacy\\tests\\package\\test_requirements.py\n",
      "    c:\\users\\spanc\\anaconda3\\lib\\site-packages\\spacy\\tests\\parser\\test_state.py\n",
      "    c:\\users\\spanc\\anaconda3\\lib\\site-packages\\spacy\\tests\\pipeline\\test_annotates_on_update.py\n",
      "    c:\\users\\spanc\\anaconda3\\lib\\site-packages\\spacy\\tests\\pipeline\\test_attributeruler.py\n",
      "    c:\\users\\spanc\\anaconda3\\lib\\site-packages\\spacy\\tests\\pipeline\\test_edit_tree_lemmatizer.py\n",
      "    c:\\users\\spanc\\anaconda3\\lib\\site-packages\\spacy\\tests\\pipeline\\test_initialize.py\n",
      "    c:\\users\\spanc\\anaconda3\\lib\\site-packages\\spacy\\tests\\pipeline\\test_lemmatizer.py\n",
      "    c:\\users\\spanc\\anaconda3\\lib\\site-packages\\spacy\\tests\\pipeline\\test_models.py\n",
      "    c:\\users\\spanc\\anaconda3\\lib\\site-packages\\spacy\\tests\\pipeline\\test_morphologizer.py\n",
      "    c:\\users\\spanc\\anaconda3\\lib\\site-packages\\spacy\\tests\\pipeline\\test_pipe_factories.py\n",
      "    c:\\users\\spanc\\anaconda3\\lib\\site-packages\\spacy\\tests\\pipeline\\test_senter.py\n",
      "    c:\\users\\spanc\\anaconda3\\lib\\site-packages\\spacy\\tests\\pipeline\\test_span_finder.py\n",
      "    c:\\users\\spanc\\anaconda3\\lib\\site-packages\\spacy\\tests\\pipeline\\test_span_ruler.py\n",
      "    c:\\users\\spanc\\anaconda3\\lib\\site-packages\\spacy\\tests\\pipeline\\test_spancat.py\n",
      "    c:\\users\\spanc\\anaconda3\\lib\\site-packages\\spacy\\tests\\pipeline\\test_tok2vec.py\n",
      "    c:\\users\\spanc\\anaconda3\\lib\\site-packages\\spacy\\tests\\serialize\\test_resource_warning.py\n",
      "    c:\\users\\spanc\\anaconda3\\lib\\site-packages\\spacy\\tests\\serialize\\test_serialize_config.py\n",
      "    c:\\users\\spanc\\anaconda3\\lib\\site-packages\\spacy\\tests\\serialize\\test_serialize_docbin.py\n",
      "    c:\\users\\spanc\\anaconda3\\lib\\site-packages\\spacy\\tests\\serialize\\test_serialize_span_groups.py\n",
      "    c:\\users\\spanc\\anaconda3\\lib\\site-packages\\spacy\\tests\\test_cli_app.py\n",
      "    c:\\users\\spanc\\anaconda3\\lib\\site-packages\\spacy\\tests\\test_models.py\n",
      "    c:\\users\\spanc\\anaconda3\\lib\\site-packages\\spacy\\tests\\test_ty.py\n",
      "    c:\\users\\spanc\\anaconda3\\lib\\site-packages\\spacy\\tests\\training\\__init__.py\n",
      "    c:\\users\\spanc\\anaconda3\\lib\\site-packages\\spacy\\tests\\training\\test_augmenters.py\n",
      "    c:\\users\\spanc\\anaconda3\\lib\\site-packages\\spacy\\tests\\training\\test_corpus.py\n",
      "    c:\\users\\spanc\\anaconda3\\lib\\site-packages\\spacy\\tests\\training\\test_logger.py\n",
      "    c:\\users\\spanc\\anaconda3\\lib\\site-packages\\spacy\\tests\\training\\test_new_example.py\n",
      "    c:\\users\\spanc\\anaconda3\\lib\\site-packages\\spacy\\tests\\training\\test_pretraining.py\n",
      "    c:\\users\\spanc\\anaconda3\\lib\\site-packages\\spacy\\tests\\training\\test_readers.py\n",
      "    c:\\users\\spanc\\anaconda3\\lib\\site-packages\\spacy\\tests\\training\\test_rehearse.py\n",
      "    c:\\users\\spanc\\anaconda3\\lib\\site-packages\\spacy\\tests\\training\\test_training.py\n",
      "    c:\\users\\spanc\\anaconda3\\lib\\site-packages\\spacy\\tokens\\_dict_proxies.py\n",
      "    c:\\users\\spanc\\anaconda3\\lib\\site-packages\\spacy\\tokens\\_retokenize.pyi\n",
      "    c:\\users\\spanc\\anaconda3\\lib\\site-packages\\spacy\\tokens\\doc.pyi\n",
      "    c:\\users\\spanc\\anaconda3\\lib\\site-packages\\spacy\\tokens\\graph.cp311-win_amd64.pyd\n",
      "    c:\\users\\spanc\\anaconda3\\lib\\site-packages\\spacy\\tokens\\graph.cpp\n",
      "    c:\\users\\spanc\\anaconda3\\lib\\site-packages\\spacy\\tokens\\graph.pxd\n",
      "    c:\\users\\spanc\\anaconda3\\lib\\site-packages\\spacy\\tokens\\graph.pyx\n",
      "    c:\\users\\spanc\\anaconda3\\lib\\site-packages\\spacy\\tokens\\morphanalysis.pyi\n",
      "    c:\\users\\spanc\\anaconda3\\lib\\site-packages\\spacy\\tokens\\span.pyi\n",
      "    c:\\users\\spanc\\anaconda3\\lib\\site-packages\\spacy\\tokens\\span_group.cp311-win_amd64.pyd\n",
      "    c:\\users\\spanc\\anaconda3\\lib\\site-packages\\spacy\\tokens\\span_group.cpp\n",
      "    c:\\users\\spanc\\anaconda3\\lib\\site-packages\\spacy\\tokens\\span_group.pxd\n",
      "    c:\\users\\spanc\\anaconda3\\lib\\site-packages\\spacy\\tokens\\span_group.pyi\n",
      "    c:\\users\\spanc\\anaconda3\\lib\\site-packages\\spacy\\tokens\\span_group.pyx\n",
      "    c:\\users\\spanc\\anaconda3\\lib\\site-packages\\spacy\\tokens\\token.pyi\n",
      "    c:\\users\\spanc\\anaconda3\\lib\\site-packages\\spacy\\training\\__init__.pxd\n",
      "    c:\\users\\spanc\\anaconda3\\lib\\site-packages\\spacy\\training\\__init__.py\n",
      "    c:\\users\\spanc\\anaconda3\\lib\\site-packages\\spacy\\training\\align.cp311-win_amd64.pyd\n",
      "    c:\\users\\spanc\\anaconda3\\lib\\site-packages\\spacy\\training\\align.cpp\n",
      "    c:\\users\\spanc\\anaconda3\\lib\\site-packages\\spacy\\training\\align.pyx\n",
      "    c:\\users\\spanc\\anaconda3\\lib\\site-packages\\spacy\\training\\alignment.py\n",
      "    c:\\users\\spanc\\anaconda3\\lib\\site-packages\\spacy\\training\\alignment_array.cp311-win_amd64.pyd\n",
      "    c:\\users\\spanc\\anaconda3\\lib\\site-packages\\spacy\\training\\alignment_array.cpp\n",
      "    c:\\users\\spanc\\anaconda3\\lib\\site-packages\\spacy\\training\\alignment_array.pxd\n",
      "    c:\\users\\spanc\\anaconda3\\lib\\site-packages\\spacy\\training\\alignment_array.pyx\n",
      "    c:\\users\\spanc\\anaconda3\\lib\\site-packages\\spacy\\training\\augment.py\n",
      "    c:\\users\\spanc\\anaconda3\\lib\\site-packages\\spacy\\training\\batchers.py\n",
      "    c:\\users\\spanc\\anaconda3\\lib\\site-packages\\spacy\\training\\callbacks.py\n",
      "    c:\\users\\spanc\\anaconda3\\lib\\site-packages\\spacy\\training\\converters\\__init__.py\n",
      "    c:\\users\\spanc\\anaconda3\\lib\\site-packages\\spacy\\training\\converters\\conll_ner_to_docs.py\n",
      "    c:\\users\\spanc\\anaconda3\\lib\\site-packages\\spacy\\training\\converters\\conllu_to_docs.py\n",
      "    c:\\users\\spanc\\anaconda3\\lib\\site-packages\\spacy\\training\\converters\\iob_to_docs.py\n",
      "    c:\\users\\spanc\\anaconda3\\lib\\site-packages\\spacy\\training\\converters\\json_to_docs.py\n",
      "    c:\\users\\spanc\\anaconda3\\lib\\site-packages\\spacy\\training\\corpus.py\n",
      "    c:\\users\\spanc\\anaconda3\\lib\\site-packages\\spacy\\training\\example.cp311-win_amd64.pyd\n",
      "    c:\\users\\spanc\\anaconda3\\lib\\site-packages\\spacy\\training\\example.cpp\n",
      "    c:\\users\\spanc\\anaconda3\\lib\\site-packages\\spacy\\training\\example.pxd\n",
      "    c:\\users\\spanc\\anaconda3\\lib\\site-packages\\spacy\\training\\example.pyi\n",
      "    c:\\users\\spanc\\anaconda3\\lib\\site-packages\\spacy\\training\\example.pyx\n",
      "    c:\\users\\spanc\\anaconda3\\lib\\site-packages\\spacy\\training\\gold_io.cp311-win_amd64.pyd\n",
      "    c:\\users\\spanc\\anaconda3\\lib\\site-packages\\spacy\\training\\gold_io.cpp\n",
      "    c:\\users\\spanc\\anaconda3\\lib\\site-packages\\spacy\\training\\gold_io.pyx\n",
      "    c:\\users\\spanc\\anaconda3\\lib\\site-packages\\spacy\\training\\initialize.py\n",
      "    c:\\users\\spanc\\anaconda3\\lib\\site-packages\\spacy\\training\\iob_utils.py\n",
      "    c:\\users\\spanc\\anaconda3\\lib\\site-packages\\spacy\\training\\loggers.py\n",
      "    c:\\users\\spanc\\anaconda3\\lib\\site-packages\\spacy\\training\\loop.py\n",
      "    c:\\users\\spanc\\anaconda3\\lib\\site-packages\\spacy\\training\\pretrain.py\n",
      "    c:\\users\\spanc\\anaconda3\\lib\\site-packages\\spacy\\ty.py\n",
      "    c:\\users\\spanc\\anaconda3\\lib\\site-packages\\spacy\\vocab.pyi\n",
      "Proceed (Y/n)? \n"
     ]
    }
   ],
   "source": [
    "pip uninstall spacy"
   ]
  },
  {
   "cell_type": "code",
   "execution_count": 9,
   "id": "c1a14ab1",
   "metadata": {},
   "outputs": [
    {
     "name": "stderr",
     "output_type": "stream",
     "text": [
      "<frozen importlib._bootstrap>:241: RuntimeWarning: spacy.strings.StringStore size changed, may indicate binary incompatibility. Expected 64 from C header, got 80 from PyObject\n",
      "<frozen importlib._bootstrap>:241: RuntimeWarning: spacy.morphology.Morphology size changed, may indicate binary incompatibility. Expected 48 from C header, got 112 from PyObject\n"
     ]
    },
    {
     "ename": "ValueError",
     "evalue": "spacy.vocab.Vocab size changed, may indicate binary incompatibility. Expected 120 from C header, got 112 from PyObject",
     "output_type": "error",
     "traceback": [
      "\u001b[1;31m---------------------------------------------------------------------------\u001b[0m",
      "\u001b[1;31mValueError\u001b[0m                                Traceback (most recent call last)",
      "Cell \u001b[1;32mIn[9], line 1\u001b[0m\n\u001b[1;32m----> 1\u001b[0m \u001b[38;5;28;01mimport\u001b[39;00m \u001b[38;5;21;01mspacy\u001b[39;00m\n\u001b[0;32m      2\u001b[0m nlp\u001b[38;5;241m=\u001b[39mspacy\u001b[38;5;241m.\u001b[39mload(\u001b[38;5;124m'\u001b[39m\u001b[38;5;124men_core_web_sm\u001b[39m\u001b[38;5;124m'\u001b[39m)\n",
      "File \u001b[1;32m~\\anaconda3\\Lib\\site-packages\\spacy\\__init__.py:12\u001b[0m\n\u001b[0;32m      9\u001b[0m \u001b[38;5;66;03m# These are imported as part of the API\u001b[39;00m\n\u001b[0;32m     10\u001b[0m \u001b[38;5;28;01mfrom\u001b[39;00m \u001b[38;5;21;01mthinc\u001b[39;00m\u001b[38;5;21;01m.\u001b[39;00m\u001b[38;5;21;01mneural\u001b[39;00m\u001b[38;5;21;01m.\u001b[39;00m\u001b[38;5;21;01mutil\u001b[39;00m \u001b[38;5;28;01mimport\u001b[39;00m prefer_gpu, require_gpu\n\u001b[1;32m---> 12\u001b[0m \u001b[38;5;28;01mfrom\u001b[39;00m \u001b[38;5;21;01m.\u001b[39;00m \u001b[38;5;28;01mimport\u001b[39;00m pipeline\n\u001b[0;32m     13\u001b[0m \u001b[38;5;28;01mfrom\u001b[39;00m \u001b[38;5;21;01m.\u001b[39;00m\u001b[38;5;21;01mcli\u001b[39;00m\u001b[38;5;21;01m.\u001b[39;00m\u001b[38;5;21;01minfo\u001b[39;00m \u001b[38;5;28;01mimport\u001b[39;00m info \u001b[38;5;28;01mas\u001b[39;00m cli_info\n\u001b[0;32m     14\u001b[0m \u001b[38;5;28;01mfrom\u001b[39;00m \u001b[38;5;21;01m.\u001b[39;00m\u001b[38;5;21;01mglossary\u001b[39;00m \u001b[38;5;28;01mimport\u001b[39;00m explain\n",
      "File \u001b[1;32m~\\anaconda3\\Lib\\site-packages\\spacy\\pipeline\\__init__.py:4\u001b[0m\n\u001b[0;32m      1\u001b[0m \u001b[38;5;66;03m# coding: utf8\u001b[39;00m\n\u001b[0;32m      2\u001b[0m \u001b[38;5;28;01mfrom\u001b[39;00m \u001b[38;5;21;01m__future__\u001b[39;00m \u001b[38;5;28;01mimport\u001b[39;00m unicode_literals\n\u001b[1;32m----> 4\u001b[0m \u001b[38;5;28;01mfrom\u001b[39;00m \u001b[38;5;21;01m.\u001b[39;00m\u001b[38;5;21;01mpipes\u001b[39;00m \u001b[38;5;28;01mimport\u001b[39;00m Tagger, DependencyParser, EntityRecognizer, EntityLinker\n\u001b[0;32m      5\u001b[0m \u001b[38;5;28;01mfrom\u001b[39;00m \u001b[38;5;21;01m.\u001b[39;00m\u001b[38;5;21;01mpipes\u001b[39;00m \u001b[38;5;28;01mimport\u001b[39;00m TextCategorizer, Tensorizer, Pipe, Sentencizer\n\u001b[0;32m      6\u001b[0m \u001b[38;5;28;01mfrom\u001b[39;00m \u001b[38;5;21;01m.\u001b[39;00m\u001b[38;5;21;01mmorphologizer\u001b[39;00m \u001b[38;5;28;01mimport\u001b[39;00m Morphologizer\n",
      "File \u001b[1;32m~\\anaconda3\\Lib\\site-packages\\spacy\\pipeline\\pipes.pyx:30\u001b[0m, in \u001b[0;36minit spacy.pipeline.pipes\u001b[1;34m()\u001b[0m\n",
      "File \u001b[1;32m~\\anaconda3\\Lib\\site-packages\\spacy\\kb\\__init__.py:1\u001b[0m\n\u001b[1;32m----> 1\u001b[0m \u001b[38;5;28;01mfrom\u001b[39;00m \u001b[38;5;21;01m.\u001b[39;00m\u001b[38;5;21;01mcandidate\u001b[39;00m \u001b[38;5;28;01mimport\u001b[39;00m Candidate, get_candidates, get_candidates_batch\n\u001b[0;32m      2\u001b[0m \u001b[38;5;28;01mfrom\u001b[39;00m \u001b[38;5;21;01m.\u001b[39;00m\u001b[38;5;21;01mkb\u001b[39;00m \u001b[38;5;28;01mimport\u001b[39;00m KnowledgeBase\n\u001b[0;32m      3\u001b[0m \u001b[38;5;28;01mfrom\u001b[39;00m \u001b[38;5;21;01m.\u001b[39;00m\u001b[38;5;21;01mkb_in_memory\u001b[39;00m \u001b[38;5;28;01mimport\u001b[39;00m InMemoryLookupKB\n",
      "File \u001b[1;32m~\\anaconda3\\Lib\\site-packages\\spacy\\kb\\candidate.pyx:1\u001b[0m, in \u001b[0;36minit spacy.kb.candidate\u001b[1;34m()\u001b[0m\n",
      "\u001b[1;31mValueError\u001b[0m: spacy.vocab.Vocab size changed, may indicate binary incompatibility. Expected 120 from C header, got 112 from PyObject"
     ]
    }
   ],
   "source": [
    "import spacy\n",
    "nlp=spacy.load('en_core_web_sm')"
   ]
  },
  {
   "cell_type": "code",
   "execution_count": 8,
   "id": "2221de61",
   "metadata": {
    "collapsed": true
   },
   "outputs": [
    {
     "name": "stderr",
     "output_type": "stream",
     "text": [
      "<frozen importlib._bootstrap>:241: RuntimeWarning: spacy.strings.StringStore size changed, may indicate binary incompatibility. Expected 64 from C header, got 80 from PyObject\n",
      "<frozen importlib._bootstrap>:241: RuntimeWarning: spacy.morphology.Morphology size changed, may indicate binary incompatibility. Expected 48 from C header, got 112 from PyObject\n"
     ]
    },
    {
     "ename": "ValueError",
     "evalue": "spacy.vocab.Vocab size changed, may indicate binary incompatibility. Expected 120 from C header, got 112 from PyObject",
     "output_type": "error",
     "traceback": [
      "\u001b[1;31m---------------------------------------------------------------------------\u001b[0m",
      "\u001b[1;31mValueError\u001b[0m                                Traceback (most recent call last)",
      "Cell \u001b[1;32mIn[8], line 1\u001b[0m\n\u001b[1;32m----> 1\u001b[0m \u001b[38;5;28;01mfrom\u001b[39;00m \u001b[38;5;21;01mpyresparser\u001b[39;00m \u001b[38;5;28;01mimport\u001b[39;00m ResumeParser\n",
      "File \u001b[1;32m~\\anaconda3\\Lib\\site-packages\\pyresparser\\__init__.py:3\u001b[0m\n\u001b[0;32m      1\u001b[0m \u001b[38;5;28;01mfrom\u001b[39;00m \u001b[38;5;21;01m.\u001b[39;00m \u001b[38;5;28;01mimport\u001b[39;00m utils\n\u001b[0;32m      2\u001b[0m \u001b[38;5;28;01mfrom\u001b[39;00m \u001b[38;5;21;01m.\u001b[39;00m \u001b[38;5;28;01mimport\u001b[39;00m constants\n\u001b[1;32m----> 3\u001b[0m \u001b[38;5;28;01mfrom\u001b[39;00m \u001b[38;5;21;01m.\u001b[39;00m\u001b[38;5;21;01mresume_parser\u001b[39;00m \u001b[38;5;28;01mimport\u001b[39;00m ResumeParser\n\u001b[0;32m      5\u001b[0m __all__ \u001b[38;5;241m=\u001b[39m [\n\u001b[0;32m      6\u001b[0m     \u001b[38;5;124m'\u001b[39m\u001b[38;5;124mutils\u001b[39m\u001b[38;5;124m'\u001b[39m,\n\u001b[0;32m      7\u001b[0m     \u001b[38;5;124m'\u001b[39m\u001b[38;5;124mconstants\u001b[39m\u001b[38;5;124m'\u001b[39m,\n\u001b[0;32m      8\u001b[0m     \u001b[38;5;124m'\u001b[39m\u001b[38;5;124mResumeParser\u001b[39m\u001b[38;5;124m'\u001b[39m\n\u001b[0;32m      9\u001b[0m ]\n",
      "File \u001b[1;32m~\\anaconda3\\Lib\\site-packages\\pyresparser\\resume_parser.py:6\u001b[0m\n\u001b[0;32m      4\u001b[0m \u001b[38;5;28;01mimport\u001b[39;00m \u001b[38;5;21;01mmultiprocessing\u001b[39;00m \u001b[38;5;28;01mas\u001b[39;00m \u001b[38;5;21;01mmp\u001b[39;00m\n\u001b[0;32m      5\u001b[0m \u001b[38;5;28;01mimport\u001b[39;00m \u001b[38;5;21;01mio\u001b[39;00m\n\u001b[1;32m----> 6\u001b[0m \u001b[38;5;28;01mimport\u001b[39;00m \u001b[38;5;21;01mspacy\u001b[39;00m\n\u001b[0;32m      7\u001b[0m \u001b[38;5;28;01mimport\u001b[39;00m \u001b[38;5;21;01mpprint\u001b[39;00m\n\u001b[0;32m      8\u001b[0m \u001b[38;5;28;01mfrom\u001b[39;00m \u001b[38;5;21;01mspacy\u001b[39;00m\u001b[38;5;21;01m.\u001b[39;00m\u001b[38;5;21;01mmatcher\u001b[39;00m \u001b[38;5;28;01mimport\u001b[39;00m Matcher\n",
      "File \u001b[1;32m~\\anaconda3\\Lib\\site-packages\\spacy\\__init__.py:12\u001b[0m\n\u001b[0;32m      9\u001b[0m \u001b[38;5;66;03m# These are imported as part of the API\u001b[39;00m\n\u001b[0;32m     10\u001b[0m \u001b[38;5;28;01mfrom\u001b[39;00m \u001b[38;5;21;01mthinc\u001b[39;00m\u001b[38;5;21;01m.\u001b[39;00m\u001b[38;5;21;01mneural\u001b[39;00m\u001b[38;5;21;01m.\u001b[39;00m\u001b[38;5;21;01mutil\u001b[39;00m \u001b[38;5;28;01mimport\u001b[39;00m prefer_gpu, require_gpu\n\u001b[1;32m---> 12\u001b[0m \u001b[38;5;28;01mfrom\u001b[39;00m \u001b[38;5;21;01m.\u001b[39;00m \u001b[38;5;28;01mimport\u001b[39;00m pipeline\n\u001b[0;32m     13\u001b[0m \u001b[38;5;28;01mfrom\u001b[39;00m \u001b[38;5;21;01m.\u001b[39;00m\u001b[38;5;21;01mcli\u001b[39;00m\u001b[38;5;21;01m.\u001b[39;00m\u001b[38;5;21;01minfo\u001b[39;00m \u001b[38;5;28;01mimport\u001b[39;00m info \u001b[38;5;28;01mas\u001b[39;00m cli_info\n\u001b[0;32m     14\u001b[0m \u001b[38;5;28;01mfrom\u001b[39;00m \u001b[38;5;21;01m.\u001b[39;00m\u001b[38;5;21;01mglossary\u001b[39;00m \u001b[38;5;28;01mimport\u001b[39;00m explain\n",
      "File \u001b[1;32m~\\anaconda3\\Lib\\site-packages\\spacy\\pipeline\\__init__.py:4\u001b[0m\n\u001b[0;32m      1\u001b[0m \u001b[38;5;66;03m# coding: utf8\u001b[39;00m\n\u001b[0;32m      2\u001b[0m \u001b[38;5;28;01mfrom\u001b[39;00m \u001b[38;5;21;01m__future__\u001b[39;00m \u001b[38;5;28;01mimport\u001b[39;00m unicode_literals\n\u001b[1;32m----> 4\u001b[0m \u001b[38;5;28;01mfrom\u001b[39;00m \u001b[38;5;21;01m.\u001b[39;00m\u001b[38;5;21;01mpipes\u001b[39;00m \u001b[38;5;28;01mimport\u001b[39;00m Tagger, DependencyParser, EntityRecognizer, EntityLinker\n\u001b[0;32m      5\u001b[0m \u001b[38;5;28;01mfrom\u001b[39;00m \u001b[38;5;21;01m.\u001b[39;00m\u001b[38;5;21;01mpipes\u001b[39;00m \u001b[38;5;28;01mimport\u001b[39;00m TextCategorizer, Tensorizer, Pipe, Sentencizer\n\u001b[0;32m      6\u001b[0m \u001b[38;5;28;01mfrom\u001b[39;00m \u001b[38;5;21;01m.\u001b[39;00m\u001b[38;5;21;01mmorphologizer\u001b[39;00m \u001b[38;5;28;01mimport\u001b[39;00m Morphologizer\n",
      "File \u001b[1;32m~\\anaconda3\\Lib\\site-packages\\spacy\\pipeline\\pipes.pyx:30\u001b[0m, in \u001b[0;36minit spacy.pipeline.pipes\u001b[1;34m()\u001b[0m\n",
      "File \u001b[1;32m~\\anaconda3\\Lib\\site-packages\\spacy\\kb\\__init__.py:1\u001b[0m\n\u001b[1;32m----> 1\u001b[0m \u001b[38;5;28;01mfrom\u001b[39;00m \u001b[38;5;21;01m.\u001b[39;00m\u001b[38;5;21;01mcandidate\u001b[39;00m \u001b[38;5;28;01mimport\u001b[39;00m Candidate, get_candidates, get_candidates_batch\n\u001b[0;32m      2\u001b[0m \u001b[38;5;28;01mfrom\u001b[39;00m \u001b[38;5;21;01m.\u001b[39;00m\u001b[38;5;21;01mkb\u001b[39;00m \u001b[38;5;28;01mimport\u001b[39;00m KnowledgeBase\n\u001b[0;32m      3\u001b[0m \u001b[38;5;28;01mfrom\u001b[39;00m \u001b[38;5;21;01m.\u001b[39;00m\u001b[38;5;21;01mkb_in_memory\u001b[39;00m \u001b[38;5;28;01mimport\u001b[39;00m InMemoryLookupKB\n",
      "File \u001b[1;32m~\\anaconda3\\Lib\\site-packages\\spacy\\kb\\candidate.pyx:1\u001b[0m, in \u001b[0;36minit spacy.kb.candidate\u001b[1;34m()\u001b[0m\n",
      "\u001b[1;31mValueError\u001b[0m: spacy.vocab.Vocab size changed, may indicate binary incompatibility. Expected 120 from C header, got 112 from PyObject"
     ]
    }
   ],
   "source": [
    "from pyresparser import ResumeParser"
   ]
  },
  {
   "cell_type": "code",
   "execution_count": null,
   "id": "3a6f36e6",
   "metadata": {},
   "outputs": [],
   "source": [
    "import pandas as pd\n",
    "import numpy as np"
   ]
  },
  {
   "cell_type": "code",
   "execution_count": null,
   "id": "1d1bd621",
   "metadata": {
    "scrolled": true
   },
   "outputs": [],
   "source": [
    "original_res = pd.read_csv('mined.csv')\n",
    "original_res['Skill']= ''\n",
    "original_res['Exp']= ''\n",
    "original_res"
   ]
  },
  {
   "cell_type": "code",
   "execution_count": null,
   "id": "03dc7391",
   "metadata": {
    "scrolled": true
   },
   "outputs": [],
   "source": [
    "for index, row in original_res.iterrows():\n",
    "    data = ResumeParser(f'{index}.pdf').get_extracted_data()\n",
    "#     extracted_skill = f\"{data.get('skills')}\"\n",
    "#     original_res.at[index, 'Skill'] = extracted_skill\n",
    "    extracted_exp = f\"{data.get('total_exp')}\"\n",
    "    original_res.at[index, 'Exp'] = extracted_exp"
   ]
  },
  {
   "cell_type": "code",
   "execution_count": null,
   "id": "d48e53c5",
   "metadata": {},
   "outputs": [],
   "source": [
    "original_res.head()"
   ]
  },
  {
   "cell_type": "code",
   "execution_count": null,
   "id": "0b59efb5",
   "metadata": {},
   "outputs": [],
   "source": [
    "fine = original_res[['Category', 'Resume', 'Skill', 'Exp']]\n",
    "fine"
   ]
  },
  {
   "cell_type": "code",
   "execution_count": null,
   "id": "52398ce4",
   "metadata": {},
   "outputs": [],
   "source": [
    "fine.to_csv('fine.csv', index=False)"
   ]
  },
  {
   "cell_type": "code",
   "execution_count": null,
   "id": "ebe2d9f5",
   "metadata": {},
   "outputs": [],
   "source": [
    "fine['Skill'][0]"
   ]
  },
  {
   "cell_type": "code",
   "execution_count": null,
   "id": "036c2233",
   "metadata": {},
   "outputs": [],
   "source": [
    "# skill = original_res[['Category', 'Skill']]\n",
    "# skill.to_csv('skill.csv', index=False)"
   ]
  },
  {
   "cell_type": "code",
   "execution_count": null,
   "id": "0ac6d2d9",
   "metadata": {},
   "outputs": [],
   "source": [
    "skill"
   ]
  },
  {
   "cell_type": "code",
   "execution_count": null,
   "id": "9705c50c",
   "metadata": {},
   "outputs": [],
   "source": [
    "final['Category'].unique()"
   ]
  },
  {
   "cell_type": "code",
   "execution_count": null,
   "id": "86f8b8fa",
   "metadata": {},
   "outputs": [],
   "source": []
  }
 ],
 "metadata": {
  "kernelspec": {
   "display_name": "Python 3 (ipykernel)",
   "language": "python",
   "name": "python3"
  },
  "language_info": {
   "codemirror_mode": {
    "name": "ipython",
    "version": 3
   },
   "file_extension": ".py",
   "mimetype": "text/x-python",
   "name": "python",
   "nbconvert_exporter": "python",
   "pygments_lexer": "ipython3",
   "version": "3.11.5"
  }
 },
 "nbformat": 4,
 "nbformat_minor": 5
}
