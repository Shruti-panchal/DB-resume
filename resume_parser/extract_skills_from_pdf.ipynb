{
 "cells": [
  {
   "cell_type": "code",
   "execution_count": 1,
   "id": "968b2cc2",
   "metadata": {},
   "outputs": [
    {
     "name": "stdout",
     "output_type": "stream",
     "text": [
      "Requirement already satisfied: resume-parser in c:\\users\\spanc\\anaconda3\\lib\\site-packages (0.8.4)\n",
      "Requirement already satisfied: docx2txt>=0.8 in c:\\users\\spanc\\anaconda3\\lib\\site-packages (from resume-parser) (0.8)\n",
      "Requirement already satisfied: nltk>=3.5 in c:\\users\\spanc\\anaconda3\\lib\\site-packages (from resume-parser) (3.8.1)\n",
      "Requirement already satisfied: numpy>=1.19.1 in c:\\users\\spanc\\anaconda3\\lib\\site-packages (from resume-parser) (1.24.3)\n",
      "Requirement already satisfied: pandas>=1.1.0 in c:\\users\\spanc\\anaconda3\\lib\\site-packages (from resume-parser) (2.0.3)\n",
      "Requirement already satisfied: pdfminer.six>=20200517 in c:\\users\\spanc\\anaconda3\\lib\\site-packages (from resume-parser) (20221105)\n",
      "Requirement already satisfied: pdfplumber>=0.5.23 in c:\\users\\spanc\\anaconda3\\lib\\site-packages (from resume-parser) (0.10.3)\n",
      "Requirement already satisfied: phonenumbers>=8.12.7 in c:\\users\\spanc\\anaconda3\\lib\\site-packages (from resume-parser) (8.13.27)\n",
      "Requirement already satisfied: spacy>=2.3.2 in c:\\users\\spanc\\anaconda3\\lib\\site-packages (from resume-parser) (2.3.9)\n",
      "Requirement already satisfied: stemming>=1.0.1 in c:\\users\\spanc\\anaconda3\\lib\\site-packages (from resume-parser) (1.0.1)\n",
      "Requirement already satisfied: tika>=1.24 in c:\\users\\spanc\\anaconda3\\lib\\site-packages (from resume-parser) (2.6.0)\n",
      "Requirement already satisfied: click in c:\\users\\spanc\\anaconda3\\lib\\site-packages (from nltk>=3.5->resume-parser) (8.0.4)\n",
      "Requirement already satisfied: joblib in c:\\users\\spanc\\anaconda3\\lib\\site-packages (from nltk>=3.5->resume-parser) (1.2.0)\n",
      "Requirement already satisfied: regex>=2021.8.3 in c:\\users\\spanc\\anaconda3\\lib\\site-packages (from nltk>=3.5->resume-parser) (2022.7.9)\n",
      "Requirement already satisfied: tqdm in c:\\users\\spanc\\anaconda3\\lib\\site-packages (from nltk>=3.5->resume-parser) (4.65.0)\n",
      "Requirement already satisfied: python-dateutil>=2.8.2 in c:\\users\\spanc\\anaconda3\\lib\\site-packages (from pandas>=1.1.0->resume-parser) (2.8.2)\n",
      "Requirement already satisfied: pytz>=2020.1 in c:\\users\\spanc\\anaconda3\\lib\\site-packages (from pandas>=1.1.0->resume-parser) (2023.3.post1)\n",
      "Requirement already satisfied: tzdata>=2022.1 in c:\\users\\spanc\\anaconda3\\lib\\site-packages (from pandas>=1.1.0->resume-parser) (2023.3)\n",
      "Requirement already satisfied: charset-normalizer>=2.0.0 in c:\\users\\spanc\\anaconda3\\lib\\site-packages (from pdfminer.six>=20200517->resume-parser) (2.0.4)\n",
      "Requirement already satisfied: cryptography>=36.0.0 in c:\\users\\spanc\\anaconda3\\lib\\site-packages (from pdfminer.six>=20200517->resume-parser) (41.0.3)\n",
      "Requirement already satisfied: Pillow>=9.1 in c:\\users\\spanc\\anaconda3\\lib\\site-packages (from pdfplumber>=0.5.23->resume-parser) (9.4.0)\n",
      "Requirement already satisfied: pypdfium2>=4.18.0 in c:\\users\\spanc\\anaconda3\\lib\\site-packages (from pdfplumber>=0.5.23->resume-parser) (4.25.0)\n",
      "Requirement already satisfied: murmurhash<1.1.0,>=0.28.0 in c:\\users\\spanc\\anaconda3\\lib\\site-packages (from spacy>=2.3.2->resume-parser) (1.0.10)\n",
      "Requirement already satisfied: cymem<2.1.0,>=2.0.2 in c:\\users\\spanc\\anaconda3\\lib\\site-packages (from spacy>=2.3.2->resume-parser) (2.0.8)\n",
      "Requirement already satisfied: preshed<3.1.0,>=3.0.2 in c:\\users\\spanc\\anaconda3\\lib\\site-packages (from spacy>=2.3.2->resume-parser) (3.0.9)\n",
      "Requirement already satisfied: thinc<7.5.0,>=7.4.1 in c:\\users\\spanc\\anaconda3\\lib\\site-packages (from spacy>=2.3.2->resume-parser) (7.4.6)\n",
      "Requirement already satisfied: blis<0.8.0,>=0.4.0 in c:\\users\\spanc\\anaconda3\\lib\\site-packages (from spacy>=2.3.2->resume-parser) (0.7.10)\n",
      "Requirement already satisfied: wasabi<1.1.0,>=0.4.0 in c:\\users\\spanc\\anaconda3\\lib\\site-packages (from spacy>=2.3.2->resume-parser) (0.10.1)\n",
      "Requirement already satisfied: srsly<1.1.0,>=1.0.2 in c:\\users\\spanc\\anaconda3\\lib\\site-packages (from spacy>=2.3.2->resume-parser) (1.0.7)\n",
      "Requirement already satisfied: catalogue<1.1.0,>=0.0.7 in c:\\users\\spanc\\anaconda3\\lib\\site-packages (from spacy>=2.3.2->resume-parser) (1.0.2)\n",
      "Requirement already satisfied: setuptools in c:\\users\\spanc\\anaconda3\\lib\\site-packages (from spacy>=2.3.2->resume-parser) (69.0.3)\n",
      "Requirement already satisfied: plac<1.2.0,>=0.9.6 in c:\\users\\spanc\\anaconda3\\lib\\site-packages (from spacy>=2.3.2->resume-parser) (1.1.3)\n",
      "Requirement already satisfied: requests<3.0.0,>=2.13.0 in c:\\users\\spanc\\anaconda3\\lib\\site-packages (from spacy>=2.3.2->resume-parser) (2.31.0)\n",
      "Requirement already satisfied: cffi>=1.12 in c:\\users\\spanc\\anaconda3\\lib\\site-packages (from cryptography>=36.0.0->pdfminer.six>=20200517->resume-parser) (1.15.1)\n",
      "Requirement already satisfied: six>=1.5 in c:\\users\\spanc\\anaconda3\\lib\\site-packages (from python-dateutil>=2.8.2->pandas>=1.1.0->resume-parser) (1.16.0)\n",
      "Requirement already satisfied: idna<4,>=2.5 in c:\\users\\spanc\\anaconda3\\lib\\site-packages (from requests<3.0.0,>=2.13.0->spacy>=2.3.2->resume-parser) (3.4)\n",
      "Requirement already satisfied: urllib3<3,>=1.21.1 in c:\\users\\spanc\\anaconda3\\lib\\site-packages (from requests<3.0.0,>=2.13.0->spacy>=2.3.2->resume-parser) (1.26.16)\n",
      "Requirement already satisfied: certifi>=2017.4.17 in c:\\users\\spanc\\anaconda3\\lib\\site-packages (from requests<3.0.0,>=2.13.0->spacy>=2.3.2->resume-parser) (2023.11.17)\n",
      "Requirement already satisfied: colorama in c:\\users\\spanc\\anaconda3\\lib\\site-packages (from tqdm->nltk>=3.5->resume-parser) (0.4.6)\n",
      "Requirement already satisfied: pycparser in c:\\users\\spanc\\anaconda3\\lib\\site-packages (from cffi>=1.12->cryptography>=36.0.0->pdfminer.six>=20200517->resume-parser) (2.21)\n",
      "Note: you may need to restart the kernel to use updated packages.\n"
     ]
    }
   ],
   "source": [
    "pip install resume-parser"
   ]
  },
  {
   "cell_type": "code",
   "execution_count": 2,
   "id": "6ab2616a",
   "metadata": {},
   "outputs": [
    {
     "name": "stdout",
     "output_type": "stream",
     "text": [
      "Requirement already satisfied: nltk in c:\\users\\spanc\\anaconda3\\lib\\site-packages (3.8.1)\n",
      "Requirement already satisfied: click in c:\\users\\spanc\\anaconda3\\lib\\site-packages (from nltk) (8.0.4)\n",
      "Requirement already satisfied: joblib in c:\\users\\spanc\\anaconda3\\lib\\site-packages (from nltk) (1.2.0)\n",
      "Requirement already satisfied: regex>=2021.8.3 in c:\\users\\spanc\\anaconda3\\lib\\site-packages (from nltk) (2022.7.9)\n",
      "Requirement already satisfied: tqdm in c:\\users\\spanc\\anaconda3\\lib\\site-packages (from nltk) (4.65.0)\n",
      "Requirement already satisfied: colorama in c:\\users\\spanc\\anaconda3\\lib\\site-packages (from click->nltk) (0.4.6)\n",
      "Note: you may need to restart the kernel to use updated packages.\n"
     ]
    }
   ],
   "source": [
    "pip install nltk"
   ]
  },
  {
   "cell_type": "code",
   "execution_count": null,
   "id": "5a78fcf1",
   "metadata": {},
   "outputs": [],
   "source": [
    "pip install https://github.com/explosion/spacy-models/releases/download/en_core_web_sm-2.3.1/en_core_web_sm.tar.gz"
   ]
  },
  {
   "cell_type": "code",
   "execution_count": 5,
   "id": "123860eb",
   "metadata": {},
   "outputs": [
    {
     "name": "stdout",
     "output_type": "stream",
     "text": [
      "Requirement already satisfied: pyresparser in c:\\users\\spanc\\anaconda3\\lib\\site-packages (1.0.6)\n",
      "Requirement already satisfied: attrs>=19.1.0 in c:\\users\\spanc\\anaconda3\\lib\\site-packages (from pyresparser) (22.1.0)\n",
      "Requirement already satisfied: blis>=0.2.4 in c:\\users\\spanc\\anaconda3\\lib\\site-packages (from pyresparser) (0.7.10)\n",
      "Requirement already satisfied: certifi>=2019.6.16 in c:\\users\\spanc\\anaconda3\\lib\\site-packages (from pyresparser) (2023.11.17)\n",
      "Requirement already satisfied: chardet>=3.0.4 in c:\\users\\spanc\\anaconda3\\lib\\site-packages (from pyresparser) (4.0.0)\n",
      "Requirement already satisfied: cymem>=2.0.2 in c:\\users\\spanc\\anaconda3\\lib\\site-packages (from pyresparser) (2.0.8)\n",
      "Requirement already satisfied: docx2txt>=0.7 in c:\\users\\spanc\\anaconda3\\lib\\site-packages (from pyresparser) (0.8)\n",
      "Requirement already satisfied: idna>=2.8 in c:\\users\\spanc\\anaconda3\\lib\\site-packages (from pyresparser) (3.4)\n",
      "Requirement already satisfied: jsonschema>=3.0.1 in c:\\users\\spanc\\anaconda3\\lib\\site-packages (from pyresparser) (4.17.3)\n",
      "Requirement already satisfied: nltk>=3.4.3 in c:\\users\\spanc\\anaconda3\\lib\\site-packages (from pyresparser) (3.8.1)\n",
      "Requirement already satisfied: numpy>=1.16.4 in c:\\users\\spanc\\anaconda3\\lib\\site-packages (from pyresparser) (1.24.3)\n",
      "Requirement already satisfied: pandas>=0.24.2 in c:\\users\\spanc\\anaconda3\\lib\\site-packages (from pyresparser) (2.0.3)\n",
      "Requirement already satisfied: pdfminer.six>=20181108 in c:\\users\\spanc\\anaconda3\\lib\\site-packages (from pyresparser) (20221105)\n",
      "Requirement already satisfied: preshed>=2.0.1 in c:\\users\\spanc\\anaconda3\\lib\\site-packages (from pyresparser) (3.0.9)\n",
      "Requirement already satisfied: pycryptodome>=3.8.2 in c:\\users\\spanc\\anaconda3\\lib\\site-packages (from pyresparser) (3.19.1)\n",
      "Requirement already satisfied: pyrsistent>=0.15.2 in c:\\users\\spanc\\anaconda3\\lib\\site-packages (from pyresparser) (0.18.0)\n",
      "Requirement already satisfied: python-dateutil>=2.8.0 in c:\\users\\spanc\\anaconda3\\lib\\site-packages (from pyresparser) (2.8.2)\n",
      "Requirement already satisfied: pytz>=2019.1 in c:\\users\\spanc\\anaconda3\\lib\\site-packages (from pyresparser) (2023.3.post1)\n",
      "Requirement already satisfied: requests>=2.22.0 in c:\\users\\spanc\\anaconda3\\lib\\site-packages (from pyresparser) (2.31.0)\n",
      "Requirement already satisfied: six>=1.12.0 in c:\\users\\spanc\\anaconda3\\lib\\site-packages (from pyresparser) (1.16.0)\n",
      "Requirement already satisfied: sortedcontainers>=2.1.0 in c:\\users\\spanc\\anaconda3\\lib\\site-packages (from pyresparser) (2.4.0)\n",
      "Requirement already satisfied: spacy>=2.1.4 in c:\\users\\spanc\\anaconda3\\lib\\site-packages (from pyresparser) (2.3.9)\n",
      "Requirement already satisfied: srsly>=0.0.7 in c:\\users\\spanc\\anaconda3\\lib\\site-packages (from pyresparser) (1.0.7)\n",
      "Requirement already satisfied: thinc>=7.0.4 in c:\\users\\spanc\\anaconda3\\lib\\site-packages (from pyresparser) (7.4.6)\n",
      "Requirement already satisfied: tqdm>=4.32.2 in c:\\users\\spanc\\anaconda3\\lib\\site-packages (from pyresparser) (4.65.0)\n",
      "Requirement already satisfied: urllib3>=1.25.3 in c:\\users\\spanc\\anaconda3\\lib\\site-packages (from pyresparser) (1.26.16)\n",
      "Requirement already satisfied: wasabi>=0.2.2 in c:\\users\\spanc\\anaconda3\\lib\\site-packages (from pyresparser) (0.10.1)\n",
      "Requirement already satisfied: click in c:\\users\\spanc\\anaconda3\\lib\\site-packages (from nltk>=3.4.3->pyresparser) (8.0.4)\n",
      "Requirement already satisfied: joblib in c:\\users\\spanc\\anaconda3\\lib\\site-packages (from nltk>=3.4.3->pyresparser) (1.2.0)\n",
      "Requirement already satisfied: regex>=2021.8.3 in c:\\users\\spanc\\anaconda3\\lib\\site-packages (from nltk>=3.4.3->pyresparser) (2022.7.9)\n",
      "Requirement already satisfied: tzdata>=2022.1 in c:\\users\\spanc\\anaconda3\\lib\\site-packages (from pandas>=0.24.2->pyresparser) (2023.3)\n",
      "Requirement already satisfied: charset-normalizer>=2.0.0 in c:\\users\\spanc\\anaconda3\\lib\\site-packages (from pdfminer.six>=20181108->pyresparser) (2.0.4)\n",
      "Requirement already satisfied: cryptography>=36.0.0 in c:\\users\\spanc\\anaconda3\\lib\\site-packages (from pdfminer.six>=20181108->pyresparser) (41.0.3)\n",
      "Requirement already satisfied: murmurhash<1.1.0,>=0.28.0 in c:\\users\\spanc\\anaconda3\\lib\\site-packages (from preshed>=2.0.1->pyresparser) (1.0.10)\n",
      "Requirement already satisfied: catalogue<1.1.0,>=0.0.7 in c:\\users\\spanc\\anaconda3\\lib\\site-packages (from spacy>=2.1.4->pyresparser) (1.0.2)\n",
      "Requirement already satisfied: setuptools in c:\\users\\spanc\\anaconda3\\lib\\site-packages (from spacy>=2.1.4->pyresparser) (69.0.3)\n",
      "Requirement already satisfied: plac<1.2.0,>=0.9.6 in c:\\users\\spanc\\anaconda3\\lib\\site-packages (from spacy>=2.1.4->pyresparser) (1.1.3)\n",
      "Requirement already satisfied: colorama in c:\\users\\spanc\\anaconda3\\lib\\site-packages (from tqdm>=4.32.2->pyresparser) (0.4.6)\n",
      "Requirement already satisfied: cffi>=1.12 in c:\\users\\spanc\\anaconda3\\lib\\site-packages (from cryptography>=36.0.0->pdfminer.six>=20181108->pyresparser) (1.15.1)\n",
      "Requirement already satisfied: pycparser in c:\\users\\spanc\\anaconda3\\lib\\site-packages (from cffi>=1.12->cryptography>=36.0.0->pdfminer.six>=20181108->pyresparser) (2.21)\n",
      "Note: you may need to restart the kernel to use updated packages.\n"
     ]
    }
   ],
   "source": [
    "pip install pyresparser"
   ]
  },
  {
   "cell_type": "code",
   "execution_count": 6,
   "id": "215f9c4e",
   "metadata": {},
   "outputs": [
    {
     "name": "stdout",
     "output_type": "stream",
     "text": [
      "Requirement already satisfied: pip in c:\\users\\spanc\\anaconda3\\lib\\site-packages (23.3.2)\n",
      "Requirement already satisfied: setuptools in c:\\users\\spanc\\anaconda3\\lib\\site-packages (69.0.3)\n",
      "Requirement already satisfied: wheel in c:\\users\\spanc\\anaconda3\\lib\\site-packages (0.42.0)\n",
      "Note: you may need to restart the kernel to use updated packages.\n"
     ]
    }
   ],
   "source": [
    "pip install -U pip setuptools wheel"
   ]
  },
  {
   "cell_type": "code",
   "execution_count": 7,
   "id": "c1a14ab1",
   "metadata": {},
   "outputs": [
    {
     "ename": "ModuleNotFoundError",
     "evalue": "No module named 'thinc.util'",
     "output_type": "error",
     "traceback": [
      "\u001b[1;31m---------------------------------------------------------------------------\u001b[0m",
      "\u001b[1;31mModuleNotFoundError\u001b[0m                       Traceback (most recent call last)",
      "Cell \u001b[1;32mIn[7], line 1\u001b[0m\n\u001b[1;32m----> 1\u001b[0m \u001b[38;5;28;01mimport\u001b[39;00m \u001b[38;5;21;01mspacy\u001b[39;00m\n\u001b[0;32m      2\u001b[0m nlp\u001b[38;5;241m=\u001b[39mspacy\u001b[38;5;241m.\u001b[39mload(\u001b[38;5;124m'\u001b[39m\u001b[38;5;124men_core_web_sm\u001b[39m\u001b[38;5;124m'\u001b[39m)\n",
      "File \u001b[1;32m~\\anaconda3\\Lib\\site-packages\\spacy\\__init__.py:6\u001b[0m\n\u001b[0;32m      3\u001b[0m \u001b[38;5;28;01mfrom\u001b[39;00m \u001b[38;5;21;01mtyping\u001b[39;00m \u001b[38;5;28;01mimport\u001b[39;00m Any, Dict, Iterable, Union\n\u001b[0;32m      5\u001b[0m \u001b[38;5;66;03m# set library-specific custom warning handling before doing anything else\u001b[39;00m\n\u001b[1;32m----> 6\u001b[0m \u001b[38;5;28;01mfrom\u001b[39;00m \u001b[38;5;21;01m.\u001b[39;00m\u001b[38;5;21;01merrors\u001b[39;00m \u001b[38;5;28;01mimport\u001b[39;00m setup_default_warnings\n\u001b[0;32m      8\u001b[0m setup_default_warnings()  \u001b[38;5;66;03m# noqa: E402\u001b[39;00m\n\u001b[0;32m     10\u001b[0m \u001b[38;5;66;03m# These are imported as part of the API\u001b[39;00m\n",
      "File \u001b[1;32m~\\anaconda3\\Lib\\site-packages\\spacy\\errors.py:3\u001b[0m\n\u001b[0;32m      1\u001b[0m \u001b[38;5;28;01mimport\u001b[39;00m \u001b[38;5;21;01mwarnings\u001b[39;00m\n\u001b[1;32m----> 3\u001b[0m \u001b[38;5;28;01mfrom\u001b[39;00m \u001b[38;5;21;01m.\u001b[39;00m\u001b[38;5;21;01mcompat\u001b[39;00m \u001b[38;5;28;01mimport\u001b[39;00m Literal\n\u001b[0;32m      6\u001b[0m \u001b[38;5;28;01mclass\u001b[39;00m \u001b[38;5;21;01mErrorsWithCodes\u001b[39;00m(\u001b[38;5;28mtype\u001b[39m):\n\u001b[0;32m      7\u001b[0m     \u001b[38;5;28;01mdef\u001b[39;00m \u001b[38;5;21m__getattribute__\u001b[39m(\u001b[38;5;28mself\u001b[39m, code):\n",
      "File \u001b[1;32m~\\anaconda3\\Lib\\site-packages\\spacy\\compat.py:4\u001b[0m\n\u001b[0;32m      1\u001b[0m \u001b[38;5;124;03m\"\"\"Helpers for Python and platform compatibility.\"\"\"\u001b[39;00m\n\u001b[0;32m      2\u001b[0m \u001b[38;5;28;01mimport\u001b[39;00m \u001b[38;5;21;01msys\u001b[39;00m\n\u001b[1;32m----> 4\u001b[0m \u001b[38;5;28;01mfrom\u001b[39;00m \u001b[38;5;21;01mthinc\u001b[39;00m\u001b[38;5;21;01m.\u001b[39;00m\u001b[38;5;21;01mutil\u001b[39;00m \u001b[38;5;28;01mimport\u001b[39;00m copy_array\n\u001b[0;32m      6\u001b[0m \u001b[38;5;28;01mtry\u001b[39;00m:\n\u001b[0;32m      7\u001b[0m     \u001b[38;5;28;01mimport\u001b[39;00m \u001b[38;5;21;01mcPickle\u001b[39;00m \u001b[38;5;28;01mas\u001b[39;00m \u001b[38;5;21;01mpickle\u001b[39;00m\n",
      "\u001b[1;31mModuleNotFoundError\u001b[0m: No module named 'thinc.util'"
     ]
    }
   ],
   "source": [
    "import spacy\n",
    "nlp=spacy.load('en_core_web_sm')"
   ]
  },
  {
   "cell_type": "code",
   "execution_count": null,
   "id": "2221de61",
   "metadata": {},
   "outputs": [],
   "source": [
    "from pyresparser import ResumeParser"
   ]
  },
  {
   "cell_type": "code",
   "execution_count": null,
   "id": "3a6f36e6",
   "metadata": {},
   "outputs": [],
   "source": [
    "import pandas as pd\n",
    "import numpy as np"
   ]
  },
  {
   "cell_type": "code",
   "execution_count": null,
   "id": "1d1bd621",
   "metadata": {
    "scrolled": true
   },
   "outputs": [],
   "source": [
    "original_res = pd.read_csv('mined.csv')\n",
    "original_res['Skill']= ''\n",
    "original_res['Exp']= ''\n",
    "original_res"
   ]
  },
  {
   "cell_type": "code",
   "execution_count": null,
   "id": "03dc7391",
   "metadata": {
    "scrolled": true
   },
   "outputs": [],
   "source": [
    "for index, row in original_res.iterrows():\n",
    "    data = ResumeParser(f'{index}.pdf').get_extracted_data()\n",
    "    extracted_skill = f\"{data.get('skills')}\"\n",
    "    original_res.at[index, 'Skill'] = extracted_skill\n",
    "#     extracted_exp = f\"{data.get('total_exp')}\"\n",
    "#     original_res.at[index, 'Exp'] = extracted_exp"
   ]
  },
  {
   "cell_type": "code",
   "execution_count": null,
   "id": "d48e53c5",
   "metadata": {},
   "outputs": [],
   "source": [
    "original_res.head()"
   ]
  },
  {
   "cell_type": "code",
   "execution_count": null,
   "id": "0b59efb5",
   "metadata": {},
   "outputs": [],
   "source": [
    "fine = original_res[['Category', 'Resume', 'Skill', 'Exp']]\n",
    "fine"
   ]
  },
  {
   "cell_type": "code",
   "execution_count": null,
   "id": "52398ce4",
   "metadata": {},
   "outputs": [],
   "source": [
    "fine.to_csv('fine.csv', index=False)"
   ]
  },
  {
   "cell_type": "code",
   "execution_count": null,
   "id": "ebe2d9f5",
   "metadata": {},
   "outputs": [],
   "source": [
    "fine['Skill'][0]"
   ]
  },
  {
   "cell_type": "code",
   "execution_count": null,
   "id": "036c2233",
   "metadata": {},
   "outputs": [],
   "source": [
    "skill = original_res[['Category', 'Skill']]\n",
    "skill.to_csv('auto_skill.csv', index=False)"
   ]
  },
  {
   "cell_type": "code",
   "execution_count": null,
   "id": "86f8b8fa",
   "metadata": {},
   "outputs": [],
   "source": []
  }
 ],
 "metadata": {
  "kernelspec": {
   "display_name": "Python 3 (ipykernel)",
   "language": "python",
   "name": "python3"
  },
  "language_info": {
   "codemirror_mode": {
    "name": "ipython",
    "version": 3
   },
   "file_extension": ".py",
   "mimetype": "text/x-python",
   "name": "python",
   "nbconvert_exporter": "python",
   "pygments_lexer": "ipython3",
   "version": "3.11.5"
  }
 },
 "nbformat": 4,
 "nbformat_minor": 5
}
